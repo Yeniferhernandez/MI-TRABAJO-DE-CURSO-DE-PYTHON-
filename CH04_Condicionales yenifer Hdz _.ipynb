{
  "nbformat": 4,
  "nbformat_minor": 0,
  "metadata": {
    "colab": {
      "provenance": [],
      "authorship_tag": "ABX9TyOyoo5nZPF++5jDADJ2GQ2S",
      "include_colab_link": true
    },
    "kernelspec": {
      "name": "python3",
      "display_name": "Python 3"
    },
    "language_info": {
      "name": "python"
    }
  },
  "cells": [
    {
      "cell_type": "markdown",
      "metadata": {
        "id": "view-in-github",
        "colab_type": "text"
      },
      "source": [
        "<a href=\"https://colab.research.google.com/github/Yeniferhernandez/MI-TRABAJO-DE-CURSO-DE-PYTHON-/blob/main/CH04_Condicionales%20yenifer%20Hdz%20_.ipynb\" target=\"_parent\"><img src=\"https://colab.research.google.com/assets/colab-badge.svg\" alt=\"Open In Colab\"/></a>"
      ]
    },
    {
      "cell_type": "markdown",
      "source": [
        "#Condicionales\n",
        "\n",
        "\n",
        "Las sentencias condicionales o simplemente condicionales, nos permite controlar o condicionar el flujo de nuestro código.\n",
        "\n",
        "Dicho de otro modo, nos permite tomar decisiones.\n",
        "\n",
        "Palabras clave: if, elif, else\n",
        "\n",
        "#Bloque de código\n",
        "\n",
        "\n",
        "Es un grupo de sentencias (líneas de código) que se ejecuta como una unidad.\n",
        "Están relacionadas y se encuentran bien delimitadas.\n",
        "En Python se usa la identación (4 espacios o 1 tabulación (tab)) al inicio de la línea de código."
      ],
      "metadata": {
        "id": "kBI94ucwrV2s"
      }
    },
    {
      "cell_type": "markdown",
      "source": [
        "#Depuración de código\n",
        "IndentationError: expected an indented block Este error sucede cuando no tenemos los 4 espacios o 1 tabulación (tab)"
      ],
      "metadata": {
        "id": "dlIfp7sTrmQX"
      }
    },
    {
      "cell_type": "markdown",
      "source": [
        "# Condicional if\n",
        "\n",
        "Si se cumple la condición, se ejecuta el bloque de código.\n",
        "\n",
        "```\n",
        "if condicion:\n",
        "----bloque de código que se ejecuta.\n",
        "\n",
        "if condicion:\n",
        "    bloque de código que se ejecuta.\n",
        "\n",
        "if True:\n",
        "    bloque de código que se ejecuta.\n",
        "    \n",
        "\n",
        "# Nota: los guiones son una ayuda visual para identificar la identación.\n",
        "```"
      ],
      "metadata": {
        "id": "YBchsmAAsYT6"
      }
    },
    {
      "cell_type": "markdown",
      "source": [
        "#La condición siempre se evalúa.\n",
        "\n",
        "Si es True se ejecuta el bloque\n",
        "\n",
        "\n",
        "Si es False NO se ejecuta el bloque"
      ],
      "metadata": {
        "id": "CeWEBidOsi3u"
      }
    },
    {
      "cell_type": "markdown",
      "source": [
        "Es lunes por la mañana, suena el timbre, despierto con flojera y pienso:\n",
        "\n",
        "¿Me quedo más tiempo en la cama o me levanto?\n",
        "accion = 'dormir' ó accion = 'levantarse'\n",
        "\n",
        "if accion == 'dormir':\n",
        "    # Inicia bloque\n",
        "    print('Llegaré tarde a trabajar')\n",
        "    print('Me la juego')\n",
        "    # Termina bloque\n",
        "\n",
        "print('Hoy si me duermo más temprano')"
      ],
      "metadata": {
        "id": "7M8lVYnDsvrE"
      }
    },
    {
      "cell_type": "code",
      "source": [],
      "metadata": {
        "id": "H2XC-ChLs8b7"
      },
      "execution_count": null,
      "outputs": []
    },
    {
      "cell_type": "code",
      "source": [
        "accion = True\n",
        "if accion:\n",
        "  print('Se ejecuta este código')"
      ],
      "metadata": {
        "colab": {
          "base_uri": "https://localhost:8080/"
        },
        "id": "zdxRnd-Fs9Kp",
        "outputId": "d28ce78c-f7fd-4148-a2f2-0e2c4904f8db"
      },
      "execution_count": 2,
      "outputs": [
        {
          "output_type": "stream",
          "name": "stdout",
          "text": [
            "Se ejecuta este código\n"
          ]
        }
      ]
    },
    {
      "cell_type": "markdown",
      "source": [
        "#Condicional if, else\n",
        "Si se cumple la condición, se ejecuta el primer bloque de código.\n",
        "Si NO se cumple la condición, se ejecuta el segundo bloque de código\n",
        "\n",
        "if condicion:\n",
        "----PRIMER bloque de código.\n",
        "\n",
        "else:\n",
        "----SEGUNDO bloque de código.\n",
        "\n",
        "\n",
        "\n",
        "Nota: El condicional else es opcional, pero es una buena práctica siempre escribirlo para finalizar nuestro condicional."
      ],
      "metadata": {
        "id": "wfVRFhYPuPCT"
      }
    },
    {
      "cell_type": "code",
      "source": [
        "accion = 'dormir'\n",
        "# accion = 'levantarse'\n",
        "\n",
        "if accion == 'dormir':\n",
        "  print('Llegaré tarde a trabajar')\n",
        "else:\n",
        "  print('LLegaré con sueño al trabajo')"
      ],
      "metadata": {
        "colab": {
          "base_uri": "https://localhost:8080/"
        },
        "id": "9SqQlgFauXDW",
        "outputId": "319df942-a1a9-49fa-8309-6c7be532cb1b"
      },
      "execution_count": 3,
      "outputs": [
        {
          "output_type": "stream",
          "name": "stdout",
          "text": [
            "Llegaré tarde a trabajar\n"
          ]
        }
      ]
    },
    {
      "cell_type": "markdown",
      "source": [],
      "metadata": {
        "id": "1eb0TSFQvFZ2"
      }
    },
    {
      "cell_type": "markdown",
      "source": [
        "# Condicional if, else, elif\n",
        "\n",
        "Con el condicional **if** iniciamos la evaluación, y con **else** cerramos la evaluación. <br>\n",
        "\n",
        "El condicional **elif** es la parte intermedia, que nos permite tener más de dos opciones.\n",
        "\n",
        "\n",
        "\n",
        "```\n",
        "if condicion:\n",
        "----PRIMER bloque de código.\n",
        "elif condicion:\n",
        "----SEGUNDO bloque de código.\n",
        "elif condicion:\n",
        "----TERCER bloque de código.\n",
        "else:\n",
        "----CUARTO bloque de código.\n",
        "```"
      ],
      "metadata": {
        "id": "p0CudfWlt4Ih"
      }
    },
    {
      "cell_type": "code",
      "source": [
        "accion = 'dormir'\n",
        "# accion = 'levantarse'\n",
        "\n",
        "if accion == 'dormir':\n",
        "  print('Llegaré tarde a trabajar')\n",
        "elif accion == 'levantarse':\n",
        "  print('LLegaré con sueño al trabajo')\n",
        "else:\n",
        "  print('Error: los valores aceptados son: `dormir` ó `levantarse`')"
      ],
      "metadata": {
        "colab": {
          "base_uri": "https://localhost:8080/"
        },
        "id": "uf1lgO4kvHMe",
        "outputId": "933a22ec-9a6b-4ae1-98ac-6ad0197c6e66"
      },
      "execution_count": 4,
      "outputs": [
        {
          "output_type": "stream",
          "name": "stdout",
          "text": [
            "Llegaré tarde a trabajar\n"
          ]
        }
      ]
    },
    {
      "cell_type": "code",
      "source": [
        "temperatura = 15\n",
        "\n",
        "if temperatura < 0:\n",
        "  print('Me congelo!!')\n",
        "elif temperatura >= 0 and temperatura <= 10:\n",
        "  print('Que frío!!')\n",
        "else:\n",
        "  print('Hace calorcito')"
      ],
      "metadata": {
        "colab": {
          "base_uri": "https://localhost:8080/"
        },
        "id": "idvnfhbuMZXm",
        "outputId": "474a243c-ef8e-44e0-bd81-196322c5f5ca"
      },
      "execution_count": 5,
      "outputs": [
        {
          "output_type": "stream",
          "name": "stdout",
          "text": [
            "Hace calorcito\n"
          ]
        }
      ]
    },
    {
      "cell_type": "markdown",
      "source": [
        "# Lab: 'No voy a trabajar'\n",
        "\n",
        "Convertir la canción *No voy a trabajar* a una sentencia de tipo if, elif, else, para los días de la semana."
      ],
      "metadata": {
        "id": "vz7OwH8_Mhn7"
      }
    },
    {
      "cell_type": "code",
      "source": [
        " #Día Lunes"
      ],
      "metadata": {
        "id": "3i67E5cpiYkT"
      },
      "execution_count": 20,
      "outputs": []
    },
    {
      "cell_type": "code",
      "source": [
        " Día='Lunes'\n",
        "   # Día = 'miercoles'\n",
        "\n",
        "if Día == 'Lunes' :\n",
        "  print('inicio de semana?' )\n",
        "elif Día == 'mércoles' :\n",
        "  print('se casa la patrona, que pachangona')\n",
        "elif Día  == 'sábado':\n",
        "    print('trabajo medio día , por medio día')\n",
        "else:\n",
        "  print('error:no voy a trabajar,no voy a trabajar')"
      ],
      "metadata": {
        "colab": {
          "base_uri": "https://localhost:8080/"
        },
        "id": "_Etc5nhFMiud",
        "outputId": "7cdaeea6-cd40-4c98-f543-4b60c19deaae"
      },
      "execution_count": 36,
      "outputs": [
        {
          "output_type": "stream",
          "name": "stdout",
          "text": [
            "inicio de semana?\n"
          ]
        }
      ]
    }
  ]
}