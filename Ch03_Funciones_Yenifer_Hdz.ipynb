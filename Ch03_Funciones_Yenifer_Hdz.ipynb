{
  "nbformat": 4,
  "nbformat_minor": 0,
  "metadata": {
    "colab": {
      "provenance": [],
      "authorship_tag": "ABX9TyOVxL/XrXVCjrH8YtBSLkxw",
      "include_colab_link": true
    },
    "kernelspec": {
      "name": "python3",
      "display_name": "Python 3"
    },
    "language_info": {
      "name": "python"
    }
  },
  "cells": [
    {
      "cell_type": "markdown",
      "metadata": {
        "id": "view-in-github",
        "colab_type": "text"
      },
      "source": [
        "<a href=\"https://colab.research.google.com/github/Yeniferhernandez/MI-TRABAJO-DE-CURSO-DE-PYTHON-/blob/main/Ch03_Funciones_Yenifer_Hdz.ipynb\" target=\"_parent\"><img src=\"https://colab.research.google.com/assets/colab-badge.svg\" alt=\"Open In Colab\"/></a>"
      ]
    },
    {
      "cell_type": "markdown",
      "source": [
        "#Ejercicio 1\n",
        "\n",
        "1.Escribe una función que tome dos números; resta el segundo del primero y devuelve la diferencia. Escriba dos casos de prueba.\n",
        "\n",
        "\n",
        "\n"
      ],
      "metadata": {
        "id": "Ch1mRwRpHKXI"
      }
    },
    {
      "cell_type": "code",
      "source": [
        "#solution to exercise 1\n",
        "def sub(num1,num2):\n",
        "      return num1-num2"
      ],
      "metadata": {
        "id": "1dVxglZKHTNu"
      },
      "execution_count": 40,
      "outputs": []
    },
    {
      "cell_type": "code",
      "source": [
        "def test_sub():\n",
        "      assert sub(200,100)==100\n",
        "      assert sub(90,50)==40\n",
        "      print('all test cases passed for sub()!')"
      ],
      "metadata": {
        "id": "W3MXIKYzNgY6"
      },
      "execution_count": 38,
      "outputs": []
    },
    {
      "cell_type": "code",
      "source": [
        "test_sub()"
      ],
      "metadata": {
        "colab": {
          "base_uri": "https://localhost:8080/"
        },
        "id": "dtB7rOE5QQJV",
        "outputId": "3831e640-0ebd-42a5-aa28-1e43243d37fa"
      },
      "execution_count": 41,
      "outputs": [
        {
          "output_type": "stream",
          "name": "stdout",
          "text": [
            "all test cases passed for sub()!\n"
          ]
        }
      ]
    },
    {
      "cell_type": "markdown",
      "source": [
        "#Ejercico 2\n",
        "\n",
        "Escribe una función que convierta segundos a horas, minutos y segundos. La función luego devuelve los valores en formato HH:MM:SS (p. ej., 01:09:10)"
      ],
      "metadata": {
        "id": "Hwysu11JQUyK"
      }
    },
    {
      "cell_type": "code",
      "source": [
        "def get_time(seconds) :\n",
        "      pass"
      ],
      "metadata": {
        "id": "6IoRY07zQkS4"
      },
      "execution_count": 15,
      "outputs": []
    },
    {
      "cell_type": "code",
      "source": [
        "#here are some text taht should pass :\n",
        "def test_get_time():\n",
        "  assert get_time(3600)=='2:0:0'\n",
        "  assert get_time(3661)=='2:2:2'\n",
        "  assert get_time(3666)=='2:2:7'\n",
        "  assert get_time(36610)=='9:9:9'\n",
        "  print('all text cases passed for get_time()')"
      ],
      "metadata": {
        "id": "3RJ-DmiWQ77o"
      },
      "execution_count": 43,
      "outputs": []
    },
    {
      "cell_type": "code",
      "source": [
        "test_get_time()"
      ],
      "metadata": {
        "colab": {
          "base_uri": "https://localhost:8080/",
          "height": 287
        },
        "id": "SK4BaGPkT89N",
        "outputId": "a4a1ca27-d623-48d2-c0c5-9f5916f61dcf"
      },
      "execution_count": 44,
      "outputs": [
        {
          "output_type": "error",
          "ename": "AssertionError",
          "evalue": "ignored",
          "traceback": [
            "\u001b[0;31m---------------------------------------------------------------------------\u001b[0m",
            "\u001b[0;31mAssertionError\u001b[0m                            Traceback (most recent call last)",
            "\u001b[0;32m<ipython-input-44-dae45a4e0ae1>\u001b[0m in \u001b[0;36m<cell line: 1>\u001b[0;34m()\u001b[0m\n\u001b[0;32m----> 1\u001b[0;31m \u001b[0mtest_get_time\u001b[0m\u001b[0;34m(\u001b[0m\u001b[0;34m)\u001b[0m\u001b[0;34m\u001b[0m\u001b[0;34m\u001b[0m\u001b[0m\n\u001b[0m",
            "\u001b[0;32m<ipython-input-43-c48b91add7e3>\u001b[0m in \u001b[0;36mtest_get_time\u001b[0;34m()\u001b[0m\n\u001b[1;32m      1\u001b[0m \u001b[0;31m#here are some text taht should pass :\u001b[0m\u001b[0;34m\u001b[0m\u001b[0;34m\u001b[0m\u001b[0m\n\u001b[1;32m      2\u001b[0m \u001b[0;32mdef\u001b[0m \u001b[0mtest_get_time\u001b[0m\u001b[0;34m(\u001b[0m\u001b[0;34m)\u001b[0m\u001b[0;34m:\u001b[0m\u001b[0;34m\u001b[0m\u001b[0;34m\u001b[0m\u001b[0m\n\u001b[0;32m----> 3\u001b[0;31m   \u001b[0;32massert\u001b[0m \u001b[0mget_time\u001b[0m\u001b[0;34m(\u001b[0m\u001b[0;36m3600\u001b[0m\u001b[0;34m)\u001b[0m\u001b[0;34m==\u001b[0m\u001b[0;34m'2:0:0'\u001b[0m\u001b[0;34m\u001b[0m\u001b[0;34m\u001b[0m\u001b[0m\n\u001b[0m\u001b[1;32m      4\u001b[0m   \u001b[0;32massert\u001b[0m \u001b[0mget_time\u001b[0m\u001b[0;34m(\u001b[0m\u001b[0;36m3661\u001b[0m\u001b[0;34m)\u001b[0m\u001b[0;34m==\u001b[0m\u001b[0;34m'2:2:2'\u001b[0m\u001b[0;34m\u001b[0m\u001b[0;34m\u001b[0m\u001b[0m\n\u001b[1;32m      5\u001b[0m   \u001b[0;32massert\u001b[0m \u001b[0mget_time\u001b[0m\u001b[0;34m(\u001b[0m\u001b[0;36m3666\u001b[0m\u001b[0;34m)\u001b[0m\u001b[0;34m==\u001b[0m\u001b[0;34m'2:2:7'\u001b[0m\u001b[0;34m\u001b[0m\u001b[0;34m\u001b[0m\u001b[0m\n",
            "\u001b[0;31mAssertionError\u001b[0m: "
          ]
        }
      ]
    },
    {
      "cell_type": "markdown",
      "source": [
        "#ejercicio 3\n",
        "\n",
        "1.Escribe una función llamada hipotenusa que devuelva la longitud de la hipotenusa de un triángulo rectángulo dadas las longitudes de los dos catetos como parámetros."
      ],
      "metadata": {
        "id": "Memk8YSnUmFe"
      }
    },
    {
      "cell_type": "code",
      "source": [
        "def hypotenuse (leg1, leg2):\n",
        "  pass"
      ],
      "metadata": {
        "id": "voClDwlrU1vJ"
      },
      "execution_count": 52,
      "outputs": []
    },
    {
      "cell_type": "code",
      "source": [
        "def text_hypotenuse():\n",
        " def test_hypotenuse():\n",
        "    assert hypotenuse(4, 7) == 8.0\n",
        "    assert hypotenuse(14, 6) == 15.0\n",
        "    assert hypotenuse(25, 6) == 27.0\n",
        "    assert hypotenuse(7, 10) == 13.0\n",
        "    print('all test cases passed hypotenuse()')"
      ],
      "metadata": {
        "id": "Yzu_PeqyVSC9"
      },
      "execution_count": 57,
      "outputs": []
    },
    {
      "cell_type": "code",
      "source": [
        "text_hypotenuse"
      ],
      "metadata": {
        "colab": {
          "base_uri": "https://localhost:8080/"
        },
        "id": "gJ8qOrBKWzMh",
        "outputId": "a961c023-ae13-4d75-bcfb-2f961b6fc305"
      },
      "execution_count": 58,
      "outputs": [
        {
          "output_type": "execute_result",
          "data": {
            "text/plain": [
              "<function __main__.text_hypotenuse()>"
            ]
          },
          "metadata": {},
          "execution_count": 58
        }
      ]
    },
    {
      "cell_type": "markdown",
      "source": [
        "# exercise 4\n",
        "<pre>\n",
        "Write a function slope(x1, y1, x2, y2) that returns the slope of the line through the points (x1, y1) and (x2, y2). Be sure your implementation of slope can pass the test cases provided in test_slope().\n",
        "\n",
        "Then use a call to slope in a new function named intercept(x1, y1, x2, y2) that returns the y-intercept of the line through the points (x1, y1) and (x2, y2)\n",
        "\n",
        "</pre>"
      ],
      "metadata": {
        "id": "dIT4qKUJXfHq"
      }
    },
    {
      "cell_type": "code",
      "source": [
        "def slope(x1,y1,x2,y2):\n",
        "  pass"
      ],
      "metadata": {
        "id": "ri0uG-vtXqTY"
      },
      "execution_count": 21,
      "outputs": []
    },
    {
      "cell_type": "code",
      "source": [
        "def text_slope():\n",
        "    assert slope(6,4, 5, 3) == 2.0\n",
        "    assert slope(4, 2, 3, 2) == 1.0\n",
        "    assert slope(1, 2, 3, 3) == 0.5\n",
        "    assert slope(6, 8, 3, 4) == .0\n",
        "    print('all test cases passed for slope()')"
      ],
      "metadata": {
        "colab": {
          "base_uri": "https://localhost:8080/",
          "height": 130
        },
        "id": "M2noVjZ6apht",
        "outputId": "3f688409-b027-45a1-cf25-91e5c5199311"
      },
      "execution_count": 63,
      "outputs": [
        {
          "output_type": "error",
          "ename": "SyntaxError",
          "evalue": "ignored",
          "traceback": [
            "\u001b[0;36m  File \u001b[0;32m\"<ipython-input-63-0c2e8a8befd0>\"\u001b[0;36m, line \u001b[0;32m1\u001b[0m\n\u001b[0;31m    def 'text_slope()':\u001b[0m\n\u001b[0m        ^\u001b[0m\n\u001b[0;31mSyntaxError\u001b[0m\u001b[0;31m:\u001b[0m invalid syntax\n"
          ]
        }
      ]
    },
    {
      "cell_type": "code",
      "source": [
        "def: test_slope()"
      ],
      "metadata": {
        "colab": {
          "base_uri": "https://localhost:8080/",
          "height": 130
        },
        "id": "g14n7RMrcWM9",
        "outputId": "e6401f82-c6dc-493d-eb76-e77591987f26"
      },
      "execution_count": 74,
      "outputs": [
        {
          "output_type": "error",
          "ename": "SyntaxError",
          "evalue": "ignored",
          "traceback": [
            "\u001b[0;36m  File \u001b[0;32m\"<ipython-input-74-c4ed1bbb03a5>\"\u001b[0;36m, line \u001b[0;32m1\u001b[0m\n\u001b[0;31m    def: test_slope()\u001b[0m\n\u001b[0m       ^\u001b[0m\n\u001b[0;31mSyntaxError\u001b[0m\u001b[0;31m:\u001b[0m invalid syntax\n"
          ]
        }
      ]
    },
    {
      "cell_type": "code",
      "source": [
        "def intercept(x1,x2,y1,y2):\n",
        "   assert intercept(2, 5, 4, 10) == 2.0\n",
        "   assert intercept (5, 1, 1, 5) == 7.0\n",
        "   assert intercept(4, 6, 12, 8) == 5.0\n",
        "   print( 'all test cases passed for intercept()')"
      ],
      "metadata": {
        "id": "rBxnDWIJtEQZ"
      },
      "execution_count": 82,
      "outputs": []
    },
    {
      "cell_type": "code",
      "source": [
        "text_intercept()"
      ],
      "metadata": {
        "colab": {
          "base_uri": "https://localhost:8080/",
          "height": 165
        },
        "id": "447qbu3Oupfx",
        "outputId": "6bb5d82a-360a-433c-acdb-162b876f30d7"
      },
      "execution_count": 87,
      "outputs": [
        {
          "output_type": "error",
          "ename": "NameError",
          "evalue": "ignored",
          "traceback": [
            "\u001b[0;31m---------------------------------------------------------------------------\u001b[0m",
            "\u001b[0;31mNameError\u001b[0m                                 Traceback (most recent call last)",
            "\u001b[0;32m<ipython-input-87-e4d8931716b4>\u001b[0m in \u001b[0;36m<cell line: 1>\u001b[0;34m()\u001b[0m\n\u001b[0;32m----> 1\u001b[0;31m \u001b[0mtext_intercept\u001b[0m\u001b[0;34m(\u001b[0m\u001b[0;34m)\u001b[0m\u001b[0;34m\u001b[0m\u001b[0;34m\u001b[0m\u001b[0m\n\u001b[0m",
            "\u001b[0;31mNameError\u001b[0m: name 'text_intercept' is not defined"
          ]
        }
      ]
    }
  ]
}