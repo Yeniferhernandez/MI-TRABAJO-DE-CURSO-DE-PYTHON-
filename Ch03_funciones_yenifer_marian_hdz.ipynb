{
  "nbformat": 4,
  "nbformat_minor": 0,
  "metadata": {
    "colab": {
      "provenance": [],
      "authorship_tag": "ABX9TyOG9i13PoyOmo4vIHPJS633",
      "include_colab_link": true
    },
    "kernelspec": {
      "name": "python3",
      "display_name": "Python 3"
    },
    "language_info": {
      "name": "python"
    }
  },
  "cells": [
    {
      "cell_type": "markdown",
      "metadata": {
        "id": "view-in-github",
        "colab_type": "text"
      },
      "source": [
        "<a href=\"https://colab.research.google.com/github/Yeniferhernandez/MI-TRABAJO-DE-CURSO-DE-PYTHON-/blob/main/Ch03_funciones_yenifer_marian_hdz.ipynb\" target=\"_parent\"><img src=\"https://colab.research.google.com/assets/colab-badge.svg\" alt=\"Open In Colab\"/></a>"
      ]
    },
    {
      "cell_type": "markdown",
      "source": [
        "# Funciones"
      ],
      "metadata": {
        "id": "RVT1QcjXds5q"
      }
    },
    {
      "cell_type": "code",
      "source": [
        "# Para crear una función en python\n",
        "# usamos la palabra reservada `def`\n",
        "def mi_primer_funcion():\n",
        "  print(\"Hola, estoy dentro de la función 😎\")"
      ],
      "metadata": {
        "id": "BVln4mcidw2_"
      },
      "execution_count": null,
      "outputs": []
    },
    {
      "cell_type": "code",
      "source": [
        "mi_primer_funcion()"
      ],
      "metadata": {
        "colab": {
          "base_uri": "https://localhost:8080/"
        },
        "id": "ZpkSd5Bvd0u3",
        "outputId": "bc81c45c-eb1f-4d05-9084-0e8adbb346ef"
      },
      "execution_count": null,
      "outputs": [
        {
          "output_type": "stream",
          "name": "stdout",
          "text": [
            "Hola, estoy dentro de la función 😎\n"
          ]
        }
      ]
    },
    {
      "cell_type": "code",
      "source": [
        "# Está función regresa un tipo de dato\n",
        "# de tipo NoneType\n",
        "mi_variable = mi_primer_funcion()"
      ],
      "metadata": {
        "colab": {
          "base_uri": "https://localhost:8080/"
        },
        "id": "6N9rXeU5d8SD",
        "outputId": "24f221de-d1d0-4689-99a9-55b4347330d3"
      },
      "execution_count": null,
      "outputs": [
        {
          "output_type": "stream",
          "name": "stdout",
          "text": [
            "Hola, estoy dentro de la función 😎\n"
          ]
        }
      ]
    },
    {
      "cell_type": "code",
      "source": [
        "print(mi_variable)"
      ],
      "metadata": {
        "colab": {
          "base_uri": "https://localhost:8080/"
        },
        "id": "S2Jr_kpZeIEK",
        "outputId": "1c0adf0e-178b-43b0-8f43-6ccaa4d325a5"
      },
      "execution_count": null,
      "outputs": [
        {
          "output_type": "stream",
          "name": "stdout",
          "text": [
            "None\n"
          ]
        }
      ]
    },
    {
      "cell_type": "code",
      "source": [
        "type(mi_variable)"
      ],
      "metadata": {
        "colab": {
          "base_uri": "https://localhost:8080/"
        },
        "id": "TnQrxgwneNK0",
        "outputId": "e0d413ee-cdc5-46cb-874a-26975a00a97b"
      },
      "execution_count": null,
      "outputs": [
        {
          "output_type": "execute_result",
          "data": {
            "text/plain": [
              "NoneType"
            ]
          },
          "metadata": {},
          "execution_count": 8
        }
      ]
    },
    {
      "cell_type": "markdown",
      "source": [
        "# Creando una función con argumentos\n",
        "\n",
        "Crear una función para obtener el área de un cuadrado"
      ],
      "metadata": {
        "id": "SkYzqLhGc2WR"
      }
    },
    {
      "cell_type": "code",
      "source": [
        "# Nivel básico\n",
        "def area_cuadrado(lado):\n",
        "  \"\"\"Calcula el área de un cuadrado\"\"\"\n",
        "  area = lado * lado\n",
        "  return area"
      ],
      "metadata": {
        "id": "GS_guVR2c60c"
      },
      "execution_count": null,
      "outputs": []
    },
    {
      "cell_type": "code",
      "source": [
        "from typing import Union\n",
        "\n",
        "# Nivel intermedio-avanzado\n",
        "def area_cuadrado(lado: Union[int, float]) -> Union[int, float]:\n",
        "  \"\"\"Calcula el área de un cuadrado\"\"\"\n",
        "  area = lado * lado\n",
        "  return area"
      ],
      "metadata": {
        "id": "kCovfOqXeVi1"
      },
      "execution_count": null,
      "outputs": []
    },
    {
      "cell_type": "code",
      "source": [
        "area_cuadrado (7.0)"
      ],
      "metadata": {
        "colab": {
          "base_uri": "https://localhost:8080/"
        },
        "id": "4Sp-TR2gdFX7",
        "outputId": "5eee1f62-8c8c-43b5-ecc0-6413e5557402"
      },
      "execution_count": null,
      "outputs": [
        {
          "output_type": "execute_result",
          "data": {
            "text/plain": [
              "49.0"
            ]
          },
          "metadata": {},
          "execution_count": 2
        }
      ]
    },
    {
      "cell_type": "code",
      "source": [
        "help(area_cuadrado)"
      ],
      "metadata": {
        "colab": {
          "base_uri": "https://localhost:8080/"
        },
        "id": "wjMtRy98dbFJ",
        "outputId": "4e18ce3c-ca36-4671-9b78-460b0eb5b40b"
      },
      "execution_count": null,
      "outputs": [
        {
          "output_type": "stream",
          "name": "stdout",
          "text": [
            "Help on function area_cuadrado in module __main__:\n",
            "\n",
            "area_cuadrado(lado)\n",
            "    Calcula el área de un cuadrado\n",
            "\n"
          ]
        }
      ]
    },
    {
      "cell_type": "markdown",
      "source": [
        "#Creando una función con argumentos\n",
        "Crear una función para obtener el área de un circulo\n"
      ],
      "metadata": {
        "id": "n3X5gR-ju-ed"
      }
    },
    {
      "cell_type": "code",
      "source": [
        "import math\n",
        "print(\"ingrese el radio del circulo\")\n",
        "r = float(input())#capturando el radio\n",
        "a = math.pi * (r * r )\n",
        "print(\" el area del circulo con radio \",r,\" Es: \", round(a, 2))"
      ],
      "metadata": {
        "id": "gzl0WkUgew3L",
        "outputId": "560c1e01-320e-4931-8bb3-78c57ed0fa8b",
        "colab": {
          "base_uri": "https://localhost:8080/"
        }
      },
      "execution_count": null,
      "outputs": [
        {
          "output_type": "stream",
          "name": "stdout",
          "text": [
            "ingrese el radio del circulo\n",
            "5.6\n",
            " el area del circulo con radio  5.6  Es:  98.52\n"
          ]
        }
      ]
    },
    {
      "cell_type": "code",
      "source": [
        "#área_rectangulo"
      ],
      "metadata": {
        "id": "atdBRk4s9OdC"
      },
      "execution_count": 36,
      "outputs": []
    },
    {
      "cell_type": "code",
      "source": [
        "# Nivel básico\n",
        "def área_rectangulo(base ,altura):\n",
        "  \"\"\"Calcula el área de un rectangulo\"\"\"\n",
        "  area = base * altura\n",
        "  return area"
      ],
      "metadata": {
        "id": "2Qj3FCNezSHM"
      },
      "execution_count": 37,
      "outputs": []
    },
    {
      "cell_type": "code",
      "source": [
        "área_rectangulo (7,6)"
      ],
      "metadata": {
        "colab": {
          "base_uri": "https://localhost:8080/"
        },
        "id": "ixUCp-XU7EiI",
        "outputId": "70f0265b-2dc1-455e-b8d4-f98bb55e073a"
      },
      "execution_count": 38,
      "outputs": [
        {
          "output_type": "execute_result",
          "data": {
            "text/plain": [
              "42"
            ]
          },
          "metadata": {},
          "execution_count": 38
        }
      ]
    },
    {
      "cell_type": "code",
      "source": [
        "perímetro_rectángulo"
      ],
      "metadata": {
        "colab": {
          "base_uri": "https://localhost:8080/"
        },
        "id": "s_adz1kbfN8y",
        "outputId": "43de156f-bc28-4628-b341-b5e56a95cd80"
      },
      "execution_count": 61,
      "outputs": [
        {
          "output_type": "execute_result",
          "data": {
            "text/plain": [
              "<function __main__.perímetro_rectángulo(base: Union[int, float], altura: Union[int, float]) -> Union[int, float]>"
            ]
          },
          "metadata": {},
          "execution_count": 61
        }
      ]
    },
    {
      "cell_type": "code",
      "source": [
        "from typing import Union\n",
        "#perímetro_rectángulo\n",
        "def perímetro_rectángulo(base:Union [int,float],altura:Union [int,float]) ->Union [int,float]:\n",
        "  \"\"\"Calcula el perímetro de un rectángulo\"\"\"\n",
        "  perímetro = 2 * base + 2 * altura\n",
        "  return perímetro"
      ],
      "metadata": {
        "id": "BSQv8qNwVSmi"
      },
      "execution_count": 62,
      "outputs": []
    },
    {
      "cell_type": "code",
      "source": [
        "perímetro_rectángulo(7,5)"
      ],
      "metadata": {
        "colab": {
          "base_uri": "https://localhost:8080/"
        },
        "id": "X0S-Bke-Wnch",
        "outputId": "47c282cb-006c-44a6-c41f-ded7973c6237"
      },
      "execution_count": 63,
      "outputs": [
        {
          "output_type": "execute_result",
          "data": {
            "text/plain": [
              "24"
            ]
          },
          "metadata": {},
          "execution_count": 63
        }
      ]
    }
  ]
}