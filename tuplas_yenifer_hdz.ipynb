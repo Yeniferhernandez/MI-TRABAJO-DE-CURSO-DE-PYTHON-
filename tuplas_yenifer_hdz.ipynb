{
  "nbformat": 4,
  "nbformat_minor": 0,
  "metadata": {
    "colab": {
      "provenance": [],
      "authorship_tag": "ABX9TyOwv2nbal/av0DpBOvJuMbq",
      "include_colab_link": true
    },
    "kernelspec": {
      "name": "python3",
      "display_name": "Python 3"
    },
    "language_info": {
      "name": "python"
    }
  },
  "cells": [
    {
      "cell_type": "markdown",
      "metadata": {
        "id": "view-in-github",
        "colab_type": "text"
      },
      "source": [
        "<a href=\"https://colab.research.google.com/github/Yeniferhernandez/MI-TRABAJO-DE-CURSO-DE-PYTHON-/blob/main/tuplas_yenifer_hdz.ipynb\" target=\"_parent\"><img src=\"https://colab.research.google.com/assets/colab-badge.svg\" alt=\"Open In Colab\"/></a>"
      ]
    },
    {
      "cell_type": "markdown",
      "source": [
        "#Aplicación de tuplas"
      ],
      "metadata": {
        "id": "3f07uAljrpqc"
      }
    },
    {
      "cell_type": "code",
      "source": [],
      "metadata": {
        "id": "xnU5ZqiQ15Bn"
      },
      "execution_count": null,
      "outputs": []
    },
    {
      "cell_type": "code",
      "source": [
        "def calculate_square_properties(side_lengh):\n",
        "  \"\"\"Calculates the area and perimeter of a square\"\"\"\n",
        "\n",
        "  area = side_lengh ** 2\n",
        "  perimeter = 4 * side_lengh\n",
        "\n",
        "  return (area, perimeter)"
      ],
      "metadata": {
        "id": "92krZppPq5H_"
      },
      "execution_count": null,
      "outputs": []
    },
    {
      "cell_type": "code",
      "source": [
        "side = 8.0\n",
        "results = calculate_square_properties(side)"
      ],
      "metadata": {
        "id": "uk715f11qofG"
      },
      "execution_count": null,
      "outputs": []
    },
    {
      "cell_type": "code",
      "source": [
        "results"
      ],
      "metadata": {
        "colab": {
          "base_uri": "https://localhost:8080/"
        },
        "id": "BROLz8Uxqqee",
        "outputId": "61cdf923-865a-4030-fb02-ff863cfe27b2"
      },
      "execution_count": null,
      "outputs": [
        {
          "output_type": "execute_result",
          "data": {
            "text/plain": [
              "(64.0, 32.0)"
            ]
          },
          "metadata": {},
          "execution_count": 7
        }
      ]
    },
    {
      "cell_type": "code",
      "source": [
        "type(results)"
      ],
      "metadata": {
        "colab": {
          "base_uri": "https://localhost:8080/"
        },
        "id": "6UeU3jkVrEQX",
        "outputId": "8daa168f-8d18-4e5f-8ce7-f5ea5e821b66"
      },
      "execution_count": null,
      "outputs": [
        {
          "output_type": "execute_result",
          "data": {
            "text/plain": [
              "tuple"
            ]
          },
          "metadata": {},
          "execution_count": 8
        }
      ]
    },
    {
      "cell_type": "code",
      "source": [
        "# area, perimeter = calculate_square_properties(side)\n",
        "area, perimeter = results"
      ],
      "metadata": {
        "id": "CTkax-9NrECY"
      },
      "execution_count": null,
      "outputs": []
    },
    {
      "cell_type": "code",
      "source": [
        "area"
      ],
      "metadata": {
        "colab": {
          "base_uri": "https://localhost:8080/"
        },
        "id": "cvmgEOkfrSJd",
        "outputId": "b3021be4-1250-41e3-8c4f-c272053c3a48"
      },
      "execution_count": null,
      "outputs": [
        {
          "output_type": "execute_result",
          "data": {
            "text/plain": [
              "64.0"
            ]
          },
          "metadata": {},
          "execution_count": 10
        }
      ]
    },
    {
      "cell_type": "code",
      "source": [
        "perimeter"
      ],
      "metadata": {
        "colab": {
          "base_uri": "https://localhost:8080/"
        },
        "id": "rcpDTxcFrVYU",
        "outputId": "c29cb90d-07a5-477d-c58f-1040a742110e"
      },
      "execution_count": null,
      "outputs": [
        {
          "output_type": "execute_result",
          "data": {
            "text/plain": [
              "32.0"
            ]
          },
          "metadata": {},
          "execution_count": 11
        }
      ]
    },
    {
      "cell_type": "markdown",
      "source": [
        "# ACTIVIDAD 6\n",
        "\n",
        "Crear una función similar a `calculate_square_properties` para un rectángulo o círculo y regrese 3 valores:\n",
        "1. área\n",
        "2. perímetro\n",
        "3. color\n",
        "\n",
        "**Nota:** Tu función debe aceptar 3 argumentos (réctangulo) ó 2 argumentos (círculo)\n",
        "\n",
        "El tipo de dato resultate esperado es una tupla (área, perímetro, color).\n"
      ],
      "metadata": {
        "id": "Up9kgEikrghN"
      }
    },
    {
      "cell_type": "code",
      "source": [
        "def calculate_properties_rectangle(area,perimeter,color):\n",
        "  def Rectangle_Features(base,height,color):\n",
        "     \"\"\"Calculates the area and perimeter of a rectangle\"\"\"\n",
        "  area = base * height\n",
        "  perimeter = 2 * (base + height)\n",
        "  color = 'green'\n",
        "\n",
        "  return (area, perimeter,color)"
      ],
      "metadata": {
        "id": "ORYoi3goaJeK"
      },
      "execution_count": null,
      "outputs": []
    },
    {
      "cell_type": "code",
      "source": [
        "sides = (8.0 ,4.0)\n",
        "def Rectangle_Features(base,height,):\n",
        "  results = calculate_properties_rectangle (area ,perimeter,color)"
      ],
      "metadata": {
        "id": "fpB5MDIobpM8"
      },
      "execution_count": null,
      "outputs": []
    },
    {
      "cell_type": "code",
      "source": [
        "results"
      ],
      "metadata": {
        "colab": {
          "base_uri": "https://localhost:8080/"
        },
        "id": "InJxQRiVb5mz",
        "outputId": "eff5af85-382c-44e4-f3ee-8d78962b03da"
      },
      "execution_count": null,
      "outputs": [
        {
          "output_type": "execute_result",
          "data": {
            "text/plain": [
              "(512.0, 48.0, 'green')"
            ]
          },
          "metadata": {},
          "execution_count": 209
        }
      ]
    },
    {
      "cell_type": "code",
      "source": [
        "type(results)"
      ],
      "metadata": {
        "colab": {
          "base_uri": "https://localhost:8080/"
        },
        "id": "nRyNYl2_cBPY",
        "outputId": "6162258b-02f3-4b3a-e9c3-05908d66ce60"
      },
      "execution_count": null,
      "outputs": [
        {
          "output_type": "execute_result",
          "data": {
            "text/plain": [
              "tuple"
            ]
          },
          "metadata": {},
          "execution_count": 186
        }
      ]
    },
    {
      "cell_type": "code",
      "source": [
        "# area , perimeter , color = calculate_properties_rectangle(side)\n",
        "area,perimeter,color =results"
      ],
      "metadata": {
        "id": "tk99MLxkcITh"
      },
      "execution_count": null,
      "outputs": []
    },
    {
      "cell_type": "code",
      "source": [
        "area"
      ],
      "metadata": {
        "colab": {
          "base_uri": "https://localhost:8080/"
        },
        "id": "AfUkqp70c_Sy",
        "outputId": "49e4e3f7-0cf5-489f-c32c-a2c22e3cdd8d"
      },
      "execution_count": null,
      "outputs": [
        {
          "output_type": "execute_result",
          "data": {
            "text/plain": [
              "64.0"
            ]
          },
          "metadata": {},
          "execution_count": 203
        }
      ]
    },
    {
      "cell_type": "code",
      "source": [
        "perimeter"
      ],
      "metadata": {
        "colab": {
          "base_uri": "https://localhost:8080/"
        },
        "id": "sc3l43VmdFq-",
        "outputId": "8a9e4cac-c78a-4030-c89c-440d814d9385"
      },
      "execution_count": null,
      "outputs": [
        {
          "output_type": "execute_result",
          "data": {
            "text/plain": [
              "32.0"
            ]
          },
          "metadata": {},
          "execution_count": 204
        }
      ]
    },
    {
      "cell_type": "code",
      "source": [
        "color"
      ],
      "metadata": {
        "colab": {
          "base_uri": "https://localhost:8080/",
          "height": 35
        },
        "id": "wIx5X5LadhjX",
        "outputId": "f0a83184-89f0-4db6-b295-28d5870ad638"
      },
      "execution_count": null,
      "outputs": [
        {
          "output_type": "execute_result",
          "data": {
            "text/plain": [
              "'green'"
            ],
            "application/vnd.google.colaboratory.intrinsic+json": {
              "type": "string"
            }
          },
          "metadata": {},
          "execution_count": 205
        }
      ]
    }
  ]
}