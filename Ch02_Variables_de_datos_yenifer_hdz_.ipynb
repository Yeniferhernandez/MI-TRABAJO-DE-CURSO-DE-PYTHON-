{
  "nbformat": 4,
  "nbformat_minor": 0,
  "metadata": {
    "colab": {
      "provenance": [],
      "authorship_tag": "ABX9TyOC/CYC3bZ+2BqoL7tWaQuM",
      "include_colab_link": true
    },
    "kernelspec": {
      "name": "python3",
      "display_name": "Python 3"
    },
    "language_info": {
      "name": "python"
    }
  },
  "cells": [
    {
      "cell_type": "markdown",
      "metadata": {
        "id": "view-in-github",
        "colab_type": "text"
      },
      "source": [
        "<a href=\"https://colab.research.google.com/github/Yeniferhernandez/MI-TRABAJO-DE-CURSO-DE-PYTHON-/blob/main/Ch02_Variables_de_datos_yenifer_hdz_.ipynb\" target=\"_parent\"><img src=\"https://colab.research.google.com/assets/colab-badge.svg\" alt=\"Open In Colab\"/></a>"
      ]
    },
    {
      "cell_type": "markdown",
      "source": [
        "autor:Yenifer Marian Hernandez Carrillo\n",
        "\n",
        "Curso:Python de básico a intermedio\n",
        "\n",
        "11/07/2023"
      ],
      "metadata": {
        "id": "iru0UA_mfCl5"
      }
    },
    {
      "cell_type": "markdown",
      "source": [
        "##: 2.1 Tipos de Datos\n",
        "\n"
      ],
      "metadata": {
        "id": "pIk7rP51gekm"
      }
    },
    {
      "cell_type": "code",
      "source": [
        "type (100)"
      ],
      "metadata": {
        "colab": {
          "base_uri": "https://localhost:8080/"
        },
        "id": "ClBPDVXyhCMr",
        "outputId": "cdd45337-89b4-4b9a-c692-657cfdd2a1e9"
      },
      "execution_count": null,
      "outputs": [
        {
          "output_type": "execute_result",
          "data": {
            "text/plain": [
              "int"
            ]
          },
          "metadata": {},
          "execution_count": 1
        }
      ]
    },
    {
      "cell_type": "code",
      "source": [
        "type (-9)"
      ],
      "metadata": {
        "colab": {
          "base_uri": "https://localhost:8080/"
        },
        "id": "E6ULDwx6hrZa",
        "outputId": "cefdfae3-7bc8-4f24-a281-149e8c559444"
      },
      "execution_count": null,
      "outputs": [
        {
          "output_type": "execute_result",
          "data": {
            "text/plain": [
              "int"
            ]
          },
          "metadata": {},
          "execution_count": 2
        }
      ]
    },
    {
      "cell_type": "code",
      "source": [
        "type (1000.9874)"
      ],
      "metadata": {
        "colab": {
          "base_uri": "https://localhost:8080/"
        },
        "id": "bvmLQYzrhzyU",
        "outputId": "f3ccdc3d-1ff1-432b-adfd-50e510c3f7d5"
      },
      "execution_count": null,
      "outputs": [
        {
          "output_type": "execute_result",
          "data": {
            "text/plain": [
              "float"
            ]
          },
          "metadata": {},
          "execution_count": 3
        }
      ]
    },
    {
      "cell_type": "code",
      "source": [
        "type (\"A\")"
      ],
      "metadata": {
        "colab": {
          "base_uri": "https://localhost:8080/"
        },
        "id": "DnSQgkaVh-ea",
        "outputId": "cdb26c59-3b11-4cfc-ba05-c6a5c0d9f25a"
      },
      "execution_count": null,
      "outputs": [
        {
          "output_type": "execute_result",
          "data": {
            "text/plain": [
              "str"
            ]
          },
          "metadata": {},
          "execution_count": 4
        }
      ]
    },
    {
      "cell_type": "code",
      "source": [
        "type ('A')"
      ],
      "metadata": {
        "colab": {
          "base_uri": "https://localhost:8080/"
        },
        "id": "_x0qR7xMiJwc",
        "outputId": "a9782137-89a0-4984-ca54-65761f067685"
      },
      "execution_count": null,
      "outputs": [
        {
          "output_type": "execute_result",
          "data": {
            "text/plain": [
              "str"
            ]
          },
          "metadata": {},
          "execution_count": 5
        }
      ]
    },
    {
      "cell_type": "code",
      "source": [
        "print ( \"hello\")"
      ],
      "metadata": {
        "colab": {
          "base_uri": "https://localhost:8080/"
        },
        "id": "uTp17l_pisw4",
        "outputId": "9b2b07fd-dcc8-42e4-d32e-a178babefb62"
      },
      "execution_count": null,
      "outputs": [
        {
          "output_type": "stream",
          "name": "stdout",
          "text": [
            "hello\n"
          ]
        }
      ]
    },
    {
      "cell_type": "code",
      "source": [
        "print(type(\"hello\"))"
      ],
      "metadata": {
        "colab": {
          "base_uri": "https://localhost:8080/"
        },
        "id": "tGSj2TFEi9l8",
        "outputId": "9b4c1bbd-ca46-4ce6-ec65-b239009fcda1"
      },
      "execution_count": null,
      "outputs": [
        {
          "output_type": "stream",
          "name": "stdout",
          "text": [
            "<class 'str'>\n"
          ]
        }
      ]
    },
    {
      "cell_type": "code",
      "source": [
        "type (\"17\")"
      ],
      "metadata": {
        "colab": {
          "base_uri": "https://localhost:8080/"
        },
        "id": "lgI3QxDSj2Rh",
        "outputId": "4d87736a-e6ea-4681-9ae5-e8797d3c2f8f"
      },
      "execution_count": null,
      "outputs": [
        {
          "output_type": "execute_result",
          "data": {
            "text/plain": [
              "str"
            ]
          },
          "metadata": {},
          "execution_count": 8
        }
      ]
    },
    {
      "cell_type": "code",
      "source": [
        "type (\"\"\"triple double quote data \"\"\"\"\")"
      ],
      "metadata": {
        "colab": {
          "base_uri": "https://localhost:8080/"
        },
        "id": "M85wspqkkY3x",
        "outputId": "bac3d4ab-6121-406d-f126-f74eceaee077"
      },
      "execution_count": null,
      "outputs": [
        {
          "output_type": "execute_result",
          "data": {
            "text/plain": [
              "str"
            ]
          },
          "metadata": {},
          "execution_count": 9
        }
      ]
    },
    {
      "cell_type": "code",
      "source": [
        "print (\"\"'triple double quote data '\"\")"
      ],
      "metadata": {
        "colab": {
          "base_uri": "https://localhost:8080/"
        },
        "id": "KqqFBADsk8ML",
        "outputId": "223f7f0c-8ddf-4728-81ca-4b221ed35b47"
      },
      "execution_count": null,
      "outputs": [
        {
          "output_type": "stream",
          "name": "stdout",
          "text": [
            "triple double quote data \n"
          ]
        }
      ]
    },
    {
      "cell_type": "code",
      "source": [
        "a = \"hello\""
      ],
      "metadata": {
        "id": "ttznvFmAlOrA"
      },
      "execution_count": null,
      "outputs": []
    },
    {
      "cell_type": "code",
      "source": [
        "a"
      ],
      "metadata": {
        "colab": {
          "base_uri": "https://localhost:8080/",
          "height": 35
        },
        "id": "5VyqSYwmldBI",
        "outputId": "14f03984-378e-4bbd-9d65-acddcbe9d175"
      },
      "execution_count": null,
      "outputs": [
        {
          "output_type": "execute_result",
          "data": {
            "text/plain": [
              "'hello'"
            ],
            "application/vnd.google.colaboratory.intrinsic+json": {
              "type": "string"
            }
          },
          "metadata": {},
          "execution_count": 14
        }
      ]
    },
    {
      "cell_type": "markdown",
      "source": [
        "# 2.2 Conversión de tipos"
      ],
      "metadata": {
        "id": "fIHCROs6likr"
      }
    },
    {
      "cell_type": "code",
      "source": [
        "data = \"hello\" #no se puede convertir una caddena en flotante o en entero"
      ],
      "metadata": {
        "id": "AiJexNpFlp8j"
      },
      "execution_count": null,
      "outputs": []
    },
    {
      "cell_type": "code",
      "source": [
        "type(data)"
      ],
      "metadata": {
        "colab": {
          "base_uri": "https://localhost:8080/"
        },
        "id": "eb-yE-3lmCxy",
        "outputId": "ff0865b9-1807-4366-e4ba-200f1ce21d8a"
      },
      "execution_count": null,
      "outputs": [
        {
          "output_type": "execute_result",
          "data": {
            "text/plain": [
              "str"
            ]
          },
          "metadata": {},
          "execution_count": 16
        }
      ]
    },
    {
      "cell_type": "code",
      "source": [
        "data ='100'\n",
        "type (data)"
      ],
      "metadata": {
        "colab": {
          "base_uri": "https://localhost:8080/"
        },
        "id": "QFEHlXqfmHlJ",
        "outputId": "a52bafc7-0a13-4644-bb3b-25dc88d789a0"
      },
      "execution_count": null,
      "outputs": [
        {
          "output_type": "execute_result",
          "data": {
            "text/plain": [
              "str"
            ]
          },
          "metadata": {},
          "execution_count": 21
        }
      ]
    },
    {
      "cell_type": "code",
      "source": [
        "num =int(data)\n",
        "type (num)"
      ],
      "metadata": {
        "colab": {
          "base_uri": "https://localhost:8080/"
        },
        "id": "Qk5oBSLbmeJF",
        "outputId": "dc01ba2b-49b6-415d-d43b-fa690890cf15"
      },
      "execution_count": null,
      "outputs": [
        {
          "output_type": "execute_result",
          "data": {
            "text/plain": [
              "int"
            ]
          },
          "metadata": {},
          "execution_count": 22
        }
      ]
    },
    {
      "cell_type": "code",
      "source": [
        "num"
      ],
      "metadata": {
        "colab": {
          "base_uri": "https://localhost:8080/"
        },
        "id": "KQrXWKGwm6i1",
        "outputId": "3da41748-0bea-4ec8-dfe1-1c15840810d8"
      },
      "execution_count": null,
      "outputs": [
        {
          "output_type": "execute_result",
          "data": {
            "text/plain": [
              "100"
            ]
          },
          "metadata": {},
          "execution_count": 23
        }
      ]
    },
    {
      "cell_type": "code",
      "source": [
        "price = float (500.99)\n",
        "type (price)"
      ],
      "metadata": {
        "colab": {
          "base_uri": "https://localhost:8080/"
        },
        "id": "JiSdS0OJm_az",
        "outputId": "9bb3ec2d-1cfc-4726-a430-26b55596b555"
      },
      "execution_count": null,
      "outputs": [
        {
          "output_type": "execute_result",
          "data": {
            "text/plain": [
              "float"
            ]
          },
          "metadata": {},
          "execution_count": 24
        }
      ]
    },
    {
      "cell_type": "code",
      "source": [
        "float (hi)"
      ],
      "metadata": {
        "colab": {
          "base_uri": "https://localhost:8080/",
          "height": 165
        },
        "id": "wSnCOx8qnQNn",
        "outputId": "67e27f72-e866-45d2-ceef-b1c00da414c0"
      },
      "execution_count": null,
      "outputs": [
        {
          "output_type": "error",
          "ename": "NameError",
          "evalue": "ignored",
          "traceback": [
            "\u001b[0;31m---------------------------------------------------------------------------\u001b[0m",
            "\u001b[0;31mNameError\u001b[0m                                 Traceback (most recent call last)",
            "\u001b[0;32m<ipython-input-25-ebbc8aa8a384>\u001b[0m in \u001b[0;36m<cell line: 1>\u001b[0;34m()\u001b[0m\n\u001b[0;32m----> 1\u001b[0;31m \u001b[0mfloat\u001b[0m \u001b[0;34m(\u001b[0m\u001b[0mhi\u001b[0m\u001b[0;34m)\u001b[0m\u001b[0;34m\u001b[0m\u001b[0;34m\u001b[0m\u001b[0m\n\u001b[0m",
            "\u001b[0;31mNameError\u001b[0m: name 'hi' is not defined"
          ]
        }
      ]
    },
    {
      "cell_type": "code",
      "source": [
        "int ('hola')"
      ],
      "metadata": {
        "colab": {
          "base_uri": "https://localhost:8080/",
          "height": 165
        },
        "id": "jmEZz2vInUyE",
        "outputId": "6954ecb1-ab63-4a27-fb62-d31eba2342ae"
      },
      "execution_count": null,
      "outputs": [
        {
          "output_type": "error",
          "ename": "ValueError",
          "evalue": "ignored",
          "traceback": [
            "\u001b[0;31m---------------------------------------------------------------------------\u001b[0m",
            "\u001b[0;31mValueError\u001b[0m                                Traceback (most recent call last)",
            "\u001b[0;32m<ipython-input-27-1b0b8d01d45a>\u001b[0m in \u001b[0;36m<cell line: 1>\u001b[0;34m()\u001b[0m\n\u001b[0;32m----> 1\u001b[0;31m \u001b[0mint\u001b[0m \u001b[0;34m(\u001b[0m\u001b[0;34m'hola'\u001b[0m\u001b[0;34m)\u001b[0m\u001b[0;34m\u001b[0m\u001b[0;34m\u001b[0m\u001b[0m\n\u001b[0m",
            "\u001b[0;31mValueError\u001b[0m: invalid literal for int() with base 10: 'hola'"
          ]
        }
      ]
    },
    {
      "cell_type": "code",
      "source": [
        "num=99.99\n",
        "striNum =str(num)\n",
        "print( striNum)\n",
        "type(striNum)"
      ],
      "metadata": {
        "colab": {
          "base_uri": "https://localhost:8080/"
        },
        "id": "aj4qEI7dnc3f",
        "outputId": "4439586e-1ee7-4375-cea6-965a74851732"
      },
      "execution_count": null,
      "outputs": [
        {
          "output_type": "stream",
          "name": "stdout",
          "text": [
            "99.99\n"
          ]
        },
        {
          "output_type": "execute_result",
          "data": {
            "text/plain": [
              "str"
            ]
          },
          "metadata": {},
          "execution_count": 30
        }
      ]
    },
    {
      "cell_type": "code",
      "source": [
        "type(True)"
      ],
      "metadata": {
        "colab": {
          "base_uri": "https://localhost:8080/"
        },
        "id": "C7z-4Ju5oUxw",
        "outputId": "2295beaa-afc3-403a-e45f-a66510136658"
      },
      "execution_count": null,
      "outputs": [
        {
          "output_type": "execute_result",
          "data": {
            "text/plain": [
              "bool"
            ]
          },
          "metadata": {},
          "execution_count": 34
        }
      ]
    },
    {
      "cell_type": "code",
      "source": [
        "type(False)"
      ],
      "metadata": {
        "colab": {
          "base_uri": "https://localhost:8080/"
        },
        "id": "YGxQmAxmoOXQ",
        "outputId": "fe2dc8da-63e3-4d53-a866-cbdbfb8ce725"
      },
      "execution_count": null,
      "outputs": [
        {
          "output_type": "execute_result",
          "data": {
            "text/plain": [
              "bool"
            ]
          },
          "metadata": {},
          "execution_count": 35
        }
      ]
    },
    {
      "cell_type": "markdown",
      "source": [
        "# 2.3 Declaraciones\n",
        "\n",
        "-Una declaración es una instrucción que el intérprete de Python puede ejecutar\n",
        "\n",
        "-Hemos visto sentencias de asignación hasta ahora\n",
        "\n",
        "-Luego exploraremos for, if, import, while y otras declaraciones"
      ],
      "metadata": {
        "id": "IzilJ7Ixou-L"
      }
    },
    {
      "cell_type": "code",
      "source": [
        "1+2"
      ],
      "metadata": {
        "colab": {
          "base_uri": "https://localhost:8080/"
        },
        "id": "nm1xPlsPpVhG",
        "outputId": "d84e1e2e-dd6a-4f8a-bd62-b94ae7a68ef0"
      },
      "execution_count": null,
      "outputs": [
        {
          "output_type": "execute_result",
          "data": {
            "text/plain": [
              "3"
            ]
          },
          "metadata": {},
          "execution_count": 36
        }
      ]
    },
    {
      "cell_type": "code",
      "source": [
        "len ('hello')"
      ],
      "metadata": {
        "colab": {
          "base_uri": "https://localhost:8080/"
        },
        "id": "XTn2NMuEpdcg",
        "outputId": "89cda587-9956-4a60-83a0-f0851486b903"
      },
      "execution_count": null,
      "outputs": [
        {
          "output_type": "execute_result",
          "data": {
            "text/plain": [
              "5"
            ]
          },
          "metadata": {},
          "execution_count": 37
        }
      ]
    },
    {
      "cell_type": "code",
      "source": [
        "print (2+3*4)"
      ],
      "metadata": {
        "colab": {
          "base_uri": "https://localhost:8080/"
        },
        "id": "8PMIQD_ppdCF",
        "outputId": "03eadcc0-fe27-41c0-a0bd-ca897efcb1d7"
      },
      "execution_count": null,
      "outputs": [
        {
          "output_type": "stream",
          "name": "stdout",
          "text": [
            "14\n"
          ]
        }
      ]
    },
    {
      "cell_type": "code",
      "source": [
        "print ('''\"oh no, ella exclama, \"la ventana de Ben esta rota!\"''')"
      ],
      "metadata": {
        "colab": {
          "base_uri": "https://localhost:8080/"
        },
        "id": "Bg4fEQtcpqMU",
        "outputId": "3010959d-862c-468a-f36c-f7850e12aa39"
      },
      "execution_count": null,
      "outputs": [
        {
          "output_type": "stream",
          "name": "stdout",
          "text": [
            "\"oh no, ella exclama, \"la ventana de Ben esta rota!\"\n"
          ]
        }
      ]
    },
    {
      "cell_type": "markdown",
      "source": [
        "# 2.4  Secuencias de escape\n",
        "-Algunas letras o secuencias de letras tienen un significado especial para Python\n",
        "\n",
        "-Las comillas simples, dobles y triples simples o dobles representan datos de cadena\n",
        "\n",
        "-Utilice la barra invertida \\ para representar estas secuencias de escape, por ejemplo,\n",
        "\n",
        "°\\n - nueva línea\n",
        "\n",
        "°\\\\ - barra invertida\n",
        "\n",
        "°\\t - tabulador\n",
        "\n",
        "°\\r - retorno de carro\n",
        "\n",
        "°\\' - una frase\n",
        "\n",
        "-\\\" - comillas dobles"
      ],
      "metadata": {
        "id": "trbQKzFWqjjH"
      }
    },
    {
      "cell_type": "code",
      "source": [
        "print('what\\'s up\\n Shaq O\\' nEAL?')"
      ],
      "metadata": {
        "colab": {
          "base_uri": "https://localhost:8080/"
        },
        "id": "gc8kZPgrrJ7C",
        "outputId": "476a4505-ca53-4c64-e399-3a610f2e2251"
      },
      "execution_count": null,
      "outputs": [
        {
          "output_type": "stream",
          "name": "stdout",
          "text": [
            "what's up\n",
            " Shaq O' nEAL?\n"
          ]
        }
      ]
    },
    {
      "cell_type": "code",
      "source": [
        "print (r'Hello here... how are you?\\\\')"
      ],
      "metadata": {
        "colab": {
          "base_uri": "https://localhost:8080/"
        },
        "id": "eOO3mXYlr3jq",
        "outputId": "6babe1e8-6d32-4efe-b518-0e8735b1dc82"
      },
      "execution_count": null,
      "outputs": [
        {
          "output_type": "stream",
          "name": "stdout",
          "text": [
            "Hello here... how are you?\\\\\n"
          ]
        }
      ]
    },
    {
      "cell_type": "markdown",
      "source": [
        "# 2.5 Variable\n",
        "-Las variables son identificadores que se utilizan para almacenar valores que luego pueden manipularse fácilmente\n",
        "\n",
        "\n",
        "-Las variables dan nombres a los datos para que los datos puedan ser fácilmente referenciados por sus nombres una y otra vez\n",
        "-Reglas y mejores prácticas para crear identificadores y nombres de variables:\n",
        "\n",
        "-No puede ser una palabra clave - ¿cuáles son las palabras clave integradas?\n",
        "\n",
        "-Puede comenzar solo con letras del alfabeto o guión bajo (_)\n",
        "-No puede tener símbolos como $, %, &, espacio en blanco, etc.\n",
        "\n",
        "-No puede comenzar con un dígito, pero los dígitos se pueden usar en cualquier otra parte del nombre\n",
        "\n",
        "-Use nombres camelCase o use _ for_multi_word_names\n",
        "\n",
        "-Use nombres concisos pero significativos y sin ambigüedades para escribir menos y evitar errores tipográficos"
      ],
      "metadata": {
        "id": "N7UmfNv1sMss"
      }
    },
    {
      "cell_type": "code",
      "source": [
        "help ('keywords')"
      ],
      "metadata": {
        "colab": {
          "base_uri": "https://localhost:8080/"
        },
        "id": "RbWCJaJMs41_",
        "outputId": "616b717d-8a4f-4377-d595-935f53811bd3"
      },
      "execution_count": null,
      "outputs": [
        {
          "output_type": "stream",
          "name": "stdout",
          "text": [
            "\n",
            "Here is a list of the Python keywords.  Enter any keyword to get more help.\n",
            "\n",
            "False               class               from                or\n",
            "None                continue            global              pass\n",
            "True                def                 if                  raise\n",
            "and                 del                 import              return\n",
            "as                  elif                in                  try\n",
            "assert              else                is                  while\n",
            "async               except              lambda              with\n",
            "await               finally             nonlocal            yield\n",
            "break               for                 not                 \n",
            "\n"
          ]
        }
      ]
    },
    {
      "cell_type": "code",
      "source": [
        "#Las variables deben estar definidas inicialmente o antes de ser usadas\n",
        "print(x)"
      ],
      "metadata": {
        "colab": {
          "base_uri": "https://localhost:8080/"
        },
        "id": "6RVpv4N_v7fh",
        "outputId": "f6389440-0873-4e2b-8b6c-ad15e67efbab"
      },
      "execution_count": null,
      "outputs": [
        {
          "output_type": "stream",
          "name": "stdout",
          "text": [
            " algun valor\n"
          ]
        }
      ]
    },
    {
      "cell_type": "code",
      "source": [
        "x = ' algun valor'\n",
        "print(x)"
      ],
      "metadata": {
        "colab": {
          "base_uri": "https://localhost:8080/"
        },
        "id": "UEAJ0vKLwRr0",
        "outputId": "f65cd742-b693-4490-91b0-f2d5ab7e9b70"
      },
      "execution_count": null,
      "outputs": [
        {
          "output_type": "stream",
          "name": "stdout",
          "text": [
            " algun valor\n"
          ]
        }
      ]
    },
    {
      "cell_type": "code",
      "source": [
        "var1 =-100\n",
        "num =-99.99\n",
        "name ='Jhon'\n",
        "lName ='Smith'\n",
        "MI = 'A'\n",
        "grade = 10.5\n",
        "Name = 'Jake'\n",
        "grade = 19.9\n",
        "gradosCelsius ='32'\n",
        "grados_celsius = 32"
      ],
      "metadata": {
        "id": "5siRsd7rteWU"
      },
      "execution_count": null,
      "outputs": []
    },
    {
      "cell_type": "code",
      "source": [
        "type(gradosCelsius)"
      ],
      "metadata": {
        "colab": {
          "base_uri": "https://localhost:8080/"
        },
        "id": "Bhr17iGGj6CC",
        "outputId": "92165d15-98dd-4a6f-e89a-f8589135614c"
      },
      "execution_count": 7,
      "outputs": [
        {
          "output_type": "execute_result",
          "data": {
            "text/plain": [
              "str"
            ]
          },
          "metadata": {},
          "execution_count": 7
        }
      ]
    },
    {
      "cell_type": "code",
      "source": [
        "type(grados_celsius)"
      ],
      "metadata": {
        "colab": {
          "base_uri": "https://localhost:8080/"
        },
        "id": "oYOkuXe-kvbM",
        "outputId": "f8c7564b-4a23-4d3c-edc9-509baa3494d4"
      },
      "execution_count": 8,
      "outputs": [
        {
          "output_type": "execute_result",
          "data": {
            "text/plain": [
              "int"
            ]
          },
          "metadata": {},
          "execution_count": 8
        }
      ]
    },
    {
      "cell_type": "code",
      "source": [
        "#estructura dinámica\n",
        "var= 100"
      ],
      "metadata": {
        "id": "f0BI6UlnlD02"
      },
      "execution_count": 10,
      "outputs": []
    },
    {
      "cell_type": "code",
      "source": [
        "var = 'hello '"
      ],
      "metadata": {
        "id": "t1FouaJ4lRbM"
      },
      "execution_count": 11,
      "outputs": []
    },
    {
      "cell_type": "code",
      "source": [
        "var=99.89"
      ],
      "metadata": {
        "id": "1bUyuCOSlWrm"
      },
      "execution_count": 12,
      "outputs": []
    },
    {
      "cell_type": "code",
      "source": [
        "var"
      ],
      "metadata": {
        "colab": {
          "base_uri": "https://localhost:8080/"
        },
        "id": "bMexQXqwmBEG",
        "outputId": "4df7897d-9456-43b0-f58e-0f741b158c7e"
      },
      "execution_count": 13,
      "outputs": [
        {
          "output_type": "execute_result",
          "data": {
            "text/plain": [
              "99.89"
            ]
          },
          "metadata": {},
          "execution_count": 13
        }
      ]
    },
    {
      "cell_type": "markdown",
      "source": [
        " # 2.6 Computación: operadores y operandos\n",
        "\n",
        "\n",
        "-operadores son fichas/símbolos especiales que representan cálculos como suma, multiplicación y división\n",
        "\n",
        "-los valores que usa un operador se llaman operandos\n",
        "\n",
        "-algunos operadores binarios que toman dos operandos\n",
        "\n",
        "-suma: 10 + 20\n",
        "\n",
        "-resta: 20 - 10\n",
        "\n",
        "-división verdadera: 10 / 3\n",
        "\n",
        "-multiplicación: 7 * 9\n",
        "\n",
        "-división entera: 10 // 3\n",
        "\n",
        "-operador resto o módulo: 10 % 2\n",
        "\n",
        "-potencia: 2 ** 3"
      ],
      "metadata": {
        "id": "SOQEtthsmFg7"
      }
    },
    {
      "cell_type": "markdown",
      "source": [
        "Order of operations\n",
        "\n",
        "*depends on the rules of precedence\n",
        "\n",
        "uses PEMDAS rule from high to low order\n",
        "1.Parenthesis\n",
        "\n",
        "2.Exponentiation\n",
        "\n",
        "3.Multiplication and Division (left to right)\n",
        "\n",
        "4.Addition and Subtraction (left to right)"
      ],
      "metadata": {
        "id": "zwXwjMBYuFSn"
      }
    },
    {
      "cell_type": "code",
      "source": [
        "print(2*3**2)"
      ],
      "metadata": {
        "colab": {
          "base_uri": "https://localhost:8080/"
        },
        "id": "XWetwXIQvPNX",
        "outputId": "f3451ed8-bd64-42fc-e03a-7ec512d237a9"
      },
      "execution_count": 14,
      "outputs": [
        {
          "output_type": "stream",
          "name": "stdout",
          "text": [
            "18\n"
          ]
        }
      ]
    },
    {
      "cell_type": "code",
      "source": [
        "x = 1\n",
        "y= 2\n",
        "z= 3\n",
        "ans = x+y-z*y**y\n",
        "print(ans)"
      ],
      "metadata": {
        "colab": {
          "base_uri": "https://localhost:8080/"
        },
        "id": "GG4FULJDvZ-Z",
        "outputId": "61d69e83-fa6a-4daa-e2fb-5328f5e9b69b"
      },
      "execution_count": 16,
      "outputs": [
        {
          "output_type": "stream",
          "name": "stdout",
          "text": [
            "-9\n"
          ]
        }
      ]
    },
    {
      "cell_type": "markdown",
      "source": [
        "#2.7 Operations on strings\n",
        "\n",
        "and ∗ operators also work on strings\n",
        "\n",
        "Chapter 08 covers more on string data type and operations"
      ],
      "metadata": {
        "id": "kijsUstbwFRv"
      }
    },
    {
      "cell_type": "code",
      "source": [
        "fname = \"John\"\n",
        "lname = \"Smith\"\n",
        "fullName = fname +\" \"+ lname\n",
        "print(fullName)"
      ],
      "metadata": {
        "colab": {
          "base_uri": "https://localhost:8080/"
        },
        "id": "TTC9mRa8wR-e",
        "outputId": "c0759dcb-8170-498f-8eaa-772a9f7b680b"
      },
      "execution_count": 17,
      "outputs": [
        {
          "output_type": "stream",
          "name": "stdout",
          "text": [
            "John Smith\n"
          ]
        }
      ]
    },
    {
      "cell_type": "code",
      "source": [
        "gene = \"AGT\" *10\n",
        "print(gene)"
      ],
      "metadata": {
        "colab": {
          "base_uri": "https://localhost:8080/"
        },
        "id": "fnfAuduOwX0E",
        "outputId": "13b5e6a2-9b88-4772-e87b-203bd6b6f662"
      },
      "execution_count": 19,
      "outputs": [
        {
          "output_type": "stream",
          "name": "stdout",
          "text": [
            "AGTAGTAGTAGTAGTAGTAGTAGTAGTAGT\n"
          ]
        }
      ]
    },
    {
      "cell_type": "code",
      "source": [
        "name=input('what is your name?')"
      ],
      "metadata": {
        "colab": {
          "base_uri": "https://localhost:8080/"
        },
        "id": "oWBuQcFSw0uQ",
        "outputId": "b3a5a94f-54e6-4b7e-84e5-e54c5597d4b7"
      },
      "execution_count": 29,
      "outputs": [
        {
          "name": "stdout",
          "output_type": "stream",
          "text": [
            "what is your name?Yenifer \n"
          ]
        }
      ]
    },
    {
      "cell_type": "code",
      "source": [
        "print('hello,', name)"
      ],
      "metadata": {
        "colab": {
          "base_uri": "https://localhost:8080/"
        },
        "id": "RtJ9eiytxZcK",
        "outputId": "a3437c20-4d75-4e66-acc1-599a238d2abc"
      },
      "execution_count": 30,
      "outputs": [
        {
          "output_type": "stream",
          "name": "stdout",
          "text": [
            "hello, Yenifer \n"
          ]
        }
      ]
    },
    {
      "cell_type": "code",
      "source": [
        "num= input('intriduce el número =>')\n",
        "print('tu número es',num)\n",
        "print('el tipo del',num,'=', type(num))"
      ],
      "metadata": {
        "colab": {
          "base_uri": "https://localhost:8080/"
        },
        "id": "bMalRg2xyAcA",
        "outputId": "8a04a2d9-a050-4cb4-d654-09e350c31711"
      },
      "execution_count": 34,
      "outputs": [
        {
          "output_type": "stream",
          "name": "stdout",
          "text": [
            "intriduce el número =>89.96\n",
            "tu número es 89.96\n",
            "el tipo del 89.96 = <class 'str'>\n"
          ]
        }
      ]
    },
    {
      "cell_type": "code",
      "source": [
        "#str must be casted into int or float depending on the value required\n",
        "num2 = float (num)\n",
        "print('type of', num, '=', type(num2))"
      ],
      "metadata": {
        "colab": {
          "base_uri": "https://localhost:8080/"
        },
        "id": "3TUEjkl5z0Al",
        "outputId": "8dd34764-f4af-4e49-dc76-0c5c7a0dd221"
      },
      "execution_count": 37,
      "outputs": [
        {
          "output_type": "stream",
          "name": "stdout",
          "text": [
            "type of 89.96 = <class 'float'>\n"
          ]
        }
      ]
    },
    {
      "cell_type": "markdown",
      "source": [
        "#Ejercicio 1\n",
        "\n",
        "Area y perímetro de un rectángulo\n",
        "\n",
        "Escriba un script de python que calcule el área y el perímetro de un rectángulo"
      ],
      "metadata": {
        "id": "2GDIOTuo33ko"
      }
    },
    {
      "cell_type": "code",
      "source": [
        "# Demuestra la composición paso a paso\n",
        "# Pasos del algoritmo\n",
        "# 1. Obtenga la longitud y el ancho de un rectángulo\n",
        "#     a. valores codificados O\n",
        "#     b. solicitar al usuario que introduzca los valores de largo y ancho\n",
        "#        i. convertir la longitud y el ancho en tipos de datos correctos\n",
        "# 2. Encuentra el área = largo x ancho\n",
        "# 3. Encuentra el perímetro = 2 (largo + ancho)\n",
        "# 4. Mostrar resultados calculados"
      ],
      "metadata": {
        "id": "tSBAcIEb39pz"
      },
      "execution_count": null,
      "outputs": []
    },
    {
      "cell_type": "code",
      "source": [
        "x = input('introduce un número=>')\n",
        "x2 =float(x)"
      ],
      "metadata": {
        "colab": {
          "base_uri": "https://localhost:8080/"
        },
        "id": "GIaerqG_5qx3",
        "outputId": "0f893193-018d-48b8-8d9d-1189bba507ce"
      },
      "execution_count": 40,
      "outputs": [
        {
          "name": "stdout",
          "output_type": "stream",
          "text": [
            "introduce un número=>5.7\n"
          ]
        }
      ]
    },
    {
      "cell_type": "code",
      "source": [
        "y = input ('introduce un número=>')\n",
        "y2 = float (y)"
      ],
      "metadata": {
        "colab": {
          "base_uri": "https://localhost:8080/"
        },
        "id": "iARUM0c06M86",
        "outputId": "817ad748-ff68-453b-dc8b-4beda04f8acb"
      },
      "execution_count": 41,
      "outputs": [
        {
          "name": "stdout",
          "output_type": "stream",
          "text": [
            "introduce un número=>6.5\n"
          ]
        }
      ]
    },
    {
      "cell_type": "code",
      "source": [
        "area =x2 * y2\n",
        "\n",
        "print (\"el área es:\", area)"
      ],
      "metadata": {
        "colab": {
          "base_uri": "https://localhost:8080/"
        },
        "id": "uXRUn4OX6jo_",
        "outputId": "be5f2e8f-4212-43c1-d401-c2cfd20d741e"
      },
      "execution_count": 43,
      "outputs": [
        {
          "output_type": "stream",
          "name": "stdout",
          "text": [
            "el área es: 37.050000000000004\n"
          ]
        }
      ]
    },
    {
      "cell_type": "code",
      "source": [
        "perimetro = (2*x2 ) +(2*y2)\n",
        "\n",
        "print(\"el perímetro es :\",perimetro)"
      ],
      "metadata": {
        "colab": {
          "base_uri": "https://localhost:8080/"
        },
        "id": "pbWxeOId7SlU",
        "outputId": "3eca3f71-3899-4bee-8680-b399db735a88"
      },
      "execution_count": 44,
      "outputs": [
        {
          "output_type": "stream",
          "name": "stdout",
          "text": [
            "el perímetro es : 24.4\n"
          ]
        }
      ]
    },
    {
      "cell_type": "code",
      "source": [
        "class Recatangulo:\n",
        "    def __init__(self,ancho,alto):\n",
        "        self.ancho=ancho\n",
        "        self.alto=alto\n",
        "    def area(self):\n",
        "        area=self.alto*self.ancho\n",
        "        return area\n",
        "    def perimetro(self):\n",
        "        perimetro=(self.alto*2)+(self.ancho*2)\n",
        "        return perimetro\n",
        "r1=Recatangulo(5.7,6.5)\n",
        "area=r1.area()\n",
        "perimetro=r1.perimetro()\n",
        "print(\"El area es:\",area)\n",
        "print(\"El perimetro es:\",perimetro)"
      ],
      "metadata": {
        "colab": {
          "base_uri": "https://localhost:8080/"
        },
        "id": "2pbYNTUq8RS0",
        "outputId": "640b3333-eb46-4f43-c588-9ca777bac65a"
      },
      "execution_count": 49,
      "outputs": [
        {
          "output_type": "stream",
          "name": "stdout",
          "text": [
            "El area es: 37.050000000000004\n",
            "El perimetro es: 24.4\n"
          ]
        }
      ]
    },
    {
      "cell_type": "markdown",
      "source": [
        "#2. Área y circunferencia de un círculo\n",
        "\n",
        "1.escribir un script de python que calcule el área y la circunferencia de un círculo\n",
        "\n",
        "2.el área de un círculo se calcula usando la ecuación:  πr2\n",
        "\n",
        "3.el perímetro de un círculo se calcula usando la ecuación:  2πr\n",
        "\n",
        "4.puedes usar  π=3.14159"
      ],
      "metadata": {
        "id": "8-oIvWaK-qGv"
      }
    },
    {
      "cell_type": "code",
      "source": [
        "# Demostración de paso a paso\n",
        "# Pasos del algoritmo\n",
        "# 1. Solicitar el radio del circulo\n",
        "# 2. Convertir la variable en float\n",
        "# 3. Declarar la constante de Pi\n",
        "# 4. Aplicar la formula de área y mostrar resultado\n",
        "# 5. Aplicar la formula de perimetro y mostrar resultado"
      ],
      "metadata": {
        "id": "05WZHjov-4cq"
      },
      "execution_count": null,
      "outputs": []
    },
    {
      "cell_type": "code",
      "source": [
        "r=float(input(\"introduce el radio:\"))"
      ],
      "metadata": {
        "colab": {
          "base_uri": "https://localhost:8080/"
        },
        "id": "_KNrjsOO-75A",
        "outputId": "f3001ed1-e039-4a10-a844-258d977c511e"
      },
      "execution_count": 50,
      "outputs": [
        {
          "name": "stdout",
          "output_type": "stream",
          "text": [
            "introduce el radio:8\n"
          ]
        }
      ]
    },
    {
      "cell_type": "code",
      "source": [
        "pi= 3.14159"
      ],
      "metadata": {
        "id": "8MA9hzQ6_n6h"
      },
      "execution_count": 51,
      "outputs": []
    },
    {
      "cell_type": "code",
      "source": [
        "área = pi * r * r\n",
        "print(\"el área es:\", área)"
      ],
      "metadata": {
        "colab": {
          "base_uri": "https://localhost:8080/"
        },
        "id": "EnQNYmta_vtm",
        "outputId": "f48ccc84-2658-4d35-c3f4-b753c868e5d3"
      },
      "execution_count": 52,
      "outputs": [
        {
          "output_type": "stream",
          "name": "stdout",
          "text": [
            "el área es: 201.06176\n"
          ]
        }
      ]
    },
    {
      "cell_type": "code",
      "source": [
        "perímetro = pi * r * 2\n",
        "print(\"el perímetro es : \",perímetro)"
      ],
      "metadata": {
        "colab": {
          "base_uri": "https://localhost:8080/"
        },
        "id": "mrpQy0vAAbfA",
        "outputId": "2509240d-8b50-4d86-9f95-c67ff1be868b"
      },
      "execution_count": 58,
      "outputs": [
        {
          "output_type": "stream",
          "name": "stdout",
          "text": [
            "el perímetro es :  50.26544\n"
          ]
        }
      ]
    }
  ]
}