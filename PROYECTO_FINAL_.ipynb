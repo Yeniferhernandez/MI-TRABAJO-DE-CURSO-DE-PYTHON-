{
  "nbformat": 4,
  "nbformat_minor": 0,
  "metadata": {
    "colab": {
      "provenance": [],
      "authorship_tag": "ABX9TyOCNdHVOgBQfdLVPqr1uNIy",
      "include_colab_link": true
    },
    "kernelspec": {
      "name": "python3",
      "display_name": "Python 3"
    },
    "language_info": {
      "name": "python"
    }
  },
  "cells": [
    {
      "cell_type": "markdown",
      "metadata": {
        "id": "view-in-github",
        "colab_type": "text"
      },
      "source": [
        "<a href=\"https://colab.research.google.com/github/Yeniferhernandez/MI-TRABAJO-DE-CURSO-DE-PYTHON-/blob/main/PROYECTO_FINAL_.ipynb\" target=\"_parent\"><img src=\"https://colab.research.google.com/assets/colab-badge.svg\" alt=\"Open In Colab\"/></a>"
      ]
    },
    {
      "cell_type": "markdown",
      "source": [
        "#              PROYECTO FINAL:\n",
        "\n",
        "![IMAGEN DE PYTHON.jfif](data:image/jpeg;base64,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)\n",
        "\n",
        "\n",
        "\n",
        "\n",
        "\n",
        "\n",
        " # CURSO DE PYTHON BÁSICO A INTERMEDIO\n",
        "\n",
        " # AUTOR: YENIFER MARIAN HERNANDEZ CARRILLO.\n",
        "\n",
        " # AGOSTO, 2023\n"
      ],
      "metadata": {
        "id": "wcQFAUGJiaNI"
      }
    },
    {
      "cell_type": "markdown",
      "source": [
        "# INTRODUCCIÓN\n",
        "\n",
        "Estimados lectores, en el presente notebook hablaremos a cdrca de  Python como lo son sus funciones, los tipos de datos, de sus distintos sectores en la cual es utilizado, entre otas muchas coasa más; sin mas preámbulo,comencemos.\n",
        "\n",
        "\n",
        "\n"
      ],
      "metadata": {
        "id": "4iJsl7jVoVXG"
      }
    },
    {
      "cell_type": "markdown",
      "source": [
        "# Cómo utilizar Google Colab.\n"
      ],
      "metadata": {
        "id": "bkk58o0JvVbC"
      }
    },
    {
      "cell_type": "markdown",
      "source": [
        "En este apartado conocimos un poco de Google Colab,comom funciona ,las distintas funciones que tiene como lo son:\n",
        "\n",
        "-cheat-sheet\n",
        "\n",
        "-bold\n",
        "\n",
        "-italicize\n",
        "\n",
        "-lists\n",
        "\n",
        "-unordered list\n",
        "\n",
        "-HTML\n",
        "\n",
        "Entre otros.\n",
        "\n",
        "\n",
        "\n",
        "\n"
      ],
      "metadata": {
        "id": "PCY4w4hwx53Q"
      }
    },
    {
      "cell_type": "markdown",
      "source": [
        "# Tipos de Datos"
      ],
      "metadata": {
        "id": "po8PnqSw0X_Y"
      }
    },
    {
      "cell_type": "markdown",
      "source": [
        "En este apartado tenemos los tipos de datos los cuales son (int, float, str,) se clasifican de distintas maneras."
      ],
      "metadata": {
        "id": "mlLxAunn2L3x"
      }
    },
    {
      "cell_type": "code",
      "source": [
        "type(100)"
      ],
      "metadata": {
        "colab": {
          "base_uri": "https://localhost:8080/"
        },
        "id": "hMDk9kfm7I3s",
        "outputId": "65d422d0-5765-4d9e-9f42-be7c25c29352"
      },
      "execution_count": null,
      "outputs": [
        {
          "output_type": "execute_result",
          "data": {
            "text/plain": [
              "int"
            ]
          },
          "metadata": {},
          "execution_count": 1
        }
      ]
    },
    {
      "cell_type": "code",
      "source": [
        "type(1000.9874)"
      ],
      "metadata": {
        "colab": {
          "base_uri": "https://localhost:8080/"
        },
        "id": "xHxcj79S7arx",
        "outputId": "cbd7c783-37d6-4fd2-8282-0dd917b7a6df"
      },
      "execution_count": null,
      "outputs": [
        {
          "output_type": "execute_result",
          "data": {
            "text/plain": [
              "float"
            ]
          },
          "metadata": {},
          "execution_count": 2
        }
      ]
    },
    {
      "cell_type": "code",
      "source": [
        "type('A')"
      ],
      "metadata": {
        "colab": {
          "base_uri": "https://localhost:8080/"
        },
        "id": "8-sB-n457hNm",
        "outputId": "5cf041ee-355e-483c-ffe7-3a03b2379b09"
      },
      "execution_count": null,
      "outputs": [
        {
          "output_type": "execute_result",
          "data": {
            "text/plain": [
              "str"
            ]
          },
          "metadata": {},
          "execution_count": 3
        }
      ]
    },
    {
      "cell_type": "code",
      "source": [
        "print(\"hello\")"
      ],
      "metadata": {
        "colab": {
          "base_uri": "https://localhost:8080/"
        },
        "id": "95cfaq5-7lab",
        "outputId": "c3302585-6f2d-430d-f325-7c8dd43dbe05"
      },
      "execution_count": null,
      "outputs": [
        {
          "output_type": "stream",
          "name": "stdout",
          "text": [
            "hello\n"
          ]
        }
      ]
    },
    {
      "cell_type": "markdown",
      "source": [
        "# Conversión de tipos\n"
      ],
      "metadata": {
        "id": "eANiEXi07q0z"
      }
    },
    {
      "cell_type": "code",
      "source": [
        "data =\"hello\" # no se puede convertir un cadena en flotante o en entero"
      ],
      "metadata": {
        "id": "vcukniTx8f_Q"
      },
      "execution_count": null,
      "outputs": []
    },
    {
      "cell_type": "code",
      "source": [
        "type(data)"
      ],
      "metadata": {
        "colab": {
          "base_uri": "https://localhost:8080/"
        },
        "id": "tDQPyBvS8i-4",
        "outputId": "e273254b-c4c9-4612-e101-e76cc03bda72"
      },
      "execution_count": null,
      "outputs": [
        {
          "output_type": "execute_result",
          "data": {
            "text/plain": [
              "str"
            ]
          },
          "metadata": {},
          "execution_count": 6
        }
      ]
    },
    {
      "cell_type": "code",
      "source": [
        "data = '100'\n",
        "type(data)"
      ],
      "metadata": {
        "colab": {
          "base_uri": "https://localhost:8080/"
        },
        "id": "V90o_J_A8qmY",
        "outputId": "d867ae93-d9e9-484a-aacd-f5d950b739a9"
      },
      "execution_count": null,
      "outputs": [
        {
          "output_type": "execute_result",
          "data": {
            "text/plain": [
              "str"
            ]
          },
          "metadata": {},
          "execution_count": 7
        }
      ]
    },
    {
      "cell_type": "code",
      "source": [
        "num = int(data)\n",
        "type(num)"
      ],
      "metadata": {
        "colab": {
          "base_uri": "https://localhost:8080/"
        },
        "id": "UNT7rSbJ8yDN",
        "outputId": "465dd406-1e03-4423-c1b6-73edcad76c9f"
      },
      "execution_count": null,
      "outputs": [
        {
          "output_type": "execute_result",
          "data": {
            "text/plain": [
              "int"
            ]
          },
          "metadata": {},
          "execution_count": 8
        }
      ]
    },
    {
      "cell_type": "code",
      "source": [
        "num"
      ],
      "metadata": {
        "colab": {
          "base_uri": "https://localhost:8080/"
        },
        "id": "iH0JSbgp84BV",
        "outputId": "0c9df397-6004-4244-c12b-540b757e4213"
      },
      "execution_count": null,
      "outputs": [
        {
          "output_type": "execute_result",
          "data": {
            "text/plain": [
              "100"
            ]
          },
          "metadata": {},
          "execution_count": 9
        }
      ]
    },
    {
      "cell_type": "markdown",
      "source": [
        "# Ejercicio del tema"
      ],
      "metadata": {
        "id": "gXS2mjYB87b_"
      }
    },
    {
      "cell_type": "code",
      "source": [
        "# Demuestra la composición paso a paso\n",
        "# Pasos del algoritmo\n",
        "# 1. Obtenga la longitud y el ancho de un rectángulo\n",
        "#     a. valores codificados O\n",
        "#     b. solicitar al usuario que introduzca los valores de largo y ancho\n",
        "#        i. convertir la longitud y el ancho en tipos de datos correctos\n",
        "# 2. Encuentra el área = largo x ancho\n",
        "# 3. Encuentra el perímetro = 2 (largo + ancho)\n",
        "# 4. Mostrar resultados calculados"
      ],
      "metadata": {
        "id": "OZqm6ar593ZT"
      },
      "execution_count": null,
      "outputs": []
    },
    {
      "cell_type": "code",
      "source": [
        "x = input('Introduce un número =>')\n",
        "x2 = float(x)"
      ],
      "metadata": {
        "colab": {
          "base_uri": "https://localhost:8080/"
        },
        "id": "qOgrtYA_99c9",
        "outputId": "29b5b1d1-d15d-4bbf-89f1-5f3bf337f166"
      },
      "execution_count": null,
      "outputs": [
        {
          "name": "stdout",
          "output_type": "stream",
          "text": [
            "Introduce un número =>5.7\n"
          ]
        }
      ]
    },
    {
      "cell_type": "code",
      "source": [
        "y = input('Introduce un número =>')\n",
        "y2 = float(y)"
      ],
      "metadata": {
        "colab": {
          "base_uri": "https://localhost:8080/"
        },
        "id": "qUiFbrll-hti",
        "outputId": "dfae9d00-0125-4d60-c353-21e1ebba5cbc"
      },
      "execution_count": null,
      "outputs": [
        {
          "name": "stdout",
          "output_type": "stream",
          "text": [
            "Introduce un número =>6.6\n"
          ]
        }
      ]
    },
    {
      "cell_type": "code",
      "source": [
        "y = float(input('Introduce un número =>'))"
      ],
      "metadata": {
        "colab": {
          "base_uri": "https://localhost:8080/"
        },
        "id": "6zy_AMFw-sv5",
        "outputId": "3474820a-ac0a-4e04-dcdc-3b1d9157b589"
      },
      "execution_count": null,
      "outputs": [
        {
          "name": "stdout",
          "output_type": "stream",
          "text": [
            "Introduce un número =>9.8\n"
          ]
        }
      ]
    },
    {
      "cell_type": "code",
      "source": [
        "Area = x2 * y2\n",
        "\n",
        "print(\"El área es:\",Area)"
      ],
      "metadata": {
        "colab": {
          "base_uri": "https://localhost:8080/"
        },
        "id": "JauZPZVX-w-B",
        "outputId": "14985eae-9013-4867-c09b-11e0cf16ff18"
      },
      "execution_count": null,
      "outputs": [
        {
          "output_type": "stream",
          "name": "stdout",
          "text": [
            "El área es: 37.62\n"
          ]
        }
      ]
    },
    {
      "cell_type": "code",
      "source": [
        "Perimetro = (2*x2) + (2*y2)\n",
        "\n",
        "print(\"El perimetro es:\",Perimetro)"
      ],
      "metadata": {
        "colab": {
          "base_uri": "https://localhost:8080/"
        },
        "id": "OVu5Ix7X-0Pe",
        "outputId": "8ecdb0f8-ce91-413c-d1b1-0b7b257b9a21"
      },
      "execution_count": null,
      "outputs": [
        {
          "output_type": "stream",
          "name": "stdout",
          "text": [
            "El perimetro es: 24.6\n"
          ]
        }
      ]
    },
    {
      "cell_type": "code",
      "source": [
        "perimetro = 2*(x2 +y2)\n",
        "\n",
        "print(\"El perimetro es:\",Perimetro)"
      ],
      "metadata": {
        "colab": {
          "base_uri": "https://localhost:8080/"
        },
        "id": "d5IV6uz3-4EQ",
        "outputId": "9354dba6-d697-42ff-9f06-be4126f728c8"
      },
      "execution_count": null,
      "outputs": [
        {
          "output_type": "stream",
          "name": "stdout",
          "text": [
            "El perimetro es: 24.6\n"
          ]
        }
      ]
    },
    {
      "cell_type": "code",
      "source": [
        "class Recatangulo:\n",
        "    def __init__(self,ancho,alto):\n",
        "        self.ancho=ancho\n",
        "        self.alto=alto\n",
        "    def area(self):\n",
        "        area=self.alto*self.ancho\n",
        "        return area\n",
        "    def perimetro(self):\n",
        "        perimetro=(self.alto*2)+(self.ancho*2)\n",
        "        return perimetro\n",
        "r1=Recatangulo(4,2)\n",
        "area=r1.area()\n",
        "perimetro=r1.perimetro()\n",
        "print(\"El area es:\",area)\n",
        "print(\"El perimetro es:\",perimetro)"
      ],
      "metadata": {
        "colab": {
          "base_uri": "https://localhost:8080/"
        },
        "id": "cpZB5rH7-6ws",
        "outputId": "4ede0f6c-847d-46b9-92a1-f2968e707b92"
      },
      "execution_count": null,
      "outputs": [
        {
          "output_type": "stream",
          "name": "stdout",
          "text": [
            "El area es: 8\n",
            "El perimetro es: 12\n"
          ]
        }
      ]
    },
    {
      "cell_type": "markdown",
      "source": [
        "\n",
        "# FUNCIONES"
      ],
      "metadata": {
        "id": "1JExYeeD_j3P"
      }
    },
    {
      "cell_type": "markdown",
      "source": [
        "En este apartado hablaremos un poco de las funcniones de Python ,lo cual es muy utilizado nos ayudan a que el código sea más fácil de leer y entender."
      ],
      "metadata": {
        "id": "VxecaB5aH-3K"
      }
    },
    {
      "cell_type": "markdown",
      "source": [
        "creando una función con argumentos"
      ],
      "metadata": {
        "id": "k7aKstz0NsWe"
      }
    },
    {
      "cell_type": "code",
      "source": [
        "from typing import Union\n",
        "\n",
        "def area_cuadrado(lado: Union[int, float]) -> Union[int, float]:\n",
        "  \"\"\"Calcula el área de un cuadrado\"\"\"\n",
        "  area = lado * lado\n",
        "  return area"
      ],
      "metadata": {
        "id": "6jrAz0hfNbtf"
      },
      "execution_count": null,
      "outputs": []
    },
    {
      "cell_type": "code",
      "source": [
        "area_cuadrado(6.5)"
      ],
      "metadata": {
        "colab": {
          "base_uri": "https://localhost:8080/"
        },
        "id": "zPIIP826N8aW",
        "outputId": "3ddf0ad9-33c1-4315-ec20-ce49b58b464b"
      },
      "execution_count": null,
      "outputs": [
        {
          "output_type": "execute_result",
          "data": {
            "text/plain": [
              "42.25"
            ]
          },
          "metadata": {},
          "execution_count": 20
        }
      ]
    },
    {
      "cell_type": "markdown",
      "source": [
        "# CONDICIONALES\n"
      ],
      "metadata": {
        "id": "v9Yg9fv5OEcy"
      }
    },
    {
      "cell_type": "markdown",
      "source": [
        "Las sentencias condicionales o simplemente condicionales, nos permite controlar o condicionar el flujo de nuestro código,Dicho de otro modo, nos permite tomar decisiones.\n",
        "\n",
        "**Palabras clave: if, elif, else**"
      ],
      "metadata": {
        "id": "qyIPGlSXO9Ar"
      }
    },
    {
      "cell_type": "markdown",
      "source": [
        "AQUI EL EJEMPLO DE EL USO DE UN CONDICIONAL APLICADO EN LA CANCIÓN NO VOY A TRABAJAR."
      ],
      "metadata": {
        "id": "aiwcw3EdPYKx"
      }
    },
    {
      "cell_type": "code",
      "source": [
        " Día='Lunes'\n",
        "   # Día = 'miercoles'\n",
        "\n",
        "if Día == 'Lunes' :\n",
        "  print('inicio de semana?' )\n",
        "elif Día == 'mércoles' :\n",
        "  print('se casa la patrona, que pachangona')\n",
        "elif Día  == 'sábado':\n",
        "    print('trabajo medio día , por medio día')\n",
        "else:\n",
        "  print('error:no voy a trabajar,no voy a trabajar')"
      ],
      "metadata": {
        "colab": {
          "base_uri": "https://localhost:8080/"
        },
        "id": "gckuPeLTPIVr",
        "outputId": "2fabb4f7-ee6c-44ac-e0fc-d926aad04747"
      },
      "execution_count": null,
      "outputs": [
        {
          "output_type": "stream",
          "name": "stdout",
          "text": [
            "inicio de semana?\n"
          ]
        }
      ]
    },
    {
      "cell_type": "markdown",
      "source": [
        "# INTERACCIONES"
      ],
      "metadata": {
        "id": "kZox2jJDfjZS"
      }
    },
    {
      "cell_type": "markdown",
      "source": [
        "la vida está llena de bucles; rutinas diarias como ir a la universidad, cocinar, cortar verduras, etc.\n",
        "los bucles hacen que la computadora ejecute repetidamente algún bloque de código"
      ],
      "metadata": {
        "id": "kxdj6Q0rVqTC"
      }
    },
    {
      "cell_type": "code",
      "source": [
        "adj = [\"anaranjado\" ,\"delicioso\" , \"grande\" , \"saludable\" ]\n",
        "fruits = [ \"naranja\" , \"durazno\" , \"papaya\" , \"mandarina\" ]\n",
        "for i in adj:\n",
        " for j in fruits:\n",
        "   print(i,j)"
      ],
      "metadata": {
        "colab": {
          "base_uri": "https://localhost:8080/"
        },
        "id": "axpvL92YfnOB",
        "outputId": "b1a9d221-6743-4498-a669-f07c27287314"
      },
      "execution_count": null,
      "outputs": [
        {
          "output_type": "stream",
          "name": "stdout",
          "text": [
            "anaranjado naranja\n",
            "anaranjado durazno\n",
            "anaranjado papaya\n",
            "anaranjado mandarina\n",
            "delicioso naranja\n",
            "delicioso durazno\n",
            "delicioso papaya\n",
            "delicioso mandarina\n",
            "grande naranja\n",
            "grande durazno\n",
            "grande papaya\n",
            "grande mandarina\n",
            "saludable naranja\n",
            "saludable durazno\n",
            "saludable papaya\n",
            "saludable mandarina\n"
          ]
        }
      ]
    },
    {
      "cell_type": "code",
      "source": [
        "#solicita a la persona que ungrese su edad\n",
        "edad = int(input(\"ingresa tu edad\"))\n",
        "\n",
        "#comienza del 1 hasta la edad ingresada, inclusive\n",
        "for x in range(1, edad + 1):\n",
        "   print(\"cumplió\" , x, \"años\")"
      ],
      "metadata": {
        "colab": {
          "base_uri": "https://localhost:8080/"
        },
        "id": "0Jf94mqJfzO4",
        "outputId": "42ebfb7b-e921-438d-f2d1-4951aef5f989"
      },
      "execution_count": null,
      "outputs": [
        {
          "output_type": "stream",
          "name": "stdout",
          "text": [
            "ingresa tu edad18\n",
            "cumplió 1 años\n",
            "cumplió 2 años\n",
            "cumplió 3 años\n",
            "cumplió 4 años\n",
            "cumplió 5 años\n",
            "cumplió 6 años\n",
            "cumplió 7 años\n",
            "cumplió 8 años\n",
            "cumplió 9 años\n",
            "cumplió 10 años\n",
            "cumplió 11 años\n",
            "cumplió 12 años\n",
            "cumplió 13 años\n",
            "cumplió 14 años\n",
            "cumplió 15 años\n",
            "cumplió 16 años\n",
            "cumplió 17 años\n",
            "cumplió 18 años\n"
          ]
        }
      ]
    },
    {
      "cell_type": "code",
      "source": [
        "suma = 1\n",
        "while True:\n",
        "  numeros = int(input('ingrese un numero: '))\n",
        "  if  numeros == 1 :\n",
        "      print(suma)\n",
        "      break\n",
        "else:\n",
        "   suma = suma + numeros\n",
        "print(f'el resultado es: {suma}')"
      ],
      "metadata": {
        "id": "8T4zs9Kff4Aq"
      },
      "execution_count": null,
      "outputs": []
    },
    {
      "cell_type": "code",
      "source": [
        "i = 10\n",
        "j = 1\n",
        "while i > 0:\n",
        " print(' ' * i + '*' * j + ' ' * i)\n",
        " j+=2\n",
        " i-=1"
      ],
      "metadata": {
        "colab": {
          "base_uri": "https://localhost:8080/"
        },
        "id": "GiwJ3Jypf6iZ",
        "outputId": "12a0fb6b-f8b5-4700-8fd1-d81b0846a713"
      },
      "execution_count": null,
      "outputs": [
        {
          "output_type": "stream",
          "name": "stdout",
          "text": [
            "          *          \n",
            "         ***         \n",
            "        *****        \n",
            "       *******       \n",
            "      *********      \n",
            "     ***********     \n",
            "    *************    \n",
            "   ***************   \n",
            "  *****************  \n",
            " ******************* \n"
          ]
        }
      ]
    },
    {
      "cell_type": "markdown",
      "source": [
        "# El tema que mas me gustó de este curso fue TURTLE"
      ],
      "metadata": {
        "id": "XGZzfrbqjWKc"
      }
    },
    {
      "cell_type": "markdown",
      "source": [
        "En TURTLE podemos  hacer cualquier forma ,figura ,\n",
        "podemos interpretar la información de distintas maneras y representarlas mediante objetos\n",
        "turtle es una biblioteca desde 1967,fue una de las primeras librerias graficas que ayudaban de manera educativa."
      ],
      "metadata": {
        "id": "UpI8h13ijpKr"
      }
    },
    {
      "cell_type": "code",
      "source": [
        "!pip3 install ColabTurtle"
      ],
      "metadata": {
        "colab": {
          "base_uri": "https://localhost:8080/"
        },
        "id": "Ibqn8mMMjAPn",
        "outputId": "681c6a23-f843-428e-f396-ffc860889cb2"
      },
      "execution_count": null,
      "outputs": [
        {
          "output_type": "stream",
          "name": "stdout",
          "text": [
            "Collecting ColabTurtle\n",
            "  Downloading ColabTurtle-2.1.0.tar.gz (6.8 kB)\n",
            "  Preparing metadata (setup.py) ... \u001b[?25l\u001b[?25hdone\n",
            "Building wheels for collected packages: ColabTurtle\n",
            "  Building wheel for ColabTurtle (setup.py) ... \u001b[?25l\u001b[?25hdone\n",
            "  Created wheel for ColabTurtle: filename=ColabTurtle-2.1.0-py3-none-any.whl size=7641 sha256=9f2d730ed4655c96d4bde01ebe8d32b9f67d4f7910f7aedab5360f9f848d4d0b\n",
            "  Stored in directory: /root/.cache/pip/wheels/5b/86/e8/54f5c8c853606e3a3060bb2e60363cbed632374a12e0f33ffc\n",
            "Successfully built ColabTurtle\n",
            "Installing collected packages: ColabTurtle\n",
            "Successfully installed ColabTurtle-2.1.0\n"
          ]
        }
      ]
    },
    {
      "cell_type": "code",
      "source": [
        "from ColabTurtle.Turtle import *"
      ],
      "metadata": {
        "id": "Jlisyg-IqJmj"
      },
      "execution_count": null,
      "outputs": []
    },
    {
      "cell_type": "code",
      "source": [
        "import ColabTurtle"
      ],
      "metadata": {
        "id": "0HcdCKB8qOfv"
      },
      "execution_count": null,
      "outputs": []
    },
    {
      "cell_type": "code",
      "source": [
        "initializeTurtle(initial_speed=7)\n",
        "colors_list = [\"red\", \"purple\", \"blue\", \"green\", \"orange\", \"yellow\"]\n",
        "\n",
        "for value in range(360):\n",
        "  pencolor(colors_list[value%6])\n",
        "  width(int(value/100) + 1)\n",
        "  forward(value/1.5)\n",
        "  left(59)"
      ],
      "metadata": {
        "colab": {
          "base_uri": "https://localhost:8080/",
          "height": 521
        },
        "id": "ctt2vj6dqRAk",
        "outputId": "b462c227-d46a-473e-e2e6-54171ea96c93"
      },
      "execution_count": null,
      "outputs": [
        {
          "output_type": "display_data",
          "data": {
            "text/plain": [
              "<IPython.core.display.HTML object>"
            ],
            "text/html": [
              "\n",
              "      <svg width=\"800\" height=\"500\">\n",
              "        <rect width=\"100%\" height=\"100%\" fill=\"black\"/>\n",
              "        <line x1=\"400\" y1=\"250\" x2=\"400.0\" y2=\"250.0\" stroke-linecap=\"round\" style=\"stroke:red;stroke-width:1\"/><line x1=\"400.0\" y1=\"250.0\" x2=\"399.429\" y2=\"249.657\" stroke-linecap=\"round\" style=\"stroke:purple;stroke-width:1\"/><line x1=\"399.429\" y1=\"249.657\" x2=\"398.252\" y2=\"250.283\" stroke-linecap=\"round\" style=\"stroke:blue;stroke-width:1\"/><line x1=\"398.252\" y1=\"250.283\" x2=\"398.147\" y2=\"252.28\" stroke-linecap=\"round\" style=\"stroke:green;stroke-width:1\"/><line x1=\"398.147\" y1=\"252.28\" x2=\"400.358\" y2=\"253.771\" stroke-linecap=\"round\" style=\"stroke:orange;stroke-width:1\"/><line x1=\"400.358\" y1=\"253.771\" x2=\"403.379\" y2=\"252.362\" stroke-linecap=\"round\" style=\"stroke:yellow;stroke-width:1\"/><line x1=\"403.379\" y1=\"252.362\" x2=\"403.797\" y2=\"248.384\" stroke-linecap=\"round\" style=\"stroke:red;stroke-width:1\"/><line x1=\"403.797\" y1=\"248.384\" x2=\"400.07\" y2=\"245.576\" stroke-linecap=\"round\" style=\"stroke:purple;stroke-width:1\"/><line x1=\"400.07\" y1=\"245.576\" x2=\"395.125\" y2=\"247.574\" stroke-linecap=\"round\" style=\"stroke:blue;stroke-width:1\"/><line x1=\"395.125\" y1=\"247.574\" x2=\"394.186\" y2=\"253.5\" stroke-linecap=\"round\" style=\"stroke:green;stroke-width:1\"/><line x1=\"394.186\" y1=\"253.5\" x2=\"399.293\" y2=\"257.785\" stroke-linecap=\"round\" style=\"stroke:orange;stroke-width:1\"/><line x1=\"399.293\" y1=\"257.785\" x2=\"406.227\" y2=\"255.398\" stroke-linecap=\"round\" style=\"stroke:yellow;stroke-width:1\"/><line x1=\"406.227\" y1=\"255.398\" x2=\"407.89\" y2=\"247.573\" stroke-linecap=\"round\" style=\"stroke:red;stroke-width:1\"/><line x1=\"407.89\" y1=\"247.573\" x2=\"401.552\" y2=\"241.662\" stroke-linecap=\"round\" style=\"stroke:purple;stroke-width:1\"/><line x1=\"401.552\" y1=\"241.662\" x2=\"392.58\" y2=\"244.235\" stroke-linecap=\"round\" style=\"stroke:blue;stroke-width:1\"/><line x1=\"392.58\" y1=\"244.235\" x2=\"389.992\" y2=\"253.894\" stroke-linecap=\"round\" style=\"stroke:green;stroke-width:1\"/><line x1=\"389.992\" y1=\"253.894\" x2=\"397.402\" y2=\"261.567\" stroke-linecap=\"round\" style=\"stroke:orange;stroke-width:1\"/><line x1=\"397.402\" y1=\"261.567\" x2=\"408.445\" y2=\"259.018\" stroke-linecap=\"round\" style=\"stroke:yellow;stroke-width:1\"/><line x1=\"408.445\" y1=\"259.018\" x2=\"412.153\" y2=\"247.605\" stroke-linecap=\"round\" style=\"stroke:red;stroke-width:1\"/><line x1=\"412.153\" y1=\"247.605\" x2=\"403.843\" y2=\"238.045\" stroke-linecap=\"round\" style=\"stroke:purple;stroke-width:1\"/><line x1=\"403.843\" y1=\"238.045\" x2=\"390.712\" y2=\"240.36\" stroke-linecap=\"round\" style=\"stroke:blue;stroke-width:1\"/><line x1=\"390.712\" y1=\"240.36\" x2=\"385.695\" y2=\"253.43\" stroke-linecap=\"round\" style=\"stroke:green;stroke-width:1\"/><line x1=\"385.695\" y1=\"253.43\" x2=\"394.725\" y2=\"264.987\" stroke-linecap=\"round\" style=\"stroke:orange;stroke-width:1\"/><line x1=\"394.725\" y1=\"264.987\" x2=\"409.944\" y2=\"263.118\" stroke-linecap=\"round\" style=\"stroke:yellow;stroke-width:1\"/><line x1=\"409.944\" y1=\"263.118\" x2=\"416.452\" y2=\"248.501\" stroke-linecap=\"round\" style=\"stroke:red;stroke-width:1\"/><line x1=\"416.452\" y1=\"248.501\" x2=\"406.892\" y2=\"234.848\" stroke-linecap=\"round\" style=\"stroke:purple;stroke-width:1\"/><line x1=\"406.892\" y1=\"234.848\" x2=\"389.601\" y2=\"236.057\" stroke-linecap=\"round\" style=\"stroke:blue;stroke-width:1\"/><line x1=\"389.601\" y1=\"236.057\" x2=\"381.429\" y2=\"252.095\" stroke-linecap=\"round\" style=\"stroke:green;stroke-width:1\"/><line x1=\"381.429\" y1=\"252.095\" x2=\"391.321\" y2=\"267.925\" stroke-linecap=\"round\" style=\"stroke:orange;stroke-width:1\"/><line x1=\"391.321\" y1=\"267.925\" x2=\"410.651\" y2=\"267.588\" stroke-linecap=\"round\" style=\"stroke:yellow;stroke-width:1\"/><line x1=\"410.651\" y1=\"267.588\" x2=\"420.651\" y2=\"250.267\" stroke-linecap=\"round\" style=\"stroke:red;stroke-width:1\"/><line x1=\"420.651\" y1=\"250.267\" x2=\"410.632\" y2=\"232.192\" stroke-linecap=\"round\" style=\"stroke:purple;stroke-width:1\"/><line x1=\"410.632\" y1=\"232.192\" x2=\"389.312\" y2=\"231.447\" stroke-linecap=\"round\" style=\"stroke:blue;stroke-width:1\"/><line x1=\"389.312\" y1=\"231.447\" x2=\"377.33\" y2=\"249.898\" stroke-linecap=\"round\" style=\"stroke:green;stroke-width:1\"/><line x1=\"377.33\" y1=\"249.898\" x2=\"387.266\" y2=\"270.271\" stroke-linecap=\"round\" style=\"stroke:orange;stroke-width:1\"/><line x1=\"387.266\" y1=\"270.271\" x2=\"410.511\" y2=\"272.305\" stroke-linecap=\"round\" style=\"stroke:yellow;stroke-width:1\"/><line x1=\"410.511\" y1=\"272.305\" x2=\"424.618\" y2=\"252.889\" stroke-linecap=\"round\" style=\"stroke:red;stroke-width:1\"/><line x1=\"424.618\" y1=\"252.889\" x2=\"414.98\" y2=\"230.183\" stroke-linecap=\"round\" style=\"stroke:purple;stroke-width:1\"/><line x1=\"414.98\" y1=\"230.183\" x2=\"389.893\" y2=\"226.657\" stroke-linecap=\"round\" style=\"stroke:blue;stroke-width:1\"/><line x1=\"389.893\" y1=\"226.657\" x2=\"373.531\" y2=\"246.863\" stroke-linecap=\"round\" style=\"stroke:green;stroke-width:1\"/><line x1=\"373.531\" y1=\"246.863\" x2=\"382.652\" y2=\"271.921\" stroke-linecap=\"round\" style=\"stroke:orange;stroke-width:1\"/><line x1=\"382.652\" y1=\"271.921\" x2=\"409.483\" y2=\"277.136\" stroke-linecap=\"round\" style=\"stroke:yellow;stroke-width:1\"/><line x1=\"409.483\" y1=\"277.136\" x2=\"428.219\" y2=\"256.328\" stroke-linecap=\"round\" style=\"stroke:red;stroke-width:1\"/><line x1=\"428.219\" y1=\"256.328\" x2=\"419.838\" y2=\"228.914\" stroke-linecap=\"round\" style=\"stroke:purple;stroke-width:1\"/><line x1=\"419.838\" y1=\"228.914\" x2=\"391.376\" y2=\"221.818\" stroke-linecap=\"round\" style=\"stroke:blue;stroke-width:1\"/><line x1=\"391.376\" y1=\"221.818\" x2=\"370.163\" y2=\"243.031\" stroke-linecap=\"round\" style=\"stroke:green;stroke-width:1\"/><line x1=\"370.163\" y1=\"243.031\" x2=\"377.582\" y2=\"272.787\" stroke-linecap=\"round\" style=\"stroke:orange;stroke-width:1\"/><line x1=\"377.582\" y1=\"272.787\" x2=\"407.546\" y2=\"281.948\" stroke-linecap=\"round\" style=\"stroke:yellow;stroke-width:1\"/><line x1=\"407.546\" y1=\"281.948\" x2=\"431.327\" y2=\"260.536\" stroke-linecap=\"round\" style=\"stroke:red;stroke-width:1\"/><line x1=\"431.327\" y1=\"260.536\" x2=\"425.094\" y2=\"228.47\" stroke-linecap=\"round\" style=\"stroke:purple;stroke-width:1\"/><line x1=\"425.094\" y1=\"228.47\" x2=\"393.771\" y2=\"217.069\" stroke-linecap=\"round\" style=\"stroke:blue;stroke-width:1\"/><line x1=\"393.771\" y1=\"217.069\" x2=\"367.348\" y2=\"238.466\" stroke-linecap=\"round\" style=\"stroke:green;stroke-width:1\"/><line x1=\"367.348\" y1=\"238.466\" x2=\"372.173\" y2=\"272.795\" stroke-linecap=\"round\" style=\"stroke:orange;stroke-width:1\"/><line x1=\"372.173\" y1=\"272.795\" x2=\"404.698\" y2=\"286.601\" stroke-linecap=\"round\" style=\"stroke:yellow;stroke-width:1\"/><line x1=\"404.698\" y1=\"286.601\" x2=\"433.823\" y2=\"265.441\" stroke-linecap=\"round\" style=\"stroke:red;stroke-width:1\"/><line x1=\"433.823\" y1=\"265.441\" x2=\"430.627\" y2=\"228.914\" stroke-linecap=\"round\" style=\"stroke:purple;stroke-width:1\"/><line x1=\"430.627\" y1=\"228.914\" x2=\"397.072\" y2=\"212.548\" stroke-linecap=\"round\" style=\"stroke:blue;stroke-width:1\"/><line x1=\"397.072\" y1=\"212.548\" x2=\"365.203\" y2=\"233.244\" stroke-linecap=\"round\" style=\"stroke:green;stroke-width:1\"/><line x1=\"365.203\" y1=\"233.244\" x2=\"366.552\" y2=\"271.887\" stroke-linecap=\"round\" style=\"stroke:orange;stroke-width:1\"/><line x1=\"366.552\" y1=\"271.887\" x2=\"400.954\" y2=\"290.956\" stroke-linecap=\"round\" style=\"stroke:yellow;stroke-width:1\"/><line x1=\"400.954\" y1=\"290.956\" x2=\"435.595\" y2=\"270.956\" stroke-linecap=\"round\" style=\"stroke:red;stroke-width:1\"/><line x1=\"435.595\" y1=\"270.956\" x2=\"436.305\" y2=\"230.296\" stroke-linecap=\"round\" style=\"stroke:purple;stroke-width:1\"/><line x1=\"436.305\" y1=\"230.296\" x2=\"401.252\" y2=\"208.393\" stroke-linecap=\"round\" style=\"stroke:blue;stroke-width:1\"/><line x1=\"401.252\" y1=\"208.393\" x2=\"363.83\" y2=\"227.461\" stroke-linecap=\"round\" style=\"stroke:green;stroke-width:1\"/><line x1=\"363.83\" y1=\"227.461\" x2=\"360.854\" y2=\"270.024\" stroke-linecap=\"round\" style=\"stroke:orange;stroke-width:1\"/><line x1=\"360.854\" y1=\"270.024\" x2=\"396.351\" y2=\"294.879\" stroke-linecap=\"round\" style=\"stroke:yellow;stroke-width:1\"/><line x1=\"396.351\" y1=\"294.879\" x2=\"436.547\" y2=\"276.983\" stroke-linecap=\"round\" style=\"stroke:red;stroke-width:1\"/><line x1=\"436.547\" y1=\"276.983\" x2=\"441.99\" y2=\"232.649\" stroke-linecap=\"round\" style=\"stroke:purple;stroke-width:1\"/><line x1=\"441.99\" y1=\"232.649\" x2=\"406.267\" y2=\"204.739\" stroke-linecap=\"round\" style=\"stroke:blue;stroke-width:1\"/><line x1=\"406.267\" y1=\"204.739\" x2=\"363.322\" y2=\"221.224\" stroke-linecap=\"round\" style=\"stroke:green;stroke-width:1\"/><line x1=\"363.322\" y1=\"221.224\" x2=\"355.218\" y2=\"267.182\" stroke-linecap=\"round\" style=\"stroke:orange;stroke-width:1\"/><line x1=\"355.218\" y1=\"267.182\" x2=\"390.941\" y2=\"298.235\" stroke-linecap=\"round\" style=\"stroke:yellow;stroke-width:1\"/><line x1=\"390.941\" y1=\"298.235\" x2=\"436.592\" y2=\"283.402\" stroke-linecap=\"round\" style=\"stroke:red;stroke-width:1\"/><line x1=\"436.592\" y1=\"283.402\" x2=\"447.54\" y2=\"235.983\" stroke-linecap=\"round\" style=\"stroke:purple;stroke-width:1\"/><line x1=\"447.54\" y1=\"235.983\" x2=\"412.053\" y2=\"201.713\" stroke-linecap=\"round\" style=\"stroke:blue;stroke-width:1\"/><line x1=\"412.053\" y1=\"201.713\" x2=\"363.757\" y2=\"214.654\" stroke-linecap=\"round\" style=\"stroke:green;stroke-width:1\"/><line x1=\"363.757\" y1=\"214.654\" x2=\"349.791\" y2=\"263.358\" stroke-linecap=\"round\" style=\"stroke:orange;stroke-width:1\"/><line x1=\"349.791\" y1=\"263.358\" x2=\"384.8\" y2=\"300.901\" stroke-linecap=\"round\" style=\"stroke:yellow;stroke-width:1\"/><line x1=\"384.8\" y1=\"300.901\" x2=\"435.664\" y2=\"290.09\" stroke-linecap=\"round\" style=\"stroke:red;stroke-width:1\"/><line x1=\"435.664\" y1=\"290.09\" x2=\"452.811\" y2=\"240.293\" stroke-linecap=\"round\" style=\"stroke:purple;stroke-width:1\"/><line x1=\"452.811\" y1=\"240.293\" x2=\"418.529\" y2=\"199.437\" stroke-linecap=\"round\" style=\"stroke:blue;stroke-width:1\"/><line x1=\"418.529\" y1=\"199.437\" x2=\"365.194\" y2=\"207.884\" stroke-linecap=\"round\" style=\"stroke:green;stroke-width:1\"/><line x1=\"365.194\" y1=\"207.884\" x2=\"344.716\" y2=\"258.57\" stroke-linecap=\"round\" style=\"stroke:orange;stroke-width:1\"/><line x1=\"344.716\" y1=\"258.57\" x2=\"378.016\" y2=\"302.761\" stroke-linecap=\"round\" style=\"stroke:yellow;stroke-width:1\"/><line x1=\"378.016\" y1=\"302.761\" x2=\"433.709\" y2=\"296.907\" stroke-linecap=\"round\" style=\"stroke:red;stroke-width:1\"/><line x1=\"433.709\" y1=\"296.907\" x2=\"457.657\" y2=\"245.55\" stroke-linecap=\"round\" style=\"stroke:purple;stroke-width:1\"/><line x1=\"457.657\" y1=\"245.55\" x2=\"425.597\" y2=\"198.019\" stroke-linecap=\"round\" style=\"stroke:blue;stroke-width:1\"/><line x1=\"425.597\" y1=\"198.019\" x2=\"367.676\" y2=\"201.054\" stroke-linecap=\"round\" style=\"stroke:green;stroke-width:1\"/><line x1=\"367.676\" y1=\"201.054\" x2=\"340.134\" y2=\"252.854\" stroke-linecap=\"round\" style=\"stroke:orange;stroke-width:1\"/><line x1=\"340.134\" y1=\"252.854\" x2=\"370.693\" y2=\"303.713\" stroke-linecap=\"round\" style=\"stroke:yellow;stroke-width:1\"/><line x1=\"370.693\" y1=\"303.713\" x2=\"430.693\" y2=\"303.713\" stroke-linecap=\"round\" style=\"stroke:red;stroke-width:1\"/><line x1=\"430.693\" y1=\"303.713\" x2=\"461.939\" y2=\"251.712\" stroke-linecap=\"round\" style=\"stroke:purple;stroke-width:1\"/><line x1=\"461.939\" y1=\"251.712\" x2=\"433.145\" y2=\"197.558\" stroke-linecap=\"round\" style=\"stroke:blue;stroke-width:1\"/><line x1=\"433.145\" y1=\"197.558\" x2=\"371.23\" y2=\"194.313\" stroke-linecap=\"round\" style=\"stroke:green;stroke-width:1\"/><line x1=\"371.23\" y1=\"194.313\" x2=\"336.187\" y2=\"246.266\" stroke-linecap=\"round\" style=\"stroke:orange;stroke-width:1\"/><line x1=\"336.187\" y1=\"246.266\" x2=\"362.953\" y2=\"303.665\" stroke-linecap=\"round\" style=\"stroke:yellow;stroke-width:1\"/><line x1=\"362.953\" y1=\"303.665\" x2=\"426.602\" y2=\"310.355\" stroke-linecap=\"round\" style=\"stroke:red;stroke-width:1\"/><line x1=\"426.602\" y1=\"310.355\" x2=\"465.519\" y2=\"258.71\" stroke-linecap=\"round\" style=\"stroke:purple;stroke-width:1\"/><line x1=\"465.519\" y1=\"258.71\" x2=\"441.045\" y2=\"198.134\" stroke-linecap=\"round\" style=\"stroke:blue;stroke-width:1\"/><line x1=\"441.045\" y1=\"198.134\" x2=\"375.858\" y2=\"187.809\" stroke-linecap=\"round\" style=\"stroke:green;stroke-width:1\"/><line x1=\"375.858\" y1=\"187.809\" x2=\"333.005\" y2=\"238.879\" stroke-linecap=\"round\" style=\"stroke:orange;stroke-width:2\"/><line x1=\"333.005\" y1=\"238.879\" x2=\"354.927\" y2=\"302.544\" stroke-linecap=\"round\" style=\"stroke:yellow;stroke-width:2\"/><line x1=\"354.927\" y1=\"302.544\" x2=\"421.441\" y2=\"316.682\" stroke-linecap=\"round\" style=\"stroke:red;stroke-width:2\"/><line x1=\"421.441\" y1=\"316.682\" x2=\"468.272\" y2=\"266.462\" stroke-linecap=\"round\" style=\"stroke:purple;stroke-width:2\"/><line x1=\"468.272\" y1=\"266.462\" x2=\"449.161\" y2=\"199.815\" stroke-linecap=\"round\" style=\"stroke:blue;stroke-width:2\"/><line x1=\"449.161\" y1=\"199.815\" x2=\"381.546\" y2=\"181.698\" stroke-linecap=\"round\" style=\"stroke:green;stroke-width:2\"/><line x1=\"381.546\" y1=\"181.698\" x2=\"330.713\" y2=\"230.787\" stroke-linecap=\"round\" style=\"stroke:orange;stroke-width:2\"/><line x1=\"330.713\" y1=\"230.787\" x2=\"346.76\" y2=\"300.292\" stroke-linecap=\"round\" style=\"stroke:yellow;stroke-width:2\"/><line x1=\"346.76\" y1=\"300.292\" x2=\"415.236\" y2=\"322.541\" stroke-linecap=\"round\" style=\"stroke:red;stroke-width:2\"/><line x1=\"415.236\" y1=\"322.541\" x2=\"470.078\" y2=\"274.867\" stroke-linecap=\"round\" style=\"stroke:purple;stroke-width:2\"/><line x1=\"470.078\" y1=\"274.867\" x2=\"457.344\" y2=\"202.648\" stroke-linecap=\"round\" style=\"stroke:blue;stroke-width:2\"/><line x1=\"457.344\" y1=\"202.648\" x2=\"388.259\" y2=\"176.129\" stroke-linecap=\"round\" style=\"stroke:green;stroke-width:2\"/><line x1=\"388.259\" y1=\"176.129\" x2=\"329.421\" y2=\"222.098\" stroke-linecap=\"round\" style=\"stroke:orange;stroke-width:2\"/><line x1=\"329.421\" y1=\"222.098\" x2=\"338.602\" y2=\"296.87\" stroke-linecap=\"round\" style=\"stroke:yellow;stroke-width:2\"/><line x1=\"338.602\" y1=\"296.87\" x2=\"408.031\" y2=\"327.782\" stroke-linecap=\"round\" style=\"stroke:red;stroke-width:2\"/><line x1=\"408.031\" y1=\"327.782\" x2=\"470.833\" y2=\"283.808\" stroke-linecap=\"round\" style=\"stroke:purple;stroke-width:2\"/><line x1=\"470.833\" y1=\"283.808\" x2=\"465.438\" y2=\"206.663\" stroke-linecap=\"round\" style=\"stroke:blue;stroke-width:2\"/><line x1=\"465.438\" y1=\"206.663\" x2=\"395.939\" y2=\"171.252\" stroke-linecap=\"round\" style=\"stroke:green;stroke-width:2\"/><line x1=\"395.939\" y1=\"171.252\" x2=\"329.226\" y2=\"212.939\" stroke-linecap=\"round\" style=\"stroke:orange;stroke-width:2\"/><line x1=\"329.226\" y1=\"212.939\" x2=\"330.611\" y2=\"292.26\" stroke-linecap=\"round\" style=\"stroke:yellow;stroke-width:2\"/><line x1=\"330.611\" y1=\"292.26\" x2=\"399.893\" y2=\"332.26\" stroke-linecap=\"round\" style=\"stroke:red;stroke-width:2\"/><line x1=\"399.893\" y1=\"332.26\" x2=\"470.446\" y2=\"293.152\" stroke-linecap=\"round\" style=\"stroke:purple;stroke-width:2\"/><line x1=\"470.446\" y1=\"293.152\" x2=\"473.284\" y2=\"211.868\" stroke-linecap=\"round\" style=\"stroke:blue;stroke-width:2\"/><line x1=\"473.284\" y1=\"211.868\" x2=\"404.513\" y2=\"167.208\" stroke-linecap=\"round\" style=\"stroke:green;stroke-width:2\"/><line x1=\"404.513\" y1=\"167.208\" x2=\"330.213\" y2=\"203.447\" stroke-linecap=\"round\" style=\"stroke:orange;stroke-width:2\"/><line x1=\"330.213\" y1=\"203.447\" x2=\"322.95\" y2=\"286.463\" stroke-linecap=\"round\" style=\"stroke:yellow;stroke-width:2\"/><line x1=\"322.95\" y1=\"286.463\" x2=\"390.907\" y2=\"335.837\" stroke-linecap=\"round\" style=\"stroke:red;stroke-width:2\"/><line x1=\"390.907\" y1=\"335.837\" x2=\"468.843\" y2=\"302.755\" stroke-linecap=\"round\" style=\"stroke:purple;stroke-width:2\"/><line x1=\"468.843\" y1=\"302.755\" x2=\"480.719\" y2=\"218.252\" stroke-linecap=\"round\" style=\"stroke:blue;stroke-width:2\"/><line x1=\"480.719\" y1=\"218.252\" x2=\"413.884\" y2=\"164.13\" stroke-linecap=\"round\" style=\"stroke:green;stroke-width:2\"/><line x1=\"413.884\" y1=\"164.13\" x2=\"332.444\" y2=\"193.772\" stroke-linecap=\"round\" style=\"stroke:orange;stroke-width:2\"/><line x1=\"332.444\" y1=\"193.772\" x2=\"315.78\" y2=\"279.501\" stroke-linecap=\"round\" style=\"stroke:yellow;stroke-width:2\"/><line x1=\"315.78\" y1=\"279.501\" x2=\"381.177\" y2=\"338.384\" stroke-linecap=\"round\" style=\"stroke:red;stroke-width:2\"/><line x1=\"381.177\" y1=\"338.384\" x2=\"465.969\" y2=\"312.46\" stroke-linecap=\"round\" style=\"stroke:purple;stroke-width:2\"/><line x1=\"465.969\" y1=\"312.46\" x2=\"487.581\" y2=\"225.78\" stroke-linecap=\"round\" style=\"stroke:blue;stroke-width:2\"/><line x1=\"487.581\" y1=\"225.78\" x2=\"423.941\" y2=\"162.14\" stroke-linecap=\"round\" style=\"stroke:green;stroke-width:2\"/><line x1=\"423.941\" y1=\"162.14\" x2=\"335.968\" y2=\"184.074\" stroke-linecap=\"round\" style=\"stroke:orange;stroke-width:2\"/><line x1=\"335.968\" y1=\"184.074\" x2=\"309.265\" y2=\"271.417\" stroke-linecap=\"round\" style=\"stroke:yellow;stroke-width:2\"/><line x1=\"309.265\" y1=\"271.417\" x2=\"370.825\" y2=\"339.786\" stroke-linecap=\"round\" style=\"stroke:red;stroke-width:2\"/><line x1=\"370.825\" y1=\"339.786\" x2=\"461.789\" y2=\"322.104\" stroke-linecap=\"round\" style=\"stroke:purple;stroke-width:2\"/><line x1=\"461.789\" y1=\"322.104\" x2=\"493.711\" y2=\"234.399\" stroke-linecap=\"round\" style=\"stroke:blue;stroke-width:2\"/><line x1=\"493.711\" y1=\"234.399\" x2=\"434.555\" y2=\"161.347\" stroke-linecap=\"round\" style=\"stroke:green;stroke-width:2\"/><line x1=\"434.555\" y1=\"161.347\" x2=\"340.81\" y2=\"174.522\" stroke-linecap=\"round\" style=\"stroke:orange;stroke-width:2\"/><line x1=\"340.81\" y1=\"174.522\" x2=\"303.56\" y2=\"262.277\" stroke-linecap=\"round\" style=\"stroke:yellow;stroke-width:2\"/><line x1=\"303.56\" y1=\"262.277\" x2=\"359.987\" y2=\"339.943\" stroke-linecap=\"round\" style=\"stroke:red;stroke-width:2\"/><line x1=\"359.987\" y1=\"339.943\" x2=\"456.286\" y2=\"331.518\" stroke-linecap=\"round\" style=\"stroke:purple;stroke-width:2\"/><line x1=\"456.286\" y1=\"331.518\" x2=\"498.954\" y2=\"244.035\" stroke-linecap=\"round\" style=\"stroke:blue;stroke-width:2\"/><line x1=\"498.954\" y1=\"244.035\" x2=\"445.579\" y2=\"161.845\" stroke-linecap=\"round\" style=\"stroke:green;stroke-width:2\"/><line x1=\"445.579\" y1=\"161.845\" x2=\"346.972\" y2=\"165.288\" stroke-linecap=\"round\" style=\"stroke:orange;stroke-width:2\"/><line x1=\"346.972\" y1=\"165.288\" x2=\"298.814\" y2=\"252.167\" stroke-linecap=\"round\" style=\"stroke:yellow;stroke-width:2\"/><line x1=\"298.814\" y1=\"252.167\" x2=\"348.814\" y2=\"338.77\" stroke-linecap=\"round\" style=\"stroke:red;stroke-width:2\"/><line x1=\"348.814\" y1=\"338.77\" x2=\"449.465\" y2=\"340.527\" stroke-linecap=\"round\" style=\"stroke:purple;stroke-width:2\"/><line x1=\"449.465\" y1=\"340.527\" x2=\"503.163\" y2=\"254.591\" stroke-linecap=\"round\" style=\"stroke:blue;stroke-width:2\"/><line x1=\"503.163\" y1=\"254.591\" x2=\"456.856\" y2=\"163.708\" stroke-linecap=\"round\" style=\"stroke:green;stroke-width:2\"/><line x1=\"456.856\" y1=\"163.708\" x2=\"354.439\" y2=\"156.546\" stroke-linecap=\"round\" style=\"stroke:orange;stroke-width:2\"/><line x1=\"354.439\" y1=\"156.546\" x2=\"295.169\" y2=\"241.192\" stroke-linecap=\"round\" style=\"stroke:yellow;stroke-width:2\"/><line x1=\"295.169\" y1=\"241.192\" x2=\"337.47\" y2=\"336.201\" stroke-linecap=\"round\" style=\"stroke:red;stroke-width:2\"/><line x1=\"337.47\" y1=\"336.201\" x2=\"441.356\" y2=\"348.957\" stroke-linecap=\"round\" style=\"stroke:purple;stroke-width:2\"/><line x1=\"441.356\" y1=\"348.957\" x2=\"506.206\" y2=\"265.953\" stroke-linecap=\"round\" style=\"stroke:blue;stroke-width:2\"/><line x1=\"506.206\" y1=\"265.953\" x2=\"468.219\" y2=\"166.993\" stroke-linecap=\"round\" style=\"stroke:green;stroke-width:2\"/><line x1=\"468.219\" y1=\"166.993\" x2=\"363.173\" y2=\"148.471\" stroke-linecap=\"round\" style=\"stroke:orange;stroke-width:2\"/><line x1=\"363.173\" y1=\"148.471\" x2=\"292.756\" y2=\"229.476\" stroke-linecap=\"round\" style=\"stroke:yellow;stroke-width:2\"/><line x1=\"292.756\" y1=\"229.476\" x2=\"326.13\" y2=\"332.19\" stroke-linecap=\"round\" style=\"stroke:red;stroke-width:2\"/><line x1=\"326.13\" y1=\"332.19\" x2=\"432.012\" y2=\"356.635\" stroke-linecap=\"round\" style=\"stroke:purple;stroke-width:2\"/><line x1=\"432.012\" y1=\"356.635\" x2=\"507.961\" y2=\"277.987\" stroke-linecap=\"round\" style=\"stroke:blue;stroke-width:2\"/><line x1=\"507.961\" y1=\"277.987\" x2=\"479.491\" y2=\"171.735\" stroke-linecap=\"round\" style=\"stroke:green;stroke-width:2\"/><line x1=\"479.491\" y1=\"171.735\" x2=\"373.111\" y2=\"141.231\" stroke-linecap=\"round\" style=\"stroke:orange;stroke-width:2\"/><line x1=\"373.111\" y1=\"141.231\" x2=\"291.687\" y2=\"217.16\" stroke-linecap=\"round\" style=\"stroke:yellow;stroke-width:2\"/><line x1=\"291.687\" y1=\"217.16\" x2=\"314.973\" y2=\"326.713\" stroke-linecap=\"round\" style=\"stroke:red;stroke-width:2\"/><line x1=\"314.973\" y1=\"326.713\" x2=\"421.501\" y2=\"363.394\" stroke-linecap=\"round\" style=\"stroke:purple;stroke-width:2\"/><line x1=\"421.501\" y1=\"363.394\" x2=\"508.319\" y2=\"290.545\" stroke-linecap=\"round\" style=\"stroke:blue;stroke-width:2\"/><line x1=\"508.319\" y1=\"290.545\" x2=\"490.485\" y2=\"177.949\" stroke-linecap=\"round\" style=\"stroke:green;stroke-width:2\"/><line x1=\"490.485\" y1=\"177.949\" x2=\"384.168\" y2=\"134.994\" stroke-linecap=\"round\" style=\"stroke:orange;stroke-width:2\"/><line x1=\"384.168\" y1=\"134.994\" x2=\"292.059\" y2=\"204.403\" stroke-linecap=\"round\" style=\"stroke:yellow;stroke-width:2\"/><line x1=\"292.059\" y1=\"204.403\" x2=\"304.184\" y2=\"319.768\" stroke-linecap=\"round\" style=\"stroke:red;stroke-width:2\"/><line x1=\"304.184\" y1=\"319.768\" x2=\"409.92\" y2=\"369.073\" stroke-linecap=\"round\" style=\"stroke:purple;stroke-width:2\"/><line x1=\"409.92\" y1=\"369.073\" x2=\"507.194\" y2=\"303.461\" stroke-linecap=\"round\" style=\"stroke:blue;stroke-width:2\"/><line x1=\"507.194\" y1=\"303.461\" x2=\"501.018\" y2=\"185.623\" stroke-linecap=\"round\" style=\"stroke:green;stroke-width:2\"/><line x1=\"501.018\" y1=\"185.623\" x2=\"396.242\" y2=\"129.912\" stroke-linecap=\"round\" style=\"stroke:orange;stroke-width:2\"/><line x1=\"396.242\" y1=\"129.912\" x2=\"293.953\" y2=\"191.373\" stroke-linecap=\"round\" style=\"stroke:yellow;stroke-width:2\"/><line x1=\"293.953\" y1=\"191.373\" x2=\"293.953\" y2=\"311.373\" stroke-linecap=\"round\" style=\"stroke:red;stroke-width:2\"/><line x1=\"293.953\" y1=\"311.373\" x2=\"397.385\" y2=\"373.521\" stroke-linecap=\"round\" style=\"stroke:purple;stroke-width:2\"/><line x1=\"397.385\" y1=\"373.521\" x2=\"504.516\" y2=\"316.558\" stroke-linecap=\"round\" style=\"stroke:blue;stroke-width:2\"/><line x1=\"504.516\" y1=\"316.558\" x2=\"510.901\" y2=\"194.725\" stroke-linecap=\"round\" style=\"stroke:green;stroke-width:2\"/><line x1=\"510.901\" y1=\"194.725\" x2=\"409.206\" y2=\"126.131\" stroke-linecap=\"round\" style=\"stroke:orange;stroke-width:2\"/><line x1=\"409.206\" y1=\"126.131\" x2=\"297.428\" y2=\"178.254\" stroke-linecap=\"round\" style=\"stroke:yellow;stroke-width:2\"/><line x1=\"297.428\" y1=\"178.254\" x2=\"284.466\" y2=\"301.575\" stroke-linecap=\"round\" style=\"stroke:red;stroke-width:2\"/><line x1=\"284.466\" y1=\"301.575\" x2=\"384.029\" y2=\"376.601\" stroke-linecap=\"round\" style=\"stroke:purple;stroke-width:2\"/><line x1=\"384.029\" y1=\"376.601\" x2=\"500.236\" y2=\"329.65\" stroke-linecap=\"round\" style=\"stroke:blue;stroke-width:2\"/><line x1=\"500.236\" y1=\"329.65\" x2=\"519.947\" y2=\"205.201\" stroke-linecap=\"round\" style=\"stroke:green;stroke-width:2\"/><line x1=\"519.947\" y1=\"205.201\" x2=\"422.915\" y2=\"123.781\" stroke-linecap=\"round\" style=\"stroke:orange;stroke-width:2\"/><line x1=\"422.915\" y1=\"123.781\" x2=\"302.519\" y2=\"165.237\" stroke-linecap=\"round\" style=\"stroke:yellow;stroke-width:2\"/><line x1=\"302.519\" y1=\"165.237\" x2=\"275.906\" y2=\"290.44\" stroke-linecap=\"round\" style=\"stroke:red;stroke-width:2\"/><line x1=\"275.906\" y1=\"290.44\" x2=\"370.007\" y2=\"378.19\" stroke-linecap=\"round\" style=\"stroke:purple;stroke-width:2\"/><line x1=\"370.007\" y1=\"378.19\" x2=\"494.33\" y2=\"342.541\" stroke-linecap=\"round\" style=\"stroke:blue;stroke-width:2\"/><line x1=\"494.33\" y1=\"342.541\" x2=\"527.976\" y2=\"216.971\" stroke-linecap=\"round\" style=\"stroke:green;stroke-width:2\"/><line x1=\"527.976\" y1=\"216.971\" x2=\"437.207\" y2=\"122.977\" stroke-linecap=\"round\" style=\"stroke:orange;stroke-width:2\"/><line x1=\"437.207\" y1=\"122.977\" x2=\"309.24\" y2=\"152.521\" stroke-linecap=\"round\" style=\"stroke:yellow;stroke-width:2\"/><line x1=\"309.24\" y1=\"152.521\" x2=\"268.45\" y2=\"278.06\" stroke-linecap=\"round\" style=\"stroke:red;stroke-width:2\"/><line x1=\"268.45\" y1=\"278.06\" x2=\"355.487\" y2=\"378.185\" stroke-linecap=\"round\" style=\"stroke:purple;stroke-width:2\"/><line x1=\"355.487\" y1=\"378.185\" x2=\"486.795\" y2=\"355.032\" stroke-linecap=\"round\" style=\"stroke:blue;stroke-width:3\"/><line x1=\"486.795\" y1=\"355.032\" x2=\"534.816\" y2=\"229.932\" stroke-linecap=\"round\" style=\"stroke:green;stroke-width:3\"/><line x1=\"534.816\" y1=\"229.932\" x2=\"451.907\" y2=\"123.813\" stroke-linecap=\"round\" style=\"stroke:orange;stroke-width:3\"/><line x1=\"451.907\" y1=\"123.813\" x2=\"317.582\" y2=\"140.306\" stroke-linecap=\"round\" style=\"stroke:yellow;stroke-width:3\"/><line x1=\"317.582\" y1=\"140.306\" x2=\"262.266\" y2=\"264.548\" stroke-linecap=\"round\" style=\"stroke:red;stroke-width:3\"/><line x1=\"262.266\" y1=\"264.548\" x2=\"340.655\" y2=\"376.499\" stroke-linecap=\"round\" style=\"stroke:purple;stroke-width:3\"/><line x1=\"340.655\" y1=\"376.499\" x2=\"477.654\" y2=\"366.919\" stroke-linecap=\"round\" style=\"stroke:blue;stroke-width:3\"/><line x1=\"477.654\" y1=\"366.919\" x2=\"540.305\" y2=\"243.96\" stroke-linecap=\"round\" style=\"stroke:green;stroke-width:3\"/><line x1=\"540.305\" y1=\"243.96\" x2=\"466.823\" y2=\"126.364\" stroke-linecap=\"round\" style=\"stroke:orange;stroke-width:3\"/><line x1=\"466.823\" y1=\"126.364\" x2=\"327.511\" y2=\"128.796\" stroke-linecap=\"round\" style=\"stroke:yellow;stroke-width:3\"/><line x1=\"327.511\" y1=\"128.796\" x2=\"257.511\" y2=\"250.04\" stroke-linecap=\"round\" style=\"stroke:red;stroke-width:3\"/><line x1=\"257.511\" y1=\"250.04\" x2=\"325.708\" y2=\"373.07\" stroke-linecap=\"round\" style=\"stroke:purple;stroke-width:3\"/><line x1=\"325.708\" y1=\"373.07\" x2=\"466.955\" y2=\"378.002\" stroke-linecap=\"round\" style=\"stroke:blue;stroke-width:3\"/><line x1=\"466.955\" y1=\"378.002\" x2=\"544.294\" y2=\"258.911\" stroke-linecap=\"round\" style=\"stroke:green;stroke-width:3\"/><line x1=\"544.294\" y1=\"258.911\" x2=\"481.753\" y2=\"130.683\" stroke-linecap=\"round\" style=\"stroke:orange;stroke-width:3\"/><line x1=\"481.753\" y1=\"130.683\" x2=\"338.965\" y2=\"118.191\" stroke-linecap=\"round\" style=\"stroke:yellow;stroke-width:3\"/><line x1=\"338.965\" y1=\"118.191\" x2=\"254.324\" y2=\"234.689\" stroke-linecap=\"round\" style=\"stroke:red;stroke-width:3\"/><line x1=\"254.324\" y1=\"234.689\" x2=\"310.85\" y2=\"367.855\" stroke-linecap=\"round\" style=\"stroke:purple;stroke-width:3\"/><line x1=\"310.85\" y1=\"367.855\" x2=\"454.769\" y2=\"388.081\" stroke-linecap=\"round\" style=\"stroke:blue;stroke-width:3\"/><line x1=\"454.769\" y1=\"388.081\" x2=\"546.65\" y2=\"274.618\" stroke-linecap=\"round\" style=\"stroke:green;stroke-width:3\"/><line x1=\"546.65\" y1=\"274.618\" x2=\"496.487\" y2=\"136.796\" stroke-linecap=\"round\" style=\"stroke:orange;stroke-width:3\"/><line x1=\"496.487\" y1=\"136.796\" x2=\"351.861\" y2=\"108.683\" stroke-linecap=\"round\" style=\"stroke:yellow;stroke-width:3\"/><line x1=\"351.861\" y1=\"108.683\" x2=\"252.83\" y2=\"218.668\" stroke-linecap=\"round\" style=\"stroke:red;stroke-width:3\"/><line x1=\"252.83\" y1=\"218.668\" x2=\"296.296\" y2=\"360.839\" stroke-linecap=\"round\" style=\"stroke:purple;stroke-width:3\"/><line x1=\"296.296\" y1=\"360.839\" x2=\"441.193\" y2=\"396.966\" stroke-linecap=\"round\" style=\"stroke:blue;stroke-width:3\"/><line x1=\"441.193\" y1=\"396.966\" x2=\"547.259\" y2=\"290.9\" stroke-linecap=\"round\" style=\"stroke:green;stroke-width:3\"/><line x1=\"547.259\" y1=\"290.9\" x2=\"510.809\" y2=\"144.709\" stroke-linecap=\"round\" style=\"stroke:orange;stroke-width:3\"/><line x1=\"510.809\" y1=\"144.709\" x2=\"366.088\" y2=\"100.463\" stroke-linecap=\"round\" style=\"stroke:yellow;stroke-width:3\"/><line x1=\"366.088\" y1=\"100.463\" x2=\"253.13\" y2=\"202.171\" stroke-linecap=\"round\" style=\"stroke:red;stroke-width:3\"/><line x1=\"253.13\" y1=\"202.171\" x2=\"282.26\" y2=\"352.033\" stroke-linecap=\"round\" style=\"stroke:purple;stroke-width:3\"/><line x1=\"282.26\" y1=\"352.033\" x2=\"426.346\" y2=\"404.476\" stroke-linecap=\"round\" style=\"stroke:blue;stroke-width:3\"/><line x1=\"426.346\" y1=\"404.476\" x2=\"546.026\" y2=\"307.561\" stroke-linecap=\"round\" style=\"stroke:green;stroke-width:3\"/><line x1=\"546.026\" y1=\"307.561\" x2=\"524.501\" y2=\"154.4\" stroke-linecap=\"round\" style=\"stroke:orange;stroke-width:3\"/><line x1=\"524.501\" y1=\"154.4\" x2=\"381.516\" y2=\"93.706\" stroke-linecap=\"round\" style=\"stroke:yellow;stroke-width:3\"/><line x1=\"381.516\" y1=\"93.706\" x2=\"255.309\" y2=\"185.4\" stroke-linecap=\"round\" style=\"stroke:red;stroke-width:3\"/><line x1=\"255.309\" y1=\"185.4\" x2=\"268.963\" y2=\"341.471\" stroke-linecap=\"round\" style=\"stroke:purple;stroke-width:3\"/><line x1=\"268.963\" y1=\"341.471\" x2=\"410.373\" y2=\"410.441\" stroke-linecap=\"round\" style=\"stroke:blue;stroke-width:3\"/><line x1=\"410.373\" y1=\"410.441\" x2=\"542.883\" y2=\"324.388\" stroke-linecap=\"round\" style=\"stroke:green;stroke-width:3\"/><line x1=\"542.883\" y1=\"324.388\" x2=\"537.346\" y2=\"165.818\" stroke-linecap=\"round\" style=\"stroke:orange;stroke-width:3\"/><line x1=\"537.346\" y1=\"165.818\" x2=\"397.99\" y2=\"88.572\" stroke-linecap=\"round\" style=\"stroke:yellow;stroke-width:3\"/><line x1=\"397.99\" y1=\"88.572\" x2=\"259.426\" y2=\"168.572\" stroke-linecap=\"round\" style=\"stroke:red;stroke-width:3\"/><line x1=\"259.426\" y1=\"168.572\" x2=\"256.622\" y2=\"329.214\" stroke-linecap=\"round\" style=\"stroke:purple;stroke-width:3\"/><line x1=\"256.622\" y1=\"329.214\" x2=\"393.44\" y2=\"414.708\" stroke-linecap=\"round\" style=\"stroke:blue;stroke-width:3\"/><line x1=\"393.44\" y1=\"414.708\" x2=\"537.783\" y2=\"341.162\" stroke-linecap=\"round\" style=\"stroke:green;stroke-width:3\"/><line x1=\"537.783\" y1=\"341.162\" x2=\"549.13\" y2=\"178.892\" stroke-linecap=\"round\" style=\"stroke:orange;stroke-width:3\"/><line x1=\"549.13\" y1=\"178.892\" x2=\"415.335\" y2=\"85.208\" stroke-linecap=\"round\" style=\"stroke:yellow;stroke-width:3\"/><line x1=\"415.335\" y1=\"85.208\" x2=\"265.514\" y2=\"151.913\" stroke-linecap=\"round\" style=\"stroke:red;stroke-width:3\"/><line x1=\"265.514\" y1=\"151.913\" x2=\"245.446\" y2=\"315.352\" stroke-linecap=\"round\" style=\"stroke:purple;stroke-width:3\"/><line x1=\"245.446\" y1=\"315.352\" x2=\"375.73\" y2=\"417.141\" stroke-linecap=\"round\" style=\"stroke:blue;stroke-width:3\"/><line x1=\"375.73\" y1=\"417.141\" x2=\"530.704\" y2=\"357.652\" stroke-linecap=\"round\" style=\"stroke:green;stroke-width:3\"/><line x1=\"530.704\" y1=\"357.652\" x2=\"559.645\" y2=\"193.517\" stroke-linecap=\"round\" style=\"stroke:orange;stroke-width:3\"/><line x1=\"559.645\" y1=\"193.517\" x2=\"433.357\" y2=\"83.736\" stroke-linecap=\"round\" style=\"stroke:yellow;stroke-width:3\"/><line x1=\"433.357\" y1=\"83.736\" x2=\"273.58\" y2=\"135.651\" stroke-linecap=\"round\" style=\"stroke:red;stroke-width:3\"/><line x1=\"273.58\" y1=\"135.651\" x2=\"235.638\" y2=\"299.995\" stroke-linecap=\"round\" style=\"stroke:purple;stroke-width:3\"/><line x1=\"235.638\" y1=\"299.995\" x2=\"357.446\" y2=\"417.624\" stroke-linecap=\"round\" style=\"stroke:blue;stroke-width:3\"/><line x1=\"357.446\" y1=\"417.624\" x2=\"521.653\" y2=\"373.625\" stroke-linecap=\"round\" style=\"stroke:green;stroke-width:3\"/><line x1=\"521.653\" y1=\"373.625\" x2=\"568.695\" y2=\"209.57\" stroke-linecap=\"round\" style=\"stroke:orange;stroke-width:3\"/><line x1=\"568.695\" y1=\"209.57\" x2=\"451.846\" y2=\"84.265\" stroke-linecap=\"round\" style=\"stroke:yellow;stroke-width:3\"/><line x1=\"451.846\" y1=\"84.265\" x2=\"283.605\" y2=\"120.026\" stroke-linecap=\"round\" style=\"stroke:red;stroke-width:3\"/><line x1=\"283.605\" y1=\"120.026\" x2=\"227.39\" y2=\"283.286\" stroke-linecap=\"round\" style=\"stroke:purple;stroke-width:3\"/><line x1=\"227.39\" y1=\"283.286\" x2=\"338.807\" y2=\"416.067\" stroke-linecap=\"round\" style=\"stroke:blue;stroke-width:3\"/><line x1=\"338.807\" y1=\"416.067\" x2=\"510.665\" y2=\"388.847\" stroke-linecap=\"round\" style=\"stroke:green;stroke-width:3\"/><line x1=\"510.665\" y1=\"388.847\" x2=\"576.096\" y2=\"226.899\" stroke-linecap=\"round\" style=\"stroke:orange;stroke-width:3\"/><line x1=\"576.096\" y1=\"226.899\" x2=\"470.578\" y2=\"86.872\" stroke-linecap=\"round\" style=\"stroke:yellow;stroke-width:3\"/><line x1=\"470.578\" y1=\"86.872\" x2=\"295.542\" y2=\"105.269\" stroke-linecap=\"round\" style=\"stroke:red;stroke-width:3\"/><line x1=\"295.542\" y1=\"105.269\" x2=\"220.879\" y2=\"265.383\" stroke-linecap=\"round\" style=\"stroke:purple;stroke-width:3\"/><line x1=\"220.879\" y1=\"265.383\" x2=\"320.043\" y2=\"412.399\" stroke-linecap=\"round\" style=\"stroke:blue;stroke-width:3\"/><line x1=\"320.043\" y1=\"412.399\" x2=\"497.799\" y2=\"403.083\" stroke-linecap=\"round\" style=\"stroke:green;stroke-width:3\"/><line x1=\"497.799\" y1=\"403.083\" x2=\"581.678\" y2=\"245.33\" stroke-linecap=\"round\" style=\"stroke:orange;stroke-width:3\"/><line x1=\"581.678\" y1=\"245.33\" x2=\"489.315\" y2=\"91.611\" stroke-linecap=\"round\" style=\"stroke:yellow;stroke-width:3\"/><line x1=\"489.315\" y1=\"91.611\" x2=\"309.315\" y2=\"91.611\" stroke-linecap=\"round\" style=\"stroke:red;stroke-width:3\"/><line x1=\"309.315\" y1=\"91.611\" x2=\"216.265\" y2=\"246.473\" stroke-linecap=\"round\" style=\"stroke:purple;stroke-width:3\"/><line x1=\"216.265\" y1=\"246.473\" x2=\"301.396\" y2=\"406.581\" stroke-linecap=\"round\" style=\"stroke:blue;stroke-width:3\"/><line x1=\"301.396\" y1=\"406.581\" x2=\"483.147\" y2=\"416.106\" stroke-linecap=\"round\" style=\"stroke:green;stroke-width:3\"/><line x1=\"483.147\" y1=\"416.106\" x2=\"585.293\" y2=\"264.668\" stroke-linecap=\"round\" style=\"stroke:orange;stroke-width:3\"/><line x1=\"585.293\" y1=\"264.668\" x2=\"507.813\" y2=\"98.512\" stroke-linecap=\"round\" style=\"stroke:yellow;stroke-width:3\"/><line x1=\"507.813\" y1=\"98.512\" x2=\"324.821\" y2=\"79.279\" stroke-linecap=\"round\" style=\"stroke:red;stroke-width:3\"/><line x1=\"324.821\" y1=\"79.279\" x2=\"213.686\" y2=\"226.76\" stroke-linecap=\"round\" style=\"stroke:purple;stroke-width:3\"/><line x1=\"213.686\" y1=\"226.76\" x2=\"283.113\" y2=\"398.598\" stroke-linecap=\"round\" style=\"stroke:blue;stroke-width:3\"/><line x1=\"283.113\" y1=\"398.598\" x2=\"466.823\" y2=\"427.695\" stroke-linecap=\"round\" style=\"stroke:green;stroke-width:3\"/><line x1=\"466.823\" y1=\"427.695\" x2=\"586.81\" y2=\"284.7\" stroke-linecap=\"round\" style=\"stroke:orange;stroke-width:3\"/><line x1=\"586.81\" y1=\"284.7\" x2=\"525.82\" y2=\"107.573\" stroke-linecap=\"round\" style=\"stroke:yellow;stroke-width:3\"/><line x1=\"525.82\" y1=\"107.573\" x2=\"341.928\" y2=\"68.486\" stroke-linecap=\"round\" style=\"stroke:red;stroke-width:3\"/><line x1=\"341.928\" y1=\"68.486\" x2=\"213.258\" y2=\"206.468\" stroke-linecap=\"round\" style=\"stroke:purple;stroke-width:3\"/><line x1=\"213.258\" y1=\"206.468\" x2=\"265.445\" y2=\"388.467\" stroke-linecap=\"round\" style=\"stroke:blue;stroke-width:3\"/><line x1=\"265.445\" y1=\"388.467\" x2=\"448.971\" y2=\"437.643\" stroke-linecap=\"round\" style=\"stroke:green;stroke-width:3\"/><line x1=\"448.971\" y1=\"437.643\" x2=\"586.125\" y2=\"305.195\" stroke-linecap=\"round\" style=\"stroke:orange;stroke-width:3\"/><line x1=\"586.125\" y1=\"305.195\" x2=\"543.084\" y2=\"118.766\" stroke-linecap=\"round\" style=\"stroke:yellow;stroke-width:3\"/><line x1=\"543.084\" y1=\"118.766\" x2=\"360.481\" y2=\"59.435\" stroke-linecap=\"round\" style=\"stroke:red;stroke-width:3\"/><line x1=\"360.481\" y1=\"59.435\" x2=\"215.074\" y2=\"185.836\" stroke-linecap=\"round\" style=\"stroke:purple;stroke-width:3\"/><line x1=\"215.074\" y1=\"185.836\" x2=\"248.646\" y2=\"376.232\" stroke-linecap=\"round\" style=\"stroke:blue;stroke-width:3\"/><line x1=\"248.646\" y1=\"376.232\" x2=\"429.761\" y2=\"445.755\" stroke-linecap=\"round\" style=\"stroke:green;stroke-width:3\"/><line x1=\"429.761\" y1=\"445.755\" x2=\"583.16\" y2=\"325.906\" stroke-linecap=\"round\" style=\"stroke:orange;stroke-width:3\"/><line x1=\"583.16\" y1=\"325.906\" x2=\"559.355\" y2=\"132.029\" stroke-linecap=\"round\" style=\"stroke:yellow;stroke-width:3\"/><line x1=\"559.355\" y1=\"132.029\" x2=\"380.3\" y2=\"52.309\" stroke-linecap=\"round\" style=\"stroke:red;stroke-width:3\"/><line x1=\"380.3\" y1=\"52.309\" x2=\"219.2\" y2=\"165.112\" stroke-linecap=\"round\" style=\"stroke:purple;stroke-width:3\"/><line x1=\"219.2\" y1=\"165.112\" x2=\"232.965\" y2=\"361.965\" stroke-linecap=\"round\" style=\"stroke:blue;stroke-width:3\"/><line x1=\"232.965\" y1=\"361.965\" x2=\"409.384\" y2=\"451.855\" stroke-linecap=\"round\" style=\"stroke:green;stroke-width:3\"/><line x1=\"409.384\" y1=\"451.855\" x2=\"577.863\" y2=\"346.578\" stroke-linecap=\"round\" style=\"stroke:orange;stroke-width:3\"/><line x1=\"577.863\" y1=\"346.578\" x2=\"574.384\" y2=\"147.275\" stroke-linecap=\"round\" style=\"stroke:yellow;stroke-width:3\"/><line x1=\"574.384\" y1=\"147.275\" x2=\"401.179\" y2=\"47.275\" stroke-linecap=\"round\" style=\"stroke:red;stroke-width:4\"/><line x1=\"401.179\" y1=\"47.275\" x2=\"225.672\" y2=\"144.56\" stroke-linecap=\"round\" style=\"stroke:purple;stroke-width:4\"/><line x1=\"225.672\" y1=\"144.56\" x2=\"218.646\" y2=\"345.771\" stroke-linecap=\"round\" style=\"stroke:blue;stroke-width:4\"/><line x1=\"218.646\" y1=\"345.771\" x2=\"388.057\" y2=\"455.788\" stroke-linecap=\"round\" style=\"stroke:green;stroke-width:4\"/><line x1=\"388.057\" y1=\"455.788\" x2=\"570.213\" y2=\"366.945\" stroke-linecap=\"round\" style=\"stroke:orange;stroke-width:4\"/><line x1=\"570.213\" y1=\"366.945\" x2=\"587.935\" y2=\"164.385\" stroke-linecap=\"round\" style=\"stroke:yellow;stroke-width:4\"/><line x1=\"587.935\" y1=\"164.385\" x2=\"422.896\" y2=\"44.477\" stroke-linecap=\"round\" style=\"stroke:red;stroke-width:4\"/><line x1=\"422.896\" y1=\"44.477\" x2=\"234.499\" y2=\"124.447\" stroke-linecap=\"round\" style=\"stroke:purple;stroke-width:4\"/><line x1=\"234.499\" y1=\"124.447\" x2=\"205.922\" y2=\"327.782\" stroke-linecap=\"round\" style=\"stroke:blue;stroke-width:4\"/><line x1=\"205.922\" y1=\"327.782\" x2=\"366.014\" y2=\"457.422\" stroke-linecap=\"round\" style=\"stroke:green;stroke-width:4\"/><line x1=\"366.014\" y1=\"457.422\" x2=\"560.217\" y2=\"386.738\" stroke-linecap=\"round\" style=\"stroke:orange;stroke-width:4\"/><line x1=\"560.217\" y1=\"386.738\" x2=\"599.778\" y2=\"183.214\" stroke-linecap=\"round\" style=\"stroke:yellow;stroke-width:4\"/><line x1=\"599.778\" y1=\"183.214\" x2=\"445.204\" y2=\"44.035\" stroke-linecap=\"round\" style=\"stroke:red;stroke-width:4\"/><line x1=\"445.204\" y1=\"44.035\" x2=\"245.655\" y2=\"105.043\" stroke-linecap=\"round\" style=\"stroke:purple;stroke-width:4\"/><line x1=\"245.655\" y1=\"105.043\" x2=\"195.013\" y2=\"308.158\" stroke-linecap=\"round\" style=\"stroke:blue;stroke-width:4\"/><line x1=\"195.013\" y1=\"308.158\" x2=\"343.505\" y2=\"456.65\" stroke-linecap=\"round\" style=\"stroke:green;stroke-width:4\"/><line x1=\"343.505\" y1=\"456.65\" x2=\"547.914\" y2=\"405.685\" stroke-linecap=\"round\" style=\"stroke:orange;stroke-width:4\"/><line x1=\"547.914\" y1=\"405.685\" x2=\"609.702\" y2=\"203.586\" stroke-linecap=\"round\" style=\"stroke:yellow;stroke-width:4\"/><line x1=\"609.702\" y1=\"203.586\" x2=\"467.846\" y2=\"46.039\" stroke-linecap=\"round\" style=\"stroke:red;stroke-width:4\"/><line x1=\"467.846\" y1=\"46.039\" x2=\"259.087\" y2=\"86.618\" stroke-linecap=\"round\" style=\"stroke:purple;stroke-width:4\"/><line x1=\"259.087\" y1=\"86.618\" x2=\"186.123\" y2=\"287.086\" stroke-linecap=\"round\" style=\"stroke:blue;stroke-width:4\"/><line x1=\"186.123\" y1=\"287.086\" x2=\"320.798\" y2=\"453.395\" stroke-linecap=\"round\" style=\"stroke:green;stroke-width:4\"/><line x1=\"320.798\" y1=\"453.395\" x2=\"533.376\" y2=\"423.519\" stroke-linecap=\"round\" style=\"stroke:orange;stroke-width:4\"/><line x1=\"533.376\" y1=\"423.519\" x2=\"617.513\" y2=\"225.304\" stroke-linecap=\"round\" style=\"stroke:yellow;stroke-width:4\"/><line x1=\"617.513\" y1=\"225.304\" x2=\"490.551\" y2=\"50.556\" stroke-linecap=\"round\" style=\"stroke:red;stroke-width:4\"/><line x1=\"490.551\" y1=\"50.556\" x2=\"274.709\" y2=\"69.44\" stroke-linecap=\"round\" style=\"stroke:purple;stroke-width:4\"/><line x1=\"274.709\" y1=\"69.44\" x2=\"179.436\" y2=\"264.778\" stroke-linecap=\"round\" style=\"stroke:blue;stroke-width:4\"/><line x1=\"179.436\" y1=\"264.778\" x2=\"298.167\" y2=\"447.608\" stroke-linecap=\"round\" style=\"stroke:green;stroke-width:4\"/><line x1=\"298.167\" y1=\"447.608\" x2=\"516.7\" y2=\"439.977\" stroke-linecap=\"round\" style=\"stroke:orange;stroke-width:4\"/><line x1=\"516.7\" y1=\"439.977\" x2=\"623.035\" y2=\"248.144\" stroke-linecap=\"round\" style=\"stroke:yellow;stroke-width:4\"/><line x1=\"623.035\" y1=\"248.144\" x2=\"513.035\" y2=\"57.618\" stroke-linecap=\"round\" style=\"stroke:red;stroke-width:4\"/><line x1=\"513.035\" y1=\"57.618\" x2=\"292.402\" y2=\"53.767\" stroke-linecap=\"round\" style=\"stroke:purple;stroke-width:4\"/><line x1=\"292.402\" y1=\"53.767\" x2=\"175.113\" y2=\"241.468\" stroke-linecap=\"round\" style=\"stroke:blue;stroke-width:4\"/><line x1=\"175.113\" y1=\"241.468\" x2=\"275.899\" y2=\"439.271\" stroke-linecap=\"round\" style=\"stroke:green;stroke-width:4\"/><line x1=\"275.899\" y1=\"439.271\" x2=\"498.023\" y2=\"454.803\" stroke-linecap=\"round\" style=\"stroke:orange;stroke-width:4\"/><line x1=\"498.023\" y1=\"454.803\" x2=\"626.122\" y2=\"271.859\" stroke-linecap=\"round\" style=\"stroke:yellow;stroke-width:4\"/><line x1=\"626.122\" y1=\"271.859\" x2=\"535.013\" y2=\"67.225\" stroke-linecap=\"round\" style=\"stroke:red;stroke-width:4\"/><line x1=\"535.013\" y1=\"67.225\" x2=\"312.021\" y2=\"39.845\" stroke-linecap=\"round\" style=\"stroke:purple;stroke-width:4\"/><line x1=\"312.021\" y1=\"39.845\" x2=\"173.292\" y2=\"217.41\" stroke-linecap=\"round\" style=\"stroke:blue;stroke-width:4\"/><line x1=\"173.292\" y1=\"217.41\" x2=\"254.283\" y2=\"428.399\" stroke-linecap=\"round\" style=\"stroke:green;stroke-width:4\"/><line x1=\"254.283\" y1=\"428.399\" x2=\"477.506\" y2=\"467.759\" stroke-linecap=\"round\" style=\"stroke:orange;stroke-width:4\"/><line x1=\"477.506\" y1=\"467.759\" x2=\"626.65\" y2=\"296.188\" stroke-linecap=\"round\" style=\"stroke:yellow;stroke-width:4\"/><line x1=\"626.65\" y1=\"296.188\" x2=\"556.194\" y2=\"79.347\" stroke-linecap=\"round\" style=\"stroke:red;stroke-width:4\"/><line x1=\"556.194\" y1=\"79.347\" x2=\"333.388\" y2=\"27.908\" stroke-linecap=\"round\" style=\"stroke:purple;stroke-width:4\"/><line x1=\"333.388\" y1=\"27.908\" x2=\"174.08\" y2=\"192.877\" stroke-linecap=\"round\" style=\"stroke:blue;stroke-width:4\"/><line x1=\"174.08\" y1=\"192.877\" x2=\"233.608\" y2=\"415.04\" stroke-linecap=\"round\" style=\"stroke:green;stroke-width:4\"/><line x1=\"233.608\" y1=\"415.04\" x2=\"455.339\" y2=\"478.62\" stroke-linecap=\"round\" style=\"stroke:orange;stroke-width:4\"/><line x1=\"455.339\" y1=\"478.62\" x2=\"624.525\" y2=\"320.851\" stroke-linecap=\"round\" style=\"stroke:yellow;stroke-width:4\"/><line x1=\"624.525\" y1=\"320.851\" x2=\"576.289\" y2=\"93.921\" stroke-linecap=\"round\" style=\"stroke:red;stroke-width:4\"/><line x1=\"576.289\" y1=\"93.921\" x2=\"356.298\" y2=\"18.172\" stroke-linecap=\"round\" style=\"stroke:purple;stroke-width:4\"/><line x1=\"356.298\" y1=\"18.172\" x2=\"177.554\" y2=\"168.156\" stroke-linecap=\"round\" style=\"stroke:blue;stroke-width:4\"/><line x1=\"177.554\" y1=\"168.156\" x2=\"214.16\" y2=\"399.275\" stroke-linecap=\"round\" style=\"stroke:green;stroke-width:4\"/><line x1=\"214.16\" y1=\"399.275\" x2=\"431.739\" y2=\"487.183\" stroke-linecap=\"round\" style=\"stroke:orange;stroke-width:4\"/><line x1=\"431.739\" y1=\"487.183\" x2=\"619.685\" y2=\"345.556\" stroke-linecap=\"round\" style=\"stroke:yellow;stroke-width:4\"/><line x1=\"619.685\" y1=\"345.556\" x2=\"595.016\" y2=\"110.849\" stroke-linecap=\"round\" style=\"stroke:red;stroke-width:4\"/><line x1=\"595.016\" y1=\"110.849\" x2=\"380.523\" y2=\"10.829\" stroke-linecap=\"round\" style=\"stroke:purple;stroke-width:4\"/><line x1=\"380.523\" y1=\"10.829\" x2=\"183.765\" y2=\"143.544\" stroke-linecap=\"round\" style=\"stroke:blue;stroke-width:4\"/><line x1=\"183.765\" y1=\"143.544\" x2=\"196.221\" y2=\"381.218\" stroke-linecap=\"round\" style=\"stroke:green;stroke-width:4\"/><line x1=\"196.221\" y1=\"381.218\" x2=\"406.951\" y2=\"493.265\" stroke-linecap=\"round\" style=\"stroke:orange;stroke-width:4\"/><line x1=\"406.951\" y1=\"493.265\" x2=\"612.1\" y2=\"369.999\" stroke-linecap=\"round\" style=\"stroke:yellow;stroke-width:4\"/>\n",
              "        <g visibility=visible transform=\"rotate(360,612.1,369.999) translate(594.1, 351.999)\">\n",
              "<path style=\" stroke:none;fill-rule:evenodd;fill:yellow;fill-opacity:1;\" d=\"M 18.214844 0.632812 C 16.109375 1.800781 15.011719 4.074219 15.074219 7.132812 L 15.085938 7.652344 L 14.785156 7.496094 C 13.476562 6.824219 11.957031 6.671875 10.40625 7.066406 C 8.46875 7.550781 6.515625 9.15625 4.394531 11.992188 C 3.0625 13.777344 2.679688 14.636719 3.042969 15.027344 L 3.15625 15.152344 L 3.519531 15.152344 C 4.238281 15.152344 4.828125 14.886719 8.1875 13.039062 C 9.386719 12.378906 10.371094 11.839844 10.378906 11.839844 C 10.386719 11.839844 10.355469 11.929688 10.304688 12.035156 C 9.832031 13.09375 9.257812 14.820312 8.96875 16.078125 C 7.914062 20.652344 8.617188 24.53125 11.070312 27.660156 C 11.351562 28.015625 11.363281 27.914062 10.972656 28.382812 C 8.925781 30.84375 7.945312 33.28125 8.238281 35.1875 C 8.289062 35.527344 8.28125 35.523438 8.917969 35.523438 C 10.941406 35.523438 13.074219 34.207031 15.136719 31.6875 C 15.359375 31.417969 15.328125 31.425781 15.5625 31.574219 C 16.292969 32.042969 18.023438 32.964844 18.175781 32.964844 C 18.335938 32.964844 19.941406 32.210938 20.828125 31.71875 C 20.996094 31.625 21.136719 31.554688 21.136719 31.558594 C 21.203125 31.664062 21.898438 32.414062 22.222656 32.730469 C 23.835938 34.300781 25.5625 35.132812 27.582031 35.300781 C 27.90625 35.328125 27.9375 35.308594 28.007812 34.984375 C 28.382812 33.242188 27.625 30.925781 25.863281 28.425781 L 25.542969 27.96875 L 25.699219 27.785156 C 28.945312 23.960938 29.132812 18.699219 26.257812 11.96875 L 26.207031 11.84375 L 27.945312 12.703125 C 31.53125 14.476562 32.316406 14.800781 33.03125 14.800781 C 33.976562 14.800781 33.78125 13.9375 32.472656 12.292969 C 28.519531 7.355469 25.394531 5.925781 21.921875 7.472656 L 21.558594 7.636719 L 21.578125 7.542969 C 21.699219 6.992188 21.761719 5.742188 21.699219 5.164062 C 21.496094 3.296875 20.664062 1.964844 19.003906 0.855469 C 18.480469 0.503906 18.457031 0.5 18.214844 0.632812\"/>\n",
              "</g>\n",
              "      </svg>\n",
              "    "
            ]
          },
          "metadata": {}
        }
      ]
    },
    {
      "cell_type": "markdown",
      "source": [
        "Turtle:\n",
        "para el fondo de nuestro resultado esperado del codigo manipularemos la funcion de bgcolor(al color deseado),esto de aqui nos permite inicializar la pantalla sobre la cual trabajaremos, la torguga es un objeto a la cual le podemos dar ordenes de movimiento como lo son desplazarse a algun lado , girar , ir hacia alguna direccion recibe valores de tipo **int** los cuales son los grados y **right** son los giros, los cuales son 2 comandos que vamos a utilizar, para hacer que nuestra tortuga avance usaremos el comando **forward** la cual es la distancia que recorrera la tortuga.\n",
        "\n"
      ],
      "metadata": {
        "id": "f5d_LxH7rWvx"
      }
    },
    {
      "cell_type": "markdown",
      "source": [
        "# CICLOS ANIDADOS"
      ],
      "metadata": {
        "id": "dZMdu_Y8zOfg"
      }
    },
    {
      "cell_type": "code",
      "source": [
        "grados = 360\n",
        "# lados = int(input('cuantos lados quieres tu figura: '))\n",
        "# longitud = int(input('longitud de cada lado: '))\n",
        "lados = 7\n",
        "longitud = 60\n",
        "\n",
        "lados_grados = grados / lados\n",
        "\n",
        "initializeTurtle(initial_speed=10)\n",
        "\n",
        "pencolor(\"purple\")\n",
        "\n",
        "for i in range(lados):\n",
        "  pencolor(\"pink\")\n",
        "  forward(100)\n",
        "  left(lados_grados)\n",
        "  for i in range(lados):\n",
        "    pencolor(\"yellow\")\n",
        "    forward(60)\n",
        "    right(lados_grados)\n",
        "    for i in range(lados):\n",
        "      pencolor(\"white\")\n",
        "      forward(30)\n",
        "      left(lados_grados)"
      ],
      "metadata": {
        "colab": {
          "base_uri": "https://localhost:8080/",
          "height": 521
        },
        "id": "DPABFxFszRdq",
        "outputId": "8929ee1f-78a9-4c58-b973-9dbb15bfc2e2"
      },
      "execution_count": null,
      "outputs": [
        {
          "output_type": "display_data",
          "data": {
            "text/plain": [
              "<IPython.core.display.HTML object>"
            ],
            "text/html": [
              "\n",
              "      <svg width=\"800\" height=\"500\">\n",
              "        <rect width=\"100%\" height=\"100%\" fill=\"black\"/>\n",
              "        <line x1=\"400\" y1=\"250\" x2=\"400.0\" y2=\"150.0\" stroke-linecap=\"round\" style=\"stroke:pink;stroke-width:4\"/><line x1=\"400.0\" y1=\"150.0\" x2=\"353.09\" y2=\"112.591\" stroke-linecap=\"round\" style=\"stroke:yellow;stroke-width:4\"/><line x1=\"353.09\" y1=\"112.591\" x2=\"353.09\" y2=\"82.591\" stroke-linecap=\"round\" style=\"stroke:white;stroke-width:4\"/><line x1=\"353.09\" y1=\"82.591\" x2=\"329.635\" y2=\"63.886\" stroke-linecap=\"round\" style=\"stroke:white;stroke-width:4\"/><line x1=\"329.635\" y1=\"63.886\" x2=\"300.387\" y2=\"70.562\" stroke-linecap=\"round\" style=\"stroke:white;stroke-width:4\"/><line x1=\"300.387\" y1=\"70.562\" x2=\"287.37\" y2=\"97.591\" stroke-linecap=\"round\" style=\"stroke:white;stroke-width:4\"/><line x1=\"287.37\" y1=\"97.591\" x2=\"300.387\" y2=\"124.62\" stroke-linecap=\"round\" style=\"stroke:white;stroke-width:4\"/><line x1=\"300.387\" y1=\"124.62\" x2=\"329.635\" y2=\"131.296\" stroke-linecap=\"round\" style=\"stroke:white;stroke-width:4\"/><line x1=\"329.635\" y1=\"131.296\" x2=\"353.09\" y2=\"112.591\" stroke-linecap=\"round\" style=\"stroke:white;stroke-width:4\"/><line x1=\"353.09\" y1=\"112.591\" x2=\"353.09\" y2=\"52.591\" stroke-linecap=\"round\" style=\"stroke:yellow;stroke-width:4\"/><line x1=\"353.09\" y1=\"52.591\" x2=\"376.545\" y2=\"33.886\" stroke-linecap=\"round\" style=\"stroke:white;stroke-width:4\"/><line x1=\"376.545\" y1=\"33.886\" x2=\"376.545\" y2=\"3.886\" stroke-linecap=\"round\" style=\"stroke:white;stroke-width:4\"/><line x1=\"376.545\" y1=\"3.886\" x2=\"353.09\" y2=\"-14.819\" stroke-linecap=\"round\" style=\"stroke:white;stroke-width:4\"/><line x1=\"353.09\" y1=\"-14.819\" x2=\"323.842\" y2=\"-8.143\" stroke-linecap=\"round\" style=\"stroke:white;stroke-width:4\"/><line x1=\"323.842\" y1=\"-8.143\" x2=\"310.825\" y2=\"18.886\" stroke-linecap=\"round\" style=\"stroke:white;stroke-width:4\"/><line x1=\"310.825\" y1=\"18.886\" x2=\"323.842\" y2=\"45.915\" stroke-linecap=\"round\" style=\"stroke:white;stroke-width:4\"/><line x1=\"323.842\" y1=\"45.915\" x2=\"353.09\" y2=\"52.591\" stroke-linecap=\"round\" style=\"stroke:white;stroke-width:4\"/><line x1=\"353.09\" y1=\"52.591\" x2=\"400.0\" y2=\"15.182\" stroke-linecap=\"round\" style=\"stroke:yellow;stroke-width:4\"/><line x1=\"400.0\" y1=\"15.182\" x2=\"429.248\" y2=\"21.858\" stroke-linecap=\"round\" style=\"stroke:white;stroke-width:4\"/><line x1=\"429.248\" y1=\"21.858\" x2=\"452.703\" y2=\"3.153\" stroke-linecap=\"round\" style=\"stroke:white;stroke-width:4\"/><line x1=\"452.703\" y1=\"3.153\" x2=\"452.703\" y2=\"-26.847\" stroke-linecap=\"round\" style=\"stroke:white;stroke-width:4\"/><line x1=\"452.703\" y1=\"-26.847\" x2=\"429.248\" y2=\"-45.552\" stroke-linecap=\"round\" style=\"stroke:white;stroke-width:4\"/><line x1=\"429.248\" y1=\"-45.552\" x2=\"400.0\" y2=\"-38.876\" stroke-linecap=\"round\" style=\"stroke:white;stroke-width:4\"/><line x1=\"400.0\" y1=\"-38.876\" x2=\"386.983\" y2=\"-11.847\" stroke-linecap=\"round\" style=\"stroke:white;stroke-width:4\"/><line x1=\"386.983\" y1=\"-11.847\" x2=\"400.0\" y2=\"15.182\" stroke-linecap=\"round\" style=\"stroke:white;stroke-width:4\"/><line x1=\"400.0\" y1=\"15.182\" x2=\"458.496\" y2=\"28.533\" stroke-linecap=\"round\" style=\"stroke:yellow;stroke-width:4\"/><line x1=\"458.496\" y1=\"28.533\" x2=\"471.513\" y2=\"55.562\" stroke-linecap=\"round\" style=\"stroke:white;stroke-width:4\"/><line x1=\"471.513\" y1=\"55.562\" x2=\"500.761\" y2=\"62.238\" stroke-linecap=\"round\" style=\"stroke:white;stroke-width:4\"/><line x1=\"500.761\" y1=\"62.238\" x2=\"524.216\" y2=\"43.533\" stroke-linecap=\"round\" style=\"stroke:white;stroke-width:4\"/><line x1=\"524.216\" y1=\"43.533\" x2=\"524.216\" y2=\"13.533\" stroke-linecap=\"round\" style=\"stroke:white;stroke-width:4\"/><line x1=\"524.216\" y1=\"13.533\" x2=\"500.761\" y2=\"-5.172\" stroke-linecap=\"round\" style=\"stroke:white;stroke-width:4\"/><line x1=\"500.761\" y1=\"-5.172\" x2=\"471.513\" y2=\"1.504\" stroke-linecap=\"round\" style=\"stroke:white;stroke-width:4\"/><line x1=\"471.513\" y1=\"1.504\" x2=\"458.496\" y2=\"28.533\" stroke-linecap=\"round\" style=\"stroke:white;stroke-width:4\"/><line x1=\"458.496\" y1=\"28.533\" x2=\"484.529\" y2=\"82.591\" stroke-linecap=\"round\" style=\"stroke:yellow;stroke-width:4\"/><line x1=\"484.529\" y1=\"82.591\" x2=\"471.512\" y2=\"109.62\" stroke-linecap=\"round\" style=\"stroke:white;stroke-width:4\"/><line x1=\"471.512\" y1=\"109.62\" x2=\"484.529\" y2=\"136.649\" stroke-linecap=\"round\" style=\"stroke:white;stroke-width:4\"/><line x1=\"484.529\" y1=\"136.649\" x2=\"513.777\" y2=\"143.325\" stroke-linecap=\"round\" style=\"stroke:white;stroke-width:4\"/><line x1=\"513.777\" y1=\"143.325\" x2=\"537.232\" y2=\"124.62\" stroke-linecap=\"round\" style=\"stroke:white;stroke-width:4\"/><line x1=\"537.232\" y1=\"124.62\" x2=\"537.232\" y2=\"94.62\" stroke-linecap=\"round\" style=\"stroke:white;stroke-width:4\"/><line x1=\"537.232\" y1=\"94.62\" x2=\"513.777\" y2=\"75.915\" stroke-linecap=\"round\" style=\"stroke:white;stroke-width:4\"/><line x1=\"513.777\" y1=\"75.915\" x2=\"484.529\" y2=\"82.591\" stroke-linecap=\"round\" style=\"stroke:white;stroke-width:4\"/><line x1=\"484.529\" y1=\"82.591\" x2=\"458.496\" y2=\"136.649\" stroke-linecap=\"round\" style=\"stroke:yellow;stroke-width:4\"/><line x1=\"458.496\" y1=\"136.649\" x2=\"429.248\" y2=\"143.325\" stroke-linecap=\"round\" style=\"stroke:white;stroke-width:4\"/><line x1=\"429.248\" y1=\"143.325\" x2=\"416.231\" y2=\"170.354\" stroke-linecap=\"round\" style=\"stroke:white;stroke-width:4\"/><line x1=\"416.231\" y1=\"170.354\" x2=\"429.248\" y2=\"197.383\" stroke-linecap=\"round\" style=\"stroke:white;stroke-width:4\"/><line x1=\"429.248\" y1=\"197.383\" x2=\"458.496\" y2=\"204.059\" stroke-linecap=\"round\" style=\"stroke:white;stroke-width:4\"/><line x1=\"458.496\" y1=\"204.059\" x2=\"481.951\" y2=\"185.354\" stroke-linecap=\"round\" style=\"stroke:white;stroke-width:4\"/><line x1=\"481.951\" y1=\"185.354\" x2=\"481.951\" y2=\"155.354\" stroke-linecap=\"round\" style=\"stroke:white;stroke-width:4\"/><line x1=\"481.951\" y1=\"155.354\" x2=\"458.496\" y2=\"136.649\" stroke-linecap=\"round\" style=\"stroke:white;stroke-width:4\"/><line x1=\"458.496\" y1=\"136.649\" x2=\"400.0\" y2=\"150.0\" stroke-linecap=\"round\" style=\"stroke:yellow;stroke-width:4\"/><line x1=\"400.0\" y1=\"150.0\" x2=\"376.545\" y2=\"131.295\" stroke-linecap=\"round\" style=\"stroke:white;stroke-width:4\"/><line x1=\"376.545\" y1=\"131.295\" x2=\"347.297\" y2=\"137.971\" stroke-linecap=\"round\" style=\"stroke:white;stroke-width:4\"/><line x1=\"347.297\" y1=\"137.971\" x2=\"334.28\" y2=\"165.0\" stroke-linecap=\"round\" style=\"stroke:white;stroke-width:4\"/><line x1=\"334.28\" y1=\"165.0\" x2=\"347.297\" y2=\"192.029\" stroke-linecap=\"round\" style=\"stroke:white;stroke-width:4\"/><line x1=\"347.297\" y1=\"192.029\" x2=\"376.545\" y2=\"198.705\" stroke-linecap=\"round\" style=\"stroke:white;stroke-width:4\"/><line x1=\"376.545\" y1=\"198.705\" x2=\"400.0\" y2=\"180.0\" stroke-linecap=\"round\" style=\"stroke:white;stroke-width:4\"/><line x1=\"400.0\" y1=\"180.0\" x2=\"400.0\" y2=\"150.0\" stroke-linecap=\"round\" style=\"stroke:white;stroke-width:4\"/><line x1=\"400.0\" y1=\"150.0\" x2=\"321.817\" y2=\"87.651\" stroke-linecap=\"round\" style=\"stroke:pink;stroke-width:4\"/><line x1=\"321.817\" y1=\"87.651\" x2=\"263.321\" y2=\"101.002\" stroke-linecap=\"round\" style=\"stroke:yellow;stroke-width:4\"/><line x1=\"263.321\" y1=\"101.002\" x2=\"239.866\" y2=\"82.297\" stroke-linecap=\"round\" style=\"stroke:white;stroke-width:4\"/><line x1=\"239.866\" y1=\"82.297\" x2=\"210.618\" y2=\"88.973\" stroke-linecap=\"round\" style=\"stroke:white;stroke-width:4\"/><line x1=\"210.618\" y1=\"88.973\" x2=\"197.601\" y2=\"116.002\" stroke-linecap=\"round\" style=\"stroke:white;stroke-width:4\"/><line x1=\"197.601\" y1=\"116.002\" x2=\"210.618\" y2=\"143.031\" stroke-linecap=\"round\" style=\"stroke:white;stroke-width:4\"/><line x1=\"210.618\" y1=\"143.031\" x2=\"239.866\" y2=\"149.707\" stroke-linecap=\"round\" style=\"stroke:white;stroke-width:4\"/><line x1=\"239.866\" y1=\"149.707\" x2=\"263.321\" y2=\"131.002\" stroke-linecap=\"round\" style=\"stroke:white;stroke-width:4\"/><line x1=\"263.321\" y1=\"131.002\" x2=\"263.321\" y2=\"101.002\" stroke-linecap=\"round\" style=\"stroke:white;stroke-width:4\"/><line x1=\"263.321\" y1=\"101.002\" x2=\"216.411\" y2=\"63.593\" stroke-linecap=\"round\" style=\"stroke:yellow;stroke-width:4\"/><line x1=\"216.411\" y1=\"63.593\" x2=\"216.411\" y2=\"33.593\" stroke-linecap=\"round\" style=\"stroke:white;stroke-width:4\"/><line x1=\"216.411\" y1=\"33.593\" x2=\"192.956\" y2=\"14.888\" stroke-linecap=\"round\" style=\"stroke:white;stroke-width:4\"/><line x1=\"192.956\" y1=\"14.888\" x2=\"163.708\" y2=\"21.564\" stroke-linecap=\"round\" style=\"stroke:white;stroke-width:4\"/><line x1=\"163.708\" y1=\"21.564\" x2=\"150.691\" y2=\"48.593\" stroke-linecap=\"round\" style=\"stroke:white;stroke-width:4\"/><line x1=\"150.691\" y1=\"48.593\" x2=\"163.708\" y2=\"75.622\" stroke-linecap=\"round\" style=\"stroke:white;stroke-width:4\"/><line x1=\"163.708\" y1=\"75.622\" x2=\"192.956\" y2=\"82.298\" stroke-linecap=\"round\" style=\"stroke:white;stroke-width:4\"/><line x1=\"192.956\" y1=\"82.298\" x2=\"216.411\" y2=\"63.593\" stroke-linecap=\"round\" style=\"stroke:white;stroke-width:4\"/><line x1=\"216.411\" y1=\"63.593\" x2=\"216.411\" y2=\"3.593\" stroke-linecap=\"round\" style=\"stroke:yellow;stroke-width:4\"/><line x1=\"216.411\" y1=\"3.593\" x2=\"239.866\" y2=\"-15.112\" stroke-linecap=\"round\" style=\"stroke:white;stroke-width:4\"/><line x1=\"239.866\" y1=\"-15.112\" x2=\"239.866\" y2=\"-45.112\" stroke-linecap=\"round\" style=\"stroke:white;stroke-width:4\"/><line x1=\"239.866\" y1=\"-45.112\" x2=\"216.411\" y2=\"-63.817\" stroke-linecap=\"round\" style=\"stroke:white;stroke-width:4\"/><line x1=\"216.411\" y1=\"-63.817\" x2=\"187.163\" y2=\"-57.141\" stroke-linecap=\"round\" style=\"stroke:white;stroke-width:4\"/><line x1=\"187.163\" y1=\"-57.141\" x2=\"174.146\" y2=\"-30.112\" stroke-linecap=\"round\" style=\"stroke:white;stroke-width:4\"/><line x1=\"174.146\" y1=\"-30.112\" x2=\"187.163\" y2=\"-3.083\" stroke-linecap=\"round\" style=\"stroke:white;stroke-width:4\"/><line x1=\"187.163\" y1=\"-3.083\" x2=\"216.411\" y2=\"3.593\" stroke-linecap=\"round\" style=\"stroke:white;stroke-width:4\"/><line x1=\"216.411\" y1=\"3.593\" x2=\"263.321\" y2=\"-33.816\" stroke-linecap=\"round\" style=\"stroke:yellow;stroke-width:4\"/><line x1=\"263.321\" y1=\"-33.816\" x2=\"292.569\" y2=\"-27.14\" stroke-linecap=\"round\" style=\"stroke:white;stroke-width:4\"/><line x1=\"292.569\" y1=\"-27.14\" x2=\"316.024\" y2=\"-45.845\" stroke-linecap=\"round\" style=\"stroke:white;stroke-width:4\"/><line x1=\"316.024\" y1=\"-45.845\" x2=\"316.024\" y2=\"-75.845\" stroke-linecap=\"round\" style=\"stroke:white;stroke-width:4\"/><line x1=\"316.024\" y1=\"-75.845\" x2=\"292.569\" y2=\"-94.55\" stroke-linecap=\"round\" style=\"stroke:white;stroke-width:4\"/><line x1=\"292.569\" y1=\"-94.55\" x2=\"263.321\" y2=\"-87.874\" stroke-linecap=\"round\" style=\"stroke:white;stroke-width:4\"/><line x1=\"263.321\" y1=\"-87.874\" x2=\"250.304\" y2=\"-60.845\" stroke-linecap=\"round\" style=\"stroke:white;stroke-width:4\"/><line x1=\"250.304\" y1=\"-60.845\" x2=\"263.321\" y2=\"-33.816\" stroke-linecap=\"round\" style=\"stroke:white;stroke-width:4\"/><line x1=\"263.321\" y1=\"-33.816\" x2=\"321.817\" y2=\"-20.465\" stroke-linecap=\"round\" style=\"stroke:yellow;stroke-width:4\"/><line x1=\"321.817\" y1=\"-20.465\" x2=\"334.834\" y2=\"6.564\" stroke-linecap=\"round\" style=\"stroke:white;stroke-width:4\"/><line x1=\"334.834\" y1=\"6.564\" x2=\"364.082\" y2=\"13.24\" stroke-linecap=\"round\" style=\"stroke:white;stroke-width:4\"/><line x1=\"364.082\" y1=\"13.24\" x2=\"387.537\" y2=\"-5.465\" stroke-linecap=\"round\" style=\"stroke:white;stroke-width:4\"/><line x1=\"387.537\" y1=\"-5.465\" x2=\"387.537\" y2=\"-35.465\" stroke-linecap=\"round\" style=\"stroke:white;stroke-width:4\"/><line x1=\"387.537\" y1=\"-35.465\" x2=\"364.082\" y2=\"-54.17\" stroke-linecap=\"round\" style=\"stroke:white;stroke-width:4\"/><line x1=\"364.082\" y1=\"-54.17\" x2=\"334.834\" y2=\"-47.494\" stroke-linecap=\"round\" style=\"stroke:white;stroke-width:4\"/><line x1=\"334.834\" y1=\"-47.494\" x2=\"321.817\" y2=\"-20.465\" stroke-linecap=\"round\" style=\"stroke:white;stroke-width:4\"/><line x1=\"321.817\" y1=\"-20.465\" x2=\"347.85\" y2=\"33.593\" stroke-linecap=\"round\" style=\"stroke:yellow;stroke-width:4\"/><line x1=\"347.85\" y1=\"33.593\" x2=\"334.833\" y2=\"60.622\" stroke-linecap=\"round\" style=\"stroke:white;stroke-width:4\"/><line x1=\"334.833\" y1=\"60.622\" x2=\"347.85\" y2=\"87.651\" stroke-linecap=\"round\" style=\"stroke:white;stroke-width:4\"/><line x1=\"347.85\" y1=\"87.651\" x2=\"377.098\" y2=\"94.327\" stroke-linecap=\"round\" style=\"stroke:white;stroke-width:4\"/><line x1=\"377.098\" y1=\"94.327\" x2=\"400.553\" y2=\"75.622\" stroke-linecap=\"round\" style=\"stroke:white;stroke-width:4\"/><line x1=\"400.553\" y1=\"75.622\" x2=\"400.553\" y2=\"45.622\" stroke-linecap=\"round\" style=\"stroke:white;stroke-width:4\"/><line x1=\"400.553\" y1=\"45.622\" x2=\"377.098\" y2=\"26.917\" stroke-linecap=\"round\" style=\"stroke:white;stroke-width:4\"/><line x1=\"377.098\" y1=\"26.917\" x2=\"347.85\" y2=\"33.593\" stroke-linecap=\"round\" style=\"stroke:white;stroke-width:4\"/><line x1=\"347.85\" y1=\"33.593\" x2=\"321.817\" y2=\"87.651\" stroke-linecap=\"round\" style=\"stroke:yellow;stroke-width:4\"/><line x1=\"321.817\" y1=\"87.651\" x2=\"292.569\" y2=\"94.327\" stroke-linecap=\"round\" style=\"stroke:white;stroke-width:4\"/><line x1=\"292.569\" y1=\"94.327\" x2=\"279.552\" y2=\"121.356\" stroke-linecap=\"round\" style=\"stroke:white;stroke-width:4\"/><line x1=\"279.552\" y1=\"121.356\" x2=\"292.569\" y2=\"148.385\" stroke-linecap=\"round\" style=\"stroke:white;stroke-width:4\"/><line x1=\"292.569\" y1=\"148.385\" x2=\"321.817\" y2=\"155.061\" stroke-linecap=\"round\" style=\"stroke:white;stroke-width:4\"/><line x1=\"321.817\" y1=\"155.061\" x2=\"345.272\" y2=\"136.356\" stroke-linecap=\"round\" style=\"stroke:white;stroke-width:4\"/><line x1=\"345.272\" y1=\"136.356\" x2=\"345.272\" y2=\"106.356\" stroke-linecap=\"round\" style=\"stroke:white;stroke-width:4\"/><line x1=\"345.272\" y1=\"106.356\" x2=\"321.817\" y2=\"87.651\" stroke-linecap=\"round\" style=\"stroke:white;stroke-width:4\"/><line x1=\"321.817\" y1=\"87.651\" x2=\"224.324\" y2=\"109.903\" stroke-linecap=\"round\" style=\"stroke:pink;stroke-width:4\"/><line x1=\"224.324\" y1=\"109.903\" x2=\"198.291\" y2=\"163.961\" stroke-linecap=\"round\" style=\"stroke:yellow;stroke-width:4\"/><line x1=\"198.291\" y1=\"163.961\" x2=\"169.043\" y2=\"170.637\" stroke-linecap=\"round\" style=\"stroke:white;stroke-width:4\"/><line x1=\"169.043\" y1=\"170.637\" x2=\"156.026\" y2=\"197.666\" stroke-linecap=\"round\" style=\"stroke:white;stroke-width:4\"/><line x1=\"156.026\" y1=\"197.666\" x2=\"169.043\" y2=\"224.695\" stroke-linecap=\"round\" style=\"stroke:white;stroke-width:4\"/><line x1=\"169.043\" y1=\"224.695\" x2=\"198.291\" y2=\"231.371\" stroke-linecap=\"round\" style=\"stroke:white;stroke-width:4\"/><line x1=\"198.291\" y1=\"231.371\" x2=\"221.746\" y2=\"212.666\" stroke-linecap=\"round\" style=\"stroke:white;stroke-width:4\"/><line x1=\"221.746\" y1=\"212.666\" x2=\"221.746\" y2=\"182.666\" stroke-linecap=\"round\" style=\"stroke:white;stroke-width:4\"/><line x1=\"221.746\" y1=\"182.666\" x2=\"198.291\" y2=\"163.961\" stroke-linecap=\"round\" style=\"stroke:white;stroke-width:4\"/><line x1=\"198.291\" y1=\"163.961\" x2=\"139.795\" y2=\"177.312\" stroke-linecap=\"round\" style=\"stroke:yellow;stroke-width:4\"/><line x1=\"139.795\" y1=\"177.312\" x2=\"116.34\" y2=\"158.607\" stroke-linecap=\"round\" style=\"stroke:white;stroke-width:4\"/><line x1=\"116.34\" y1=\"158.607\" x2=\"87.092\" y2=\"165.283\" stroke-linecap=\"round\" style=\"stroke:white;stroke-width:4\"/><line x1=\"87.092\" y1=\"165.283\" x2=\"74.075\" y2=\"192.312\" stroke-linecap=\"round\" style=\"stroke:white;stroke-width:4\"/><line x1=\"74.075\" y1=\"192.312\" x2=\"87.092\" y2=\"219.341\" stroke-linecap=\"round\" style=\"stroke:white;stroke-width:4\"/><line x1=\"87.092\" y1=\"219.341\" x2=\"116.34\" y2=\"226.017\" stroke-linecap=\"round\" style=\"stroke:white;stroke-width:4\"/><line x1=\"116.34\" y1=\"226.017\" x2=\"139.795\" y2=\"207.312\" stroke-linecap=\"round\" style=\"stroke:white;stroke-width:4\"/><line x1=\"139.795\" y1=\"207.312\" x2=\"139.795\" y2=\"177.312\" stroke-linecap=\"round\" style=\"stroke:white;stroke-width:4\"/><line x1=\"139.795\" y1=\"177.312\" x2=\"92.885\" y2=\"139.903\" stroke-linecap=\"round\" style=\"stroke:yellow;stroke-width:4\"/><line x1=\"92.885\" y1=\"139.903\" x2=\"92.885\" y2=\"109.903\" stroke-linecap=\"round\" style=\"stroke:white;stroke-width:4\"/><line x1=\"92.885\" y1=\"109.903\" x2=\"69.43\" y2=\"91.198\" stroke-linecap=\"round\" style=\"stroke:white;stroke-width:4\"/><line x1=\"69.43\" y1=\"91.198\" x2=\"40.182\" y2=\"97.874\" stroke-linecap=\"round\" style=\"stroke:white;stroke-width:4\"/><line x1=\"40.182\" y1=\"97.874\" x2=\"27.165\" y2=\"124.903\" stroke-linecap=\"round\" style=\"stroke:white;stroke-width:4\"/><line x1=\"27.165\" y1=\"124.903\" x2=\"40.182\" y2=\"151.932\" stroke-linecap=\"round\" style=\"stroke:white;stroke-width:4\"/><line x1=\"40.182\" y1=\"151.932\" x2=\"69.43\" y2=\"158.608\" stroke-linecap=\"round\" style=\"stroke:white;stroke-width:4\"/><line x1=\"69.43\" y1=\"158.608\" x2=\"92.885\" y2=\"139.903\" stroke-linecap=\"round\" style=\"stroke:white;stroke-width:4\"/><line x1=\"92.885\" y1=\"139.903\" x2=\"92.885\" y2=\"79.903\" stroke-linecap=\"round\" style=\"stroke:yellow;stroke-width:4\"/><line x1=\"92.885\" y1=\"79.903\" x2=\"116.34\" y2=\"61.198\" stroke-linecap=\"round\" style=\"stroke:white;stroke-width:4\"/><line x1=\"116.34\" y1=\"61.198\" x2=\"116.34\" y2=\"31.198\" stroke-linecap=\"round\" style=\"stroke:white;stroke-width:4\"/><line x1=\"116.34\" y1=\"31.198\" x2=\"92.885\" y2=\"12.493\" stroke-linecap=\"round\" style=\"stroke:white;stroke-width:4\"/><line x1=\"92.885\" y1=\"12.493\" x2=\"63.637\" y2=\"19.169\" stroke-linecap=\"round\" style=\"stroke:white;stroke-width:4\"/><line x1=\"63.637\" y1=\"19.169\" x2=\"50.62\" y2=\"46.198\" stroke-linecap=\"round\" style=\"stroke:white;stroke-width:4\"/><line x1=\"50.62\" y1=\"46.198\" x2=\"63.637\" y2=\"73.227\" stroke-linecap=\"round\" style=\"stroke:white;stroke-width:4\"/><line x1=\"63.637\" y1=\"73.227\" x2=\"92.885\" y2=\"79.903\" stroke-linecap=\"round\" style=\"stroke:white;stroke-width:4\"/><line x1=\"92.885\" y1=\"79.903\" x2=\"139.795\" y2=\"42.494\" stroke-linecap=\"round\" style=\"stroke:yellow;stroke-width:4\"/><line x1=\"139.795\" y1=\"42.494\" x2=\"169.043\" y2=\"49.17\" stroke-linecap=\"round\" style=\"stroke:white;stroke-width:4\"/><line x1=\"169.043\" y1=\"49.17\" x2=\"192.498\" y2=\"30.465\" stroke-linecap=\"round\" style=\"stroke:white;stroke-width:4\"/><line x1=\"192.498\" y1=\"30.465\" x2=\"192.498\" y2=\"0.465\" stroke-linecap=\"round\" style=\"stroke:white;stroke-width:4\"/><line x1=\"192.498\" y1=\"0.465\" x2=\"169.043\" y2=\"-18.24\" stroke-linecap=\"round\" style=\"stroke:white;stroke-width:4\"/><line x1=\"169.043\" y1=\"-18.24\" x2=\"139.795\" y2=\"-11.564\" stroke-linecap=\"round\" style=\"stroke:white;stroke-width:4\"/><line x1=\"139.795\" y1=\"-11.564\" x2=\"126.778\" y2=\"15.465\" stroke-linecap=\"round\" style=\"stroke:white;stroke-width:4\"/><line x1=\"126.778\" y1=\"15.465\" x2=\"139.795\" y2=\"42.494\" stroke-linecap=\"round\" style=\"stroke:white;stroke-width:4\"/><line x1=\"139.795\" y1=\"42.494\" x2=\"198.291\" y2=\"55.845\" stroke-linecap=\"round\" style=\"stroke:yellow;stroke-width:4\"/><line x1=\"198.291\" y1=\"55.845\" x2=\"211.308\" y2=\"82.874\" stroke-linecap=\"round\" style=\"stroke:white;stroke-width:4\"/><line x1=\"211.308\" y1=\"82.874\" x2=\"240.556\" y2=\"89.55\" stroke-linecap=\"round\" style=\"stroke:white;stroke-width:4\"/><line x1=\"240.556\" y1=\"89.55\" x2=\"264.011\" y2=\"70.845\" stroke-linecap=\"round\" style=\"stroke:white;stroke-width:4\"/><line x1=\"264.011\" y1=\"70.845\" x2=\"264.011\" y2=\"40.845\" stroke-linecap=\"round\" style=\"stroke:white;stroke-width:4\"/><line x1=\"264.011\" y1=\"40.845\" x2=\"240.556\" y2=\"22.14\" stroke-linecap=\"round\" style=\"stroke:white;stroke-width:4\"/><line x1=\"240.556\" y1=\"22.14\" x2=\"211.308\" y2=\"28.816\" stroke-linecap=\"round\" style=\"stroke:white;stroke-width:4\"/><line x1=\"211.308\" y1=\"28.816\" x2=\"198.291\" y2=\"55.845\" stroke-linecap=\"round\" style=\"stroke:white;stroke-width:4\"/><line x1=\"198.291\" y1=\"55.845\" x2=\"224.324\" y2=\"109.903\" stroke-linecap=\"round\" style=\"stroke:yellow;stroke-width:4\"/><line x1=\"224.324\" y1=\"109.903\" x2=\"211.307\" y2=\"136.932\" stroke-linecap=\"round\" style=\"stroke:white;stroke-width:4\"/><line x1=\"211.307\" y1=\"136.932\" x2=\"224.324\" y2=\"163.961\" stroke-linecap=\"round\" style=\"stroke:white;stroke-width:4\"/><line x1=\"224.324\" y1=\"163.961\" x2=\"253.572\" y2=\"170.637\" stroke-linecap=\"round\" style=\"stroke:white;stroke-width:4\"/><line x1=\"253.572\" y1=\"170.637\" x2=\"277.027\" y2=\"151.932\" stroke-linecap=\"round\" style=\"stroke:white;stroke-width:4\"/><line x1=\"277.027\" y1=\"151.932\" x2=\"277.027\" y2=\"121.932\" stroke-linecap=\"round\" style=\"stroke:white;stroke-width:4\"/><line x1=\"277.027\" y1=\"121.932\" x2=\"253.572\" y2=\"103.227\" stroke-linecap=\"round\" style=\"stroke:white;stroke-width:4\"/><line x1=\"253.572\" y1=\"103.227\" x2=\"224.324\" y2=\"109.903\" stroke-linecap=\"round\" style=\"stroke:white;stroke-width:4\"/><line x1=\"224.324\" y1=\"109.903\" x2=\"180.936\" y2=\"200.0\" stroke-linecap=\"round\" style=\"stroke:pink;stroke-width:4\"/><line x1=\"180.936\" y1=\"200.0\" x2=\"206.969\" y2=\"254.058\" stroke-linecap=\"round\" style=\"stroke:yellow;stroke-width:4\"/><line x1=\"206.969\" y1=\"254.058\" x2=\"193.952\" y2=\"281.087\" stroke-linecap=\"round\" style=\"stroke:white;stroke-width:4\"/><line x1=\"193.952\" y1=\"281.087\" x2=\"206.969\" y2=\"308.116\" stroke-linecap=\"round\" style=\"stroke:white;stroke-width:4\"/><line x1=\"206.969\" y1=\"308.116\" x2=\"236.217\" y2=\"314.792\" stroke-linecap=\"round\" style=\"stroke:white;stroke-width:4\"/><line x1=\"236.217\" y1=\"314.792\" x2=\"259.672\" y2=\"296.087\" stroke-linecap=\"round\" style=\"stroke:white;stroke-width:4\"/><line x1=\"259.672\" y1=\"296.087\" x2=\"259.672\" y2=\"266.087\" stroke-linecap=\"round\" style=\"stroke:white;stroke-width:4\"/><line x1=\"259.672\" y1=\"266.087\" x2=\"236.217\" y2=\"247.382\" stroke-linecap=\"round\" style=\"stroke:white;stroke-width:4\"/><line x1=\"236.217\" y1=\"247.382\" x2=\"206.969\" y2=\"254.058\" stroke-linecap=\"round\" style=\"stroke:white;stroke-width:4\"/><line x1=\"206.969\" y1=\"254.058\" x2=\"180.936\" y2=\"308.116\" stroke-linecap=\"round\" style=\"stroke:yellow;stroke-width:4\"/><line x1=\"180.936\" y1=\"308.116\" x2=\"151.688\" y2=\"314.792\" stroke-linecap=\"round\" style=\"stroke:white;stroke-width:4\"/><line x1=\"151.688\" y1=\"314.792\" x2=\"138.671\" y2=\"341.821\" stroke-linecap=\"round\" style=\"stroke:white;stroke-width:4\"/><line x1=\"138.671\" y1=\"341.821\" x2=\"151.688\" y2=\"368.85\" stroke-linecap=\"round\" style=\"stroke:white;stroke-width:4\"/><line x1=\"151.688\" y1=\"368.85\" x2=\"180.936\" y2=\"375.526\" stroke-linecap=\"round\" style=\"stroke:white;stroke-width:4\"/><line x1=\"180.936\" y1=\"375.526\" x2=\"204.391\" y2=\"356.821\" stroke-linecap=\"round\" style=\"stroke:white;stroke-width:4\"/><line x1=\"204.391\" y1=\"356.821\" x2=\"204.391\" y2=\"326.821\" stroke-linecap=\"round\" style=\"stroke:white;stroke-width:4\"/><line x1=\"204.391\" y1=\"326.821\" x2=\"180.936\" y2=\"308.116\" stroke-linecap=\"round\" style=\"stroke:white;stroke-width:4\"/><line x1=\"180.936\" y1=\"308.116\" x2=\"122.44\" y2=\"321.467\" stroke-linecap=\"round\" style=\"stroke:yellow;stroke-width:4\"/><line x1=\"122.44\" y1=\"321.467\" x2=\"98.985\" y2=\"302.762\" stroke-linecap=\"round\" style=\"stroke:white;stroke-width:4\"/><line x1=\"98.985\" y1=\"302.762\" x2=\"69.737\" y2=\"309.438\" stroke-linecap=\"round\" style=\"stroke:white;stroke-width:4\"/><line x1=\"69.737\" y1=\"309.438\" x2=\"56.72\" y2=\"336.467\" stroke-linecap=\"round\" style=\"stroke:white;stroke-width:4\"/><line x1=\"56.72\" y1=\"336.467\" x2=\"69.737\" y2=\"363.496\" stroke-linecap=\"round\" style=\"stroke:white;stroke-width:4\"/><line x1=\"69.737\" y1=\"363.496\" x2=\"98.985\" y2=\"370.172\" stroke-linecap=\"round\" style=\"stroke:white;stroke-width:4\"/><line x1=\"98.985\" y1=\"370.172\" x2=\"122.44\" y2=\"351.467\" stroke-linecap=\"round\" style=\"stroke:white;stroke-width:4\"/><line x1=\"122.44\" y1=\"351.467\" x2=\"122.44\" y2=\"321.467\" stroke-linecap=\"round\" style=\"stroke:white;stroke-width:4\"/><line x1=\"122.44\" y1=\"321.467\" x2=\"75.53\" y2=\"284.058\" stroke-linecap=\"round\" style=\"stroke:yellow;stroke-width:4\"/><line x1=\"75.53\" y1=\"284.058\" x2=\"75.53\" y2=\"254.058\" stroke-linecap=\"round\" style=\"stroke:white;stroke-width:4\"/><line x1=\"75.53\" y1=\"254.058\" x2=\"52.075\" y2=\"235.353\" stroke-linecap=\"round\" style=\"stroke:white;stroke-width:4\"/><line x1=\"52.075\" y1=\"235.353\" x2=\"22.827\" y2=\"242.029\" stroke-linecap=\"round\" style=\"stroke:white;stroke-width:4\"/><line x1=\"22.827\" y1=\"242.029\" x2=\"9.81\" y2=\"269.058\" stroke-linecap=\"round\" style=\"stroke:white;stroke-width:4\"/><line x1=\"9.81\" y1=\"269.058\" x2=\"22.827\" y2=\"296.087\" stroke-linecap=\"round\" style=\"stroke:white;stroke-width:4\"/><line x1=\"22.827\" y1=\"296.087\" x2=\"52.075\" y2=\"302.763\" stroke-linecap=\"round\" style=\"stroke:white;stroke-width:4\"/><line x1=\"52.075\" y1=\"302.763\" x2=\"75.53\" y2=\"284.058\" stroke-linecap=\"round\" style=\"stroke:white;stroke-width:4\"/><line x1=\"75.53\" y1=\"284.058\" x2=\"75.53\" y2=\"224.058\" stroke-linecap=\"round\" style=\"stroke:yellow;stroke-width:4\"/><line x1=\"75.53\" y1=\"224.058\" x2=\"98.985\" y2=\"205.353\" stroke-linecap=\"round\" style=\"stroke:white;stroke-width:4\"/><line x1=\"98.985\" y1=\"205.353\" x2=\"98.985\" y2=\"175.353\" stroke-linecap=\"round\" style=\"stroke:white;stroke-width:4\"/><line x1=\"98.985\" y1=\"175.353\" x2=\"75.53\" y2=\"156.648\" stroke-linecap=\"round\" style=\"stroke:white;stroke-width:4\"/><line x1=\"75.53\" y1=\"156.648\" x2=\"46.282\" y2=\"163.324\" stroke-linecap=\"round\" style=\"stroke:white;stroke-width:4\"/><line x1=\"46.282\" y1=\"163.324\" x2=\"33.265\" y2=\"190.353\" stroke-linecap=\"round\" style=\"stroke:white;stroke-width:4\"/><line x1=\"33.265\" y1=\"190.353\" x2=\"46.282\" y2=\"217.382\" stroke-linecap=\"round\" style=\"stroke:white;stroke-width:4\"/><line x1=\"46.282\" y1=\"217.382\" x2=\"75.53\" y2=\"224.058\" stroke-linecap=\"round\" style=\"stroke:white;stroke-width:4\"/><line x1=\"75.53\" y1=\"224.058\" x2=\"122.44\" y2=\"186.649\" stroke-linecap=\"round\" style=\"stroke:yellow;stroke-width:4\"/><line x1=\"122.44\" y1=\"186.649\" x2=\"151.688\" y2=\"193.325\" stroke-linecap=\"round\" style=\"stroke:white;stroke-width:4\"/><line x1=\"151.688\" y1=\"193.325\" x2=\"175.143\" y2=\"174.62\" stroke-linecap=\"round\" style=\"stroke:white;stroke-width:4\"/><line x1=\"175.143\" y1=\"174.62\" x2=\"175.143\" y2=\"144.62\" stroke-linecap=\"round\" style=\"stroke:white;stroke-width:4\"/><line x1=\"175.143\" y1=\"144.62\" x2=\"151.688\" y2=\"125.915\" stroke-linecap=\"round\" style=\"stroke:white;stroke-width:4\"/><line x1=\"151.688\" y1=\"125.915\" x2=\"122.44\" y2=\"132.591\" stroke-linecap=\"round\" style=\"stroke:white;stroke-width:4\"/><line x1=\"122.44\" y1=\"132.591\" x2=\"109.423\" y2=\"159.62\" stroke-linecap=\"round\" style=\"stroke:white;stroke-width:4\"/><line x1=\"109.423\" y1=\"159.62\" x2=\"122.44\" y2=\"186.649\" stroke-linecap=\"round\" style=\"stroke:white;stroke-width:4\"/><line x1=\"122.44\" y1=\"186.649\" x2=\"180.936\" y2=\"200.0\" stroke-linecap=\"round\" style=\"stroke:yellow;stroke-width:4\"/><line x1=\"180.936\" y1=\"200.0\" x2=\"193.953\" y2=\"227.029\" stroke-linecap=\"round\" style=\"stroke:white;stroke-width:4\"/><line x1=\"193.953\" y1=\"227.029\" x2=\"223.201\" y2=\"233.705\" stroke-linecap=\"round\" style=\"stroke:white;stroke-width:4\"/><line x1=\"223.201\" y1=\"233.705\" x2=\"246.656\" y2=\"215.0\" stroke-linecap=\"round\" style=\"stroke:white;stroke-width:4\"/><line x1=\"246.656\" y1=\"215.0\" x2=\"246.656\" y2=\"185.0\" stroke-linecap=\"round\" style=\"stroke:white;stroke-width:4\"/><line x1=\"246.656\" y1=\"185.0\" x2=\"223.201\" y2=\"166.295\" stroke-linecap=\"round\" style=\"stroke:white;stroke-width:4\"/><line x1=\"223.201\" y1=\"166.295\" x2=\"193.953\" y2=\"172.971\" stroke-linecap=\"round\" style=\"stroke:white;stroke-width:4\"/><line x1=\"193.953\" y1=\"172.971\" x2=\"180.936\" y2=\"200.0\" stroke-linecap=\"round\" style=\"stroke:white;stroke-width:4\"/><line x1=\"180.936\" y1=\"200.0\" x2=\"224.324\" y2=\"290.097\" stroke-linecap=\"round\" style=\"stroke:pink;stroke-width:4\"/><line x1=\"224.324\" y1=\"290.097\" x2=\"282.82\" y2=\"303.448\" stroke-linecap=\"round\" style=\"stroke:yellow;stroke-width:4\"/><line x1=\"282.82\" y1=\"303.448\" x2=\"295.837\" y2=\"330.477\" stroke-linecap=\"round\" style=\"stroke:white;stroke-width:4\"/><line x1=\"295.837\" y1=\"330.477\" x2=\"325.085\" y2=\"337.153\" stroke-linecap=\"round\" style=\"stroke:white;stroke-width:4\"/><line x1=\"325.085\" y1=\"337.153\" x2=\"348.54\" y2=\"318.448\" stroke-linecap=\"round\" style=\"stroke:white;stroke-width:4\"/><line x1=\"348.54\" y1=\"318.448\" x2=\"348.54\" y2=\"288.448\" stroke-linecap=\"round\" style=\"stroke:white;stroke-width:4\"/><line x1=\"348.54\" y1=\"288.448\" x2=\"325.085\" y2=\"269.743\" stroke-linecap=\"round\" style=\"stroke:white;stroke-width:4\"/><line x1=\"325.085\" y1=\"269.743\" x2=\"295.837\" y2=\"276.419\" stroke-linecap=\"round\" style=\"stroke:white;stroke-width:4\"/><line x1=\"295.837\" y1=\"276.419\" x2=\"282.82\" y2=\"303.448\" stroke-linecap=\"round\" style=\"stroke:white;stroke-width:4\"/><line x1=\"282.82\" y1=\"303.448\" x2=\"308.853\" y2=\"357.506\" stroke-linecap=\"round\" style=\"stroke:yellow;stroke-width:4\"/><line x1=\"308.853\" y1=\"357.506\" x2=\"295.836\" y2=\"384.535\" stroke-linecap=\"round\" style=\"stroke:white;stroke-width:4\"/><line x1=\"295.836\" y1=\"384.535\" x2=\"308.853\" y2=\"411.564\" stroke-linecap=\"round\" style=\"stroke:white;stroke-width:4\"/><line x1=\"308.853\" y1=\"411.564\" x2=\"338.101\" y2=\"418.24\" stroke-linecap=\"round\" style=\"stroke:white;stroke-width:4\"/><line x1=\"338.101\" y1=\"418.24\" x2=\"361.556\" y2=\"399.535\" stroke-linecap=\"round\" style=\"stroke:white;stroke-width:4\"/><line x1=\"361.556\" y1=\"399.535\" x2=\"361.556\" y2=\"369.535\" stroke-linecap=\"round\" style=\"stroke:white;stroke-width:4\"/><line x1=\"361.556\" y1=\"369.535\" x2=\"338.101\" y2=\"350.83\" stroke-linecap=\"round\" style=\"stroke:white;stroke-width:4\"/><line x1=\"338.101\" y1=\"350.83\" x2=\"308.853\" y2=\"357.506\" stroke-linecap=\"round\" style=\"stroke:white;stroke-width:4\"/><line x1=\"308.853\" y1=\"357.506\" x2=\"282.82\" y2=\"411.564\" stroke-linecap=\"round\" style=\"stroke:yellow;stroke-width:4\"/><line x1=\"282.82\" y1=\"411.564\" x2=\"253.572\" y2=\"418.24\" stroke-linecap=\"round\" style=\"stroke:white;stroke-width:4\"/><line x1=\"253.572\" y1=\"418.24\" x2=\"240.555\" y2=\"445.269\" stroke-linecap=\"round\" style=\"stroke:white;stroke-width:4\"/><line x1=\"240.555\" y1=\"445.269\" x2=\"253.572\" y2=\"472.298\" stroke-linecap=\"round\" style=\"stroke:white;stroke-width:4\"/><line x1=\"253.572\" y1=\"472.298\" x2=\"282.82\" y2=\"478.974\" stroke-linecap=\"round\" style=\"stroke:white;stroke-width:4\"/><line x1=\"282.82\" y1=\"478.974\" x2=\"306.275\" y2=\"460.269\" stroke-linecap=\"round\" style=\"stroke:white;stroke-width:4\"/><line x1=\"306.275\" y1=\"460.269\" x2=\"306.275\" y2=\"430.269\" stroke-linecap=\"round\" style=\"stroke:white;stroke-width:4\"/><line x1=\"306.275\" y1=\"430.269\" x2=\"282.82\" y2=\"411.564\" stroke-linecap=\"round\" style=\"stroke:white;stroke-width:4\"/><line x1=\"282.82\" y1=\"411.564\" x2=\"224.324\" y2=\"424.915\" stroke-linecap=\"round\" style=\"stroke:yellow;stroke-width:4\"/><line x1=\"224.324\" y1=\"424.915\" x2=\"200.869\" y2=\"406.21\" stroke-linecap=\"round\" style=\"stroke:white;stroke-width:4\"/><line x1=\"200.869\" y1=\"406.21\" x2=\"171.621\" y2=\"412.886\" stroke-linecap=\"round\" style=\"stroke:white;stroke-width:4\"/><line x1=\"171.621\" y1=\"412.886\" x2=\"158.604\" y2=\"439.915\" stroke-linecap=\"round\" style=\"stroke:white;stroke-width:4\"/><line x1=\"158.604\" y1=\"439.915\" x2=\"171.621\" y2=\"466.944\" stroke-linecap=\"round\" style=\"stroke:white;stroke-width:4\"/><line x1=\"171.621\" y1=\"466.944\" x2=\"200.869\" y2=\"473.62\" stroke-linecap=\"round\" style=\"stroke:white;stroke-width:4\"/><line x1=\"200.869\" y1=\"473.62\" x2=\"224.324\" y2=\"454.915\" stroke-linecap=\"round\" style=\"stroke:white;stroke-width:4\"/><line x1=\"224.324\" y1=\"454.915\" x2=\"224.324\" y2=\"424.915\" stroke-linecap=\"round\" style=\"stroke:white;stroke-width:4\"/><line x1=\"224.324\" y1=\"424.915\" x2=\"177.414\" y2=\"387.506\" stroke-linecap=\"round\" style=\"stroke:yellow;stroke-width:4\"/><line x1=\"177.414\" y1=\"387.506\" x2=\"177.414\" y2=\"357.506\" stroke-linecap=\"round\" style=\"stroke:white;stroke-width:4\"/><line x1=\"177.414\" y1=\"357.506\" x2=\"153.959\" y2=\"338.801\" stroke-linecap=\"round\" style=\"stroke:white;stroke-width:4\"/><line x1=\"153.959\" y1=\"338.801\" x2=\"124.711\" y2=\"345.477\" stroke-linecap=\"round\" style=\"stroke:white;stroke-width:4\"/><line x1=\"124.711\" y1=\"345.477\" x2=\"111.694\" y2=\"372.506\" stroke-linecap=\"round\" style=\"stroke:white;stroke-width:4\"/><line x1=\"111.694\" y1=\"372.506\" x2=\"124.711\" y2=\"399.535\" stroke-linecap=\"round\" style=\"stroke:white;stroke-width:4\"/><line x1=\"124.711\" y1=\"399.535\" x2=\"153.959\" y2=\"406.211\" stroke-linecap=\"round\" style=\"stroke:white;stroke-width:4\"/><line x1=\"153.959\" y1=\"406.211\" x2=\"177.414\" y2=\"387.506\" stroke-linecap=\"round\" style=\"stroke:white;stroke-width:4\"/><line x1=\"177.414\" y1=\"387.506\" x2=\"177.414\" y2=\"327.506\" stroke-linecap=\"round\" style=\"stroke:yellow;stroke-width:4\"/><line x1=\"177.414\" y1=\"327.506\" x2=\"200.869\" y2=\"308.801\" stroke-linecap=\"round\" style=\"stroke:white;stroke-width:4\"/><line x1=\"200.869\" y1=\"308.801\" x2=\"200.869\" y2=\"278.801\" stroke-linecap=\"round\" style=\"stroke:white;stroke-width:4\"/><line x1=\"200.869\" y1=\"278.801\" x2=\"177.414\" y2=\"260.096\" stroke-linecap=\"round\" style=\"stroke:white;stroke-width:4\"/><line x1=\"177.414\" y1=\"260.096\" x2=\"148.166\" y2=\"266.772\" stroke-linecap=\"round\" style=\"stroke:white;stroke-width:4\"/><line x1=\"148.166\" y1=\"266.772\" x2=\"135.149\" y2=\"293.801\" stroke-linecap=\"round\" style=\"stroke:white;stroke-width:4\"/><line x1=\"135.149\" y1=\"293.801\" x2=\"148.166\" y2=\"320.83\" stroke-linecap=\"round\" style=\"stroke:white;stroke-width:4\"/><line x1=\"148.166\" y1=\"320.83\" x2=\"177.414\" y2=\"327.506\" stroke-linecap=\"round\" style=\"stroke:white;stroke-width:4\"/><line x1=\"177.414\" y1=\"327.506\" x2=\"224.324\" y2=\"290.097\" stroke-linecap=\"round\" style=\"stroke:yellow;stroke-width:4\"/><line x1=\"224.324\" y1=\"290.097\" x2=\"253.572\" y2=\"296.773\" stroke-linecap=\"round\" style=\"stroke:white;stroke-width:4\"/><line x1=\"253.572\" y1=\"296.773\" x2=\"277.027\" y2=\"278.068\" stroke-linecap=\"round\" style=\"stroke:white;stroke-width:4\"/><line x1=\"277.027\" y1=\"278.068\" x2=\"277.027\" y2=\"248.068\" stroke-linecap=\"round\" style=\"stroke:white;stroke-width:4\"/><line x1=\"277.027\" y1=\"248.068\" x2=\"253.572\" y2=\"229.363\" stroke-linecap=\"round\" style=\"stroke:white;stroke-width:4\"/><line x1=\"253.572\" y1=\"229.363\" x2=\"224.324\" y2=\"236.039\" stroke-linecap=\"round\" style=\"stroke:white;stroke-width:4\"/><line x1=\"224.324\" y1=\"236.039\" x2=\"211.307\" y2=\"263.068\" stroke-linecap=\"round\" style=\"stroke:white;stroke-width:4\"/><line x1=\"211.307\" y1=\"263.068\" x2=\"224.324\" y2=\"290.097\" stroke-linecap=\"round\" style=\"stroke:white;stroke-width:4\"/><line x1=\"224.324\" y1=\"290.097\" x2=\"321.817\" y2=\"312.349\" stroke-linecap=\"round\" style=\"stroke:pink;stroke-width:4\"/><line x1=\"321.817\" y1=\"312.349\" x2=\"368.727\" y2=\"274.94\" stroke-linecap=\"round\" style=\"stroke:yellow;stroke-width:4\"/><line x1=\"368.727\" y1=\"274.94\" x2=\"397.975\" y2=\"281.616\" stroke-linecap=\"round\" style=\"stroke:white;stroke-width:4\"/><line x1=\"397.975\" y1=\"281.616\" x2=\"421.43\" y2=\"262.911\" stroke-linecap=\"round\" style=\"stroke:white;stroke-width:4\"/><line x1=\"421.43\" y1=\"262.911\" x2=\"421.43\" y2=\"232.911\" stroke-linecap=\"round\" style=\"stroke:white;stroke-width:4\"/><line x1=\"421.43\" y1=\"232.911\" x2=\"397.975\" y2=\"214.206\" stroke-linecap=\"round\" style=\"stroke:white;stroke-width:4\"/><line x1=\"397.975\" y1=\"214.206\" x2=\"368.727\" y2=\"220.882\" stroke-linecap=\"round\" style=\"stroke:white;stroke-width:4\"/><line x1=\"368.727\" y1=\"220.882\" x2=\"355.71\" y2=\"247.911\" stroke-linecap=\"round\" style=\"stroke:white;stroke-width:4\"/><line x1=\"355.71\" y1=\"247.911\" x2=\"368.727\" y2=\"274.94\" stroke-linecap=\"round\" style=\"stroke:white;stroke-width:4\"/><line x1=\"368.727\" y1=\"274.94\" x2=\"427.223\" y2=\"288.291\" stroke-linecap=\"round\" style=\"stroke:yellow;stroke-width:4\"/><line x1=\"427.223\" y1=\"288.291\" x2=\"440.24\" y2=\"315.32\" stroke-linecap=\"round\" style=\"stroke:white;stroke-width:4\"/><line x1=\"440.24\" y1=\"315.32\" x2=\"469.488\" y2=\"321.996\" stroke-linecap=\"round\" style=\"stroke:white;stroke-width:4\"/><line x1=\"469.488\" y1=\"321.996\" x2=\"492.943\" y2=\"303.291\" stroke-linecap=\"round\" style=\"stroke:white;stroke-width:4\"/><line x1=\"492.943\" y1=\"303.291\" x2=\"492.943\" y2=\"273.291\" stroke-linecap=\"round\" style=\"stroke:white;stroke-width:4\"/><line x1=\"492.943\" y1=\"273.291\" x2=\"469.488\" y2=\"254.586\" stroke-linecap=\"round\" style=\"stroke:white;stroke-width:4\"/><line x1=\"469.488\" y1=\"254.586\" x2=\"440.24\" y2=\"261.262\" stroke-linecap=\"round\" style=\"stroke:white;stroke-width:4\"/><line x1=\"440.24\" y1=\"261.262\" x2=\"427.223\" y2=\"288.291\" stroke-linecap=\"round\" style=\"stroke:white;stroke-width:4\"/><line x1=\"427.223\" y1=\"288.291\" x2=\"453.256\" y2=\"342.349\" stroke-linecap=\"round\" style=\"stroke:yellow;stroke-width:4\"/><line x1=\"453.256\" y1=\"342.349\" x2=\"440.239\" y2=\"369.378\" stroke-linecap=\"round\" style=\"stroke:white;stroke-width:4\"/><line x1=\"440.239\" y1=\"369.378\" x2=\"453.256\" y2=\"396.407\" stroke-linecap=\"round\" style=\"stroke:white;stroke-width:4\"/><line x1=\"453.256\" y1=\"396.407\" x2=\"482.504\" y2=\"403.083\" stroke-linecap=\"round\" style=\"stroke:white;stroke-width:4\"/><line x1=\"482.504\" y1=\"403.083\" x2=\"505.959\" y2=\"384.378\" stroke-linecap=\"round\" style=\"stroke:white;stroke-width:4\"/><line x1=\"505.959\" y1=\"384.378\" x2=\"505.959\" y2=\"354.378\" stroke-linecap=\"round\" style=\"stroke:white;stroke-width:4\"/><line x1=\"505.959\" y1=\"354.378\" x2=\"482.504\" y2=\"335.673\" stroke-linecap=\"round\" style=\"stroke:white;stroke-width:4\"/><line x1=\"482.504\" y1=\"335.673\" x2=\"453.256\" y2=\"342.349\" stroke-linecap=\"round\" style=\"stroke:white;stroke-width:4\"/><line x1=\"453.256\" y1=\"342.349\" x2=\"427.223\" y2=\"396.407\" stroke-linecap=\"round\" style=\"stroke:yellow;stroke-width:4\"/><line x1=\"427.223\" y1=\"396.407\" x2=\"397.975\" y2=\"403.083\" stroke-linecap=\"round\" style=\"stroke:white;stroke-width:4\"/><line x1=\"397.975\" y1=\"403.083\" x2=\"384.958\" y2=\"430.112\" stroke-linecap=\"round\" style=\"stroke:white;stroke-width:4\"/><line x1=\"384.958\" y1=\"430.112\" x2=\"397.975\" y2=\"457.141\" stroke-linecap=\"round\" style=\"stroke:white;stroke-width:4\"/><line x1=\"397.975\" y1=\"457.141\" x2=\"427.223\" y2=\"463.817\" stroke-linecap=\"round\" style=\"stroke:white;stroke-width:4\"/><line x1=\"427.223\" y1=\"463.817\" x2=\"450.678\" y2=\"445.112\" stroke-linecap=\"round\" style=\"stroke:white;stroke-width:4\"/><line x1=\"450.678\" y1=\"445.112\" x2=\"450.678\" y2=\"415.112\" stroke-linecap=\"round\" style=\"stroke:white;stroke-width:4\"/><line x1=\"450.678\" y1=\"415.112\" x2=\"427.223\" y2=\"396.407\" stroke-linecap=\"round\" style=\"stroke:white;stroke-width:4\"/><line x1=\"427.223\" y1=\"396.407\" x2=\"368.727\" y2=\"409.758\" stroke-linecap=\"round\" style=\"stroke:yellow;stroke-width:4\"/><line x1=\"368.727\" y1=\"409.758\" x2=\"345.272\" y2=\"391.053\" stroke-linecap=\"round\" style=\"stroke:white;stroke-width:4\"/><line x1=\"345.272\" y1=\"391.053\" x2=\"316.024\" y2=\"397.729\" stroke-linecap=\"round\" style=\"stroke:white;stroke-width:4\"/><line x1=\"316.024\" y1=\"397.729\" x2=\"303.007\" y2=\"424.758\" stroke-linecap=\"round\" style=\"stroke:white;stroke-width:4\"/><line x1=\"303.007\" y1=\"424.758\" x2=\"316.024\" y2=\"451.787\" stroke-linecap=\"round\" style=\"stroke:white;stroke-width:4\"/><line x1=\"316.024\" y1=\"451.787\" x2=\"345.272\" y2=\"458.463\" stroke-linecap=\"round\" style=\"stroke:white;stroke-width:4\"/><line x1=\"345.272\" y1=\"458.463\" x2=\"368.727\" y2=\"439.758\" stroke-linecap=\"round\" style=\"stroke:white;stroke-width:4\"/><line x1=\"368.727\" y1=\"439.758\" x2=\"368.727\" y2=\"409.758\" stroke-linecap=\"round\" style=\"stroke:white;stroke-width:4\"/><line x1=\"368.727\" y1=\"409.758\" x2=\"321.817\" y2=\"372.349\" stroke-linecap=\"round\" style=\"stroke:yellow;stroke-width:4\"/><line x1=\"321.817\" y1=\"372.349\" x2=\"321.817\" y2=\"342.349\" stroke-linecap=\"round\" style=\"stroke:white;stroke-width:4\"/><line x1=\"321.817\" y1=\"342.349\" x2=\"298.362\" y2=\"323.644\" stroke-linecap=\"round\" style=\"stroke:white;stroke-width:4\"/><line x1=\"298.362\" y1=\"323.644\" x2=\"269.114\" y2=\"330.32\" stroke-linecap=\"round\" style=\"stroke:white;stroke-width:4\"/><line x1=\"269.114\" y1=\"330.32\" x2=\"256.097\" y2=\"357.349\" stroke-linecap=\"round\" style=\"stroke:white;stroke-width:4\"/><line x1=\"256.097\" y1=\"357.349\" x2=\"269.114\" y2=\"384.378\" stroke-linecap=\"round\" style=\"stroke:white;stroke-width:4\"/><line x1=\"269.114\" y1=\"384.378\" x2=\"298.362\" y2=\"391.054\" stroke-linecap=\"round\" style=\"stroke:white;stroke-width:4\"/><line x1=\"298.362\" y1=\"391.054\" x2=\"321.817\" y2=\"372.349\" stroke-linecap=\"round\" style=\"stroke:white;stroke-width:4\"/><line x1=\"321.817\" y1=\"372.349\" x2=\"321.817\" y2=\"312.349\" stroke-linecap=\"round\" style=\"stroke:yellow;stroke-width:4\"/><line x1=\"321.817\" y1=\"312.349\" x2=\"345.272\" y2=\"293.644\" stroke-linecap=\"round\" style=\"stroke:white;stroke-width:4\"/><line x1=\"345.272\" y1=\"293.644\" x2=\"345.272\" y2=\"263.644\" stroke-linecap=\"round\" style=\"stroke:white;stroke-width:4\"/><line x1=\"345.272\" y1=\"263.644\" x2=\"321.817\" y2=\"244.939\" stroke-linecap=\"round\" style=\"stroke:white;stroke-width:4\"/><line x1=\"321.817\" y1=\"244.939\" x2=\"292.569\" y2=\"251.615\" stroke-linecap=\"round\" style=\"stroke:white;stroke-width:4\"/><line x1=\"292.569\" y1=\"251.615\" x2=\"279.552\" y2=\"278.644\" stroke-linecap=\"round\" style=\"stroke:white;stroke-width:4\"/><line x1=\"279.552\" y1=\"278.644\" x2=\"292.569\" y2=\"305.673\" stroke-linecap=\"round\" style=\"stroke:white;stroke-width:4\"/><line x1=\"292.569\" y1=\"305.673\" x2=\"321.817\" y2=\"312.349\" stroke-linecap=\"round\" style=\"stroke:white;stroke-width:4\"/><line x1=\"321.817\" y1=\"312.349\" x2=\"400.0\" y2=\"250.0\" stroke-linecap=\"round\" style=\"stroke:pink;stroke-width:4\"/><line x1=\"400.0\" y1=\"250.0\" x2=\"400.0\" y2=\"190.0\" stroke-linecap=\"round\" style=\"stroke:yellow;stroke-width:4\"/><line x1=\"400.0\" y1=\"190.0\" x2=\"423.455\" y2=\"171.295\" stroke-linecap=\"round\" style=\"stroke:white;stroke-width:4\"/><line x1=\"423.455\" y1=\"171.295\" x2=\"423.455\" y2=\"141.295\" stroke-linecap=\"round\" style=\"stroke:white;stroke-width:4\"/><line x1=\"423.455\" y1=\"141.295\" x2=\"400.0\" y2=\"122.59\" stroke-linecap=\"round\" style=\"stroke:white;stroke-width:4\"/><line x1=\"400.0\" y1=\"122.59\" x2=\"370.752\" y2=\"129.266\" stroke-linecap=\"round\" style=\"stroke:white;stroke-width:4\"/><line x1=\"370.752\" y1=\"129.266\" x2=\"357.735\" y2=\"156.295\" stroke-linecap=\"round\" style=\"stroke:white;stroke-width:4\"/><line x1=\"357.735\" y1=\"156.295\" x2=\"370.752\" y2=\"183.324\" stroke-linecap=\"round\" style=\"stroke:white;stroke-width:4\"/><line x1=\"370.752\" y1=\"183.324\" x2=\"400.0\" y2=\"190.0\" stroke-linecap=\"round\" style=\"stroke:white;stroke-width:4\"/><line x1=\"400.0\" y1=\"190.0\" x2=\"446.91\" y2=\"152.591\" stroke-linecap=\"round\" style=\"stroke:yellow;stroke-width:4\"/><line x1=\"446.91\" y1=\"152.591\" x2=\"476.158\" y2=\"159.267\" stroke-linecap=\"round\" style=\"stroke:white;stroke-width:4\"/><line x1=\"476.158\" y1=\"159.267\" x2=\"499.613\" y2=\"140.562\" stroke-linecap=\"round\" style=\"stroke:white;stroke-width:4\"/><line x1=\"499.613\" y1=\"140.562\" x2=\"499.613\" y2=\"110.562\" stroke-linecap=\"round\" style=\"stroke:white;stroke-width:4\"/><line x1=\"499.613\" y1=\"110.562\" x2=\"476.158\" y2=\"91.857\" stroke-linecap=\"round\" style=\"stroke:white;stroke-width:4\"/><line x1=\"476.158\" y1=\"91.857\" x2=\"446.91\" y2=\"98.533\" stroke-linecap=\"round\" style=\"stroke:white;stroke-width:4\"/><line x1=\"446.91\" y1=\"98.533\" x2=\"433.893\" y2=\"125.562\" stroke-linecap=\"round\" style=\"stroke:white;stroke-width:4\"/><line x1=\"433.893\" y1=\"125.562\" x2=\"446.91\" y2=\"152.591\" stroke-linecap=\"round\" style=\"stroke:white;stroke-width:4\"/><line x1=\"446.91\" y1=\"152.591\" x2=\"505.406\" y2=\"165.942\" stroke-linecap=\"round\" style=\"stroke:yellow;stroke-width:4\"/><line x1=\"505.406\" y1=\"165.942\" x2=\"518.423\" y2=\"192.971\" stroke-linecap=\"round\" style=\"stroke:white;stroke-width:4\"/><line x1=\"518.423\" y1=\"192.971\" x2=\"547.671\" y2=\"199.647\" stroke-linecap=\"round\" style=\"stroke:white;stroke-width:4\"/><line x1=\"547.671\" y1=\"199.647\" x2=\"571.126\" y2=\"180.942\" stroke-linecap=\"round\" style=\"stroke:white;stroke-width:4\"/><line x1=\"571.126\" y1=\"180.942\" x2=\"571.126\" y2=\"150.942\" stroke-linecap=\"round\" style=\"stroke:white;stroke-width:4\"/><line x1=\"571.126\" y1=\"150.942\" x2=\"547.671\" y2=\"132.237\" stroke-linecap=\"round\" style=\"stroke:white;stroke-width:4\"/><line x1=\"547.671\" y1=\"132.237\" x2=\"518.423\" y2=\"138.913\" stroke-linecap=\"round\" style=\"stroke:white;stroke-width:4\"/><line x1=\"518.423\" y1=\"138.913\" x2=\"505.406\" y2=\"165.942\" stroke-linecap=\"round\" style=\"stroke:white;stroke-width:4\"/><line x1=\"505.406\" y1=\"165.942\" x2=\"531.439\" y2=\"220.0\" stroke-linecap=\"round\" style=\"stroke:yellow;stroke-width:4\"/><line x1=\"531.439\" y1=\"220.0\" x2=\"518.422\" y2=\"247.029\" stroke-linecap=\"round\" style=\"stroke:white;stroke-width:4\"/><line x1=\"518.422\" y1=\"247.029\" x2=\"531.439\" y2=\"274.058\" stroke-linecap=\"round\" style=\"stroke:white;stroke-width:4\"/><line x1=\"531.439\" y1=\"274.058\" x2=\"560.687\" y2=\"280.734\" stroke-linecap=\"round\" style=\"stroke:white;stroke-width:4\"/><line x1=\"560.687\" y1=\"280.734\" x2=\"584.142\" y2=\"262.029\" stroke-linecap=\"round\" style=\"stroke:white;stroke-width:4\"/><line x1=\"584.142\" y1=\"262.029\" x2=\"584.142\" y2=\"232.029\" stroke-linecap=\"round\" style=\"stroke:white;stroke-width:4\"/><line x1=\"584.142\" y1=\"232.029\" x2=\"560.687\" y2=\"213.324\" stroke-linecap=\"round\" style=\"stroke:white;stroke-width:4\"/><line x1=\"560.687\" y1=\"213.324\" x2=\"531.439\" y2=\"220.0\" stroke-linecap=\"round\" style=\"stroke:white;stroke-width:4\"/><line x1=\"531.439\" y1=\"220.0\" x2=\"505.406\" y2=\"274.058\" stroke-linecap=\"round\" style=\"stroke:yellow;stroke-width:4\"/><line x1=\"505.406\" y1=\"274.058\" x2=\"476.158\" y2=\"280.734\" stroke-linecap=\"round\" style=\"stroke:white;stroke-width:4\"/><line x1=\"476.158\" y1=\"280.734\" x2=\"463.141\" y2=\"307.763\" stroke-linecap=\"round\" style=\"stroke:white;stroke-width:4\"/><line x1=\"463.141\" y1=\"307.763\" x2=\"476.158\" y2=\"334.792\" stroke-linecap=\"round\" style=\"stroke:white;stroke-width:4\"/><line x1=\"476.158\" y1=\"334.792\" x2=\"505.406\" y2=\"341.468\" stroke-linecap=\"round\" style=\"stroke:white;stroke-width:4\"/><line x1=\"505.406\" y1=\"341.468\" x2=\"528.861\" y2=\"322.763\" stroke-linecap=\"round\" style=\"stroke:white;stroke-width:4\"/><line x1=\"528.861\" y1=\"322.763\" x2=\"528.861\" y2=\"292.763\" stroke-linecap=\"round\" style=\"stroke:white;stroke-width:4\"/><line x1=\"528.861\" y1=\"292.763\" x2=\"505.406\" y2=\"274.058\" stroke-linecap=\"round\" style=\"stroke:white;stroke-width:4\"/><line x1=\"505.406\" y1=\"274.058\" x2=\"446.91\" y2=\"287.409\" stroke-linecap=\"round\" style=\"stroke:yellow;stroke-width:4\"/><line x1=\"446.91\" y1=\"287.409\" x2=\"423.455\" y2=\"268.704\" stroke-linecap=\"round\" style=\"stroke:white;stroke-width:4\"/><line x1=\"423.455\" y1=\"268.704\" x2=\"394.207\" y2=\"275.38\" stroke-linecap=\"round\" style=\"stroke:white;stroke-width:4\"/><line x1=\"394.207\" y1=\"275.38\" x2=\"381.19\" y2=\"302.409\" stroke-linecap=\"round\" style=\"stroke:white;stroke-width:4\"/><line x1=\"381.19\" y1=\"302.409\" x2=\"394.207\" y2=\"329.438\" stroke-linecap=\"round\" style=\"stroke:white;stroke-width:4\"/><line x1=\"394.207\" y1=\"329.438\" x2=\"423.455\" y2=\"336.114\" stroke-linecap=\"round\" style=\"stroke:white;stroke-width:4\"/><line x1=\"423.455\" y1=\"336.114\" x2=\"446.91\" y2=\"317.409\" stroke-linecap=\"round\" style=\"stroke:white;stroke-width:4\"/><line x1=\"446.91\" y1=\"317.409\" x2=\"446.91\" y2=\"287.409\" stroke-linecap=\"round\" style=\"stroke:white;stroke-width:4\"/><line x1=\"446.91\" y1=\"287.409\" x2=\"400.0\" y2=\"250.0\" stroke-linecap=\"round\" style=\"stroke:yellow;stroke-width:4\"/><line x1=\"400.0\" y1=\"250.0\" x2=\"400.0\" y2=\"220.0\" stroke-linecap=\"round\" style=\"stroke:white;stroke-width:4\"/><line x1=\"400.0\" y1=\"220.0\" x2=\"376.545\" y2=\"201.295\" stroke-linecap=\"round\" style=\"stroke:white;stroke-width:4\"/><line x1=\"376.545\" y1=\"201.295\" x2=\"347.297\" y2=\"207.971\" stroke-linecap=\"round\" style=\"stroke:white;stroke-width:4\"/><line x1=\"347.297\" y1=\"207.971\" x2=\"334.28\" y2=\"235.0\" stroke-linecap=\"round\" style=\"stroke:white;stroke-width:4\"/><line x1=\"334.28\" y1=\"235.0\" x2=\"347.297\" y2=\"262.029\" stroke-linecap=\"round\" style=\"stroke:white;stroke-width:4\"/><line x1=\"347.297\" y1=\"262.029\" x2=\"376.545\" y2=\"268.705\" stroke-linecap=\"round\" style=\"stroke:white;stroke-width:4\"/><line x1=\"376.545\" y1=\"268.705\" x2=\"400.0\" y2=\"250.0\" stroke-linecap=\"round\" style=\"stroke:white;stroke-width:4\"/>\n",
              "        <g visibility=visible transform=\"rotate(359.99999999999756,400.0,250.0) translate(382.0, 232.0)\">\n",
              "<path style=\" stroke:none;fill-rule:evenodd;fill:white;fill-opacity:1;\" d=\"M 18.214844 0.632812 C 16.109375 1.800781 15.011719 4.074219 15.074219 7.132812 L 15.085938 7.652344 L 14.785156 7.496094 C 13.476562 6.824219 11.957031 6.671875 10.40625 7.066406 C 8.46875 7.550781 6.515625 9.15625 4.394531 11.992188 C 3.0625 13.777344 2.679688 14.636719 3.042969 15.027344 L 3.15625 15.152344 L 3.519531 15.152344 C 4.238281 15.152344 4.828125 14.886719 8.1875 13.039062 C 9.386719 12.378906 10.371094 11.839844 10.378906 11.839844 C 10.386719 11.839844 10.355469 11.929688 10.304688 12.035156 C 9.832031 13.09375 9.257812 14.820312 8.96875 16.078125 C 7.914062 20.652344 8.617188 24.53125 11.070312 27.660156 C 11.351562 28.015625 11.363281 27.914062 10.972656 28.382812 C 8.925781 30.84375 7.945312 33.28125 8.238281 35.1875 C 8.289062 35.527344 8.28125 35.523438 8.917969 35.523438 C 10.941406 35.523438 13.074219 34.207031 15.136719 31.6875 C 15.359375 31.417969 15.328125 31.425781 15.5625 31.574219 C 16.292969 32.042969 18.023438 32.964844 18.175781 32.964844 C 18.335938 32.964844 19.941406 32.210938 20.828125 31.71875 C 20.996094 31.625 21.136719 31.554688 21.136719 31.558594 C 21.203125 31.664062 21.898438 32.414062 22.222656 32.730469 C 23.835938 34.300781 25.5625 35.132812 27.582031 35.300781 C 27.90625 35.328125 27.9375 35.308594 28.007812 34.984375 C 28.382812 33.242188 27.625 30.925781 25.863281 28.425781 L 25.542969 27.96875 L 25.699219 27.785156 C 28.945312 23.960938 29.132812 18.699219 26.257812 11.96875 L 26.207031 11.84375 L 27.945312 12.703125 C 31.53125 14.476562 32.316406 14.800781 33.03125 14.800781 C 33.976562 14.800781 33.78125 13.9375 32.472656 12.292969 C 28.519531 7.355469 25.394531 5.925781 21.921875 7.472656 L 21.558594 7.636719 L 21.578125 7.542969 C 21.699219 6.992188 21.761719 5.742188 21.699219 5.164062 C 21.496094 3.296875 20.664062 1.964844 19.003906 0.855469 C 18.480469 0.503906 18.457031 0.5 18.214844 0.632812\"/>\n",
              "</g>\n",
              "      </svg>\n",
              "    "
            ]
          },
          "metadata": {}
        }
      ]
    },
    {
      "cell_type": "markdown",
      "source": [
        "QUIERO DAR LAS GRACIAS A LA PROFE JESS Y AL PROFE CUAC POR QUE FINALICÉ  EL CURSO CON MUCHO APRENDIZAJE , A PESAR DE ENTRAR AL CURSO SIN TENER ALGUN CONOCIMIENTO PREVIO, APRENDÍ COSAS  NUEVAS EN ESTAS VACACIONES ,AGRADEZCO LA PACIENCIA Y EL APOYO DE AMBOS MAESTROS Y COMPAÑEROS.\n",
        "\n",
        "SEGUIRÉ PRACTICANDO E INVESTIGANDO PARA MEJORAR EN MIS FUTUROS CÓDIGOS Y PERFECCIONARLOS .\n",
        "A PESAR DE SER NUEVA EN TODO ESTO DE LA PROGRAMACIÓN PUDE COMPRENDER UN POCO DE LOS TEMAS.\n",
        "DE ANTE MANO GRACIAS POR EL APOYO Y SU DISPOCISIÓN."
      ],
      "metadata": {
        "id": "ajHIi7LHzZzl"
      }
    }
  ]
}