{
  "nbformat": 4,
  "nbformat_minor": 0,
  "metadata": {
    "colab": {
      "provenance": [],
      "authorship_tag": "ABX9TyOakVRNsit90HYuKUScBbhy",
      "include_colab_link": true
    },
    "kernelspec": {
      "name": "python3",
      "display_name": "Python 3"
    },
    "language_info": {
      "name": "python"
    }
  },
  "cells": [
    {
      "cell_type": "markdown",
      "metadata": {
        "id": "view-in-github",
        "colab_type": "text"
      },
      "source": [
        "<a href=\"https://colab.research.google.com/github/Yeniferhernandez/MI-TRABAJO-DE-CURSO-DE-PYTHON-/blob/main/interaciones_Yenifer_hdz.ipynb\" target=\"_parent\"><img src=\"https://colab.research.google.com/assets/colab-badge.svg\" alt=\"Open In Colab\"/></a>"
      ]
    },
    {
      "cell_type": "markdown",
      "source": [
        "# Actividad:\n",
        "Del notebook de Ch05-Iteraciones.\n",
        " Realizar los ejercicios:\n",
        "1.Frutas\n",
        "2.Edad\n",
        "3.Suma\n",
        "4.Arbol de navidad\n",
        "\n",
        "\n",
        "\n"
      ],
      "metadata": {
        "id": "P2UvdCBH-Ntk"
      }
    },
    {
      "cell_type": "code",
      "execution_count": null,
      "metadata": {
        "id": "6kAlhNkNyA9a",
        "colab": {
          "base_uri": "https://localhost:8080/"
        },
        "outputId": "c59be2a9-7095-4a51-881d-f30408cf3c50"
      },
      "outputs": [
        {
          "output_type": "stream",
          "name": "stdout",
          "text": [
            "fruta (contador): platano\n",
            "fruta (contador): coco\n",
            "fruta (contador): mango\n",
            "fruta (contador): sandia\n",
            "fruta (contador): pera\n",
            "fruta (contador): naranja\n"
          ]
        }
      ],
      "source": [
        "fruits = [\"platano\" ,\"coco\" ,\"mango\" , \"sandia\" , \"pera\" , \"naranja\" ]\n",
        "contador =0\n",
        "for i in fruits:\n",
        "  contador+=1\n",
        "  #print(\"fruta\",contador,\" \",1)\n",
        "  print(f\"fruta (contador):\", i)"
      ]
    },
    {
      "cell_type": "code",
      "source": [
        "adj = [\"anaranjado\" ,\"delicioso\" , \"grande\" , \"saludable\" ]\n",
        "fruits = [ \"naranja\" , \"durazno\" , \"papaya\" , \"mandarina\" ]\n",
        "for i in adj:\n",
        " for j in fruits:\n",
        "   print(i,j)"
      ],
      "metadata": {
        "colab": {
          "base_uri": "https://localhost:8080/"
        },
        "id": "t3oYBHQWQbwD",
        "outputId": "653ca624-96dc-4d1d-e183-52a046eabced"
      },
      "execution_count": null,
      "outputs": [
        {
          "output_type": "stream",
          "name": "stdout",
          "text": [
            "anaranjado naranja\n",
            "anaranjado durazno\n",
            "anaranjado papaya\n",
            "anaranjado mandarina\n",
            "delicioso naranja\n",
            "delicioso durazno\n",
            "delicioso papaya\n",
            "delicioso mandarina\n",
            "grande naranja\n",
            "grande durazno\n",
            "grande papaya\n",
            "grande mandarina\n",
            "saludable naranja\n",
            "saludable durazno\n",
            "saludable papaya\n",
            "saludable mandarina\n"
          ]
        }
      ]
    },
    {
      "cell_type": "code",
      "source": [
        "#solicita a la persona que ungrese su edad\n",
        "edad = int(input(\"ingresa tu edad\"))\n",
        "\n",
        "#comienza del 1 hasta la edad ingresada, inclusive\n",
        "for x in range(1, edad + 1):\n",
        "   print(\"cumplió\" , x, \"años\")"
      ],
      "metadata": {
        "colab": {
          "base_uri": "https://localhost:8080/"
        },
        "id": "MuaGrM7ORdNI",
        "outputId": "f88f4e07-ed5b-434e-ee62-36f73f2c86ad"
      },
      "execution_count": null,
      "outputs": [
        {
          "output_type": "stream",
          "name": "stdout",
          "text": [
            "ingresa tu edad18\n",
            "cumplió 1 años\n",
            "cumplió 2 años\n",
            "cumplió 3 años\n",
            "cumplió 4 años\n",
            "cumplió 5 años\n",
            "cumplió 6 años\n",
            "cumplió 7 años\n",
            "cumplió 8 años\n",
            "cumplió 9 años\n",
            "cumplió 10 años\n",
            "cumplió 11 años\n",
            "cumplió 12 años\n",
            "cumplió 13 años\n",
            "cumplió 14 años\n",
            "cumplió 15 años\n",
            "cumplió 16 años\n",
            "cumplió 17 años\n",
            "cumplió 18 años\n"
          ]
        }
      ]
    },
    {
      "cell_type": "code",
      "source": [
        "suma = 1\n",
        "while True:\n",
        "  numeros = int(input('ingrese un numero: '))\n",
        "  if  numeros == 1:\n",
        "    print(suma)\n",
        "    break\n",
        "  82\n",
        "  else:\n",
        "   suma = suma + numeros\n",
        "print(f'el resultado es: {suma}')"
      ],
      "metadata": {
        "colab": {
          "base_uri": "https://localhost:8080/"
        },
        "id": "EWz40xteKW81",
        "outputId": "7e6e32fb-0d5d-43d1-f4bd-1d8c1baee19a"
      },
      "execution_count": 15,
      "outputs": [
        {
          "output_type": "stream",
          "name": "stdout",
          "text": [
            "ingrese un numero: 41\n",
            "ingrese un numero: 15\n",
            "ingrese un numero: 02\n",
            "ingrese un numero: 21\n",
            "ingrese un numero: 79\n",
            "ingrese un numero: 1\n",
            "159\n",
            "el resultado es: 159\n"
          ]
        }
      ]
    },
    {
      "cell_type": "code",
      "source": [
        "i = 10\n",
        "j = 1\n",
        "while i > 0:\n",
        " print(' ' * i + '*' * j + ' ' * i)\n",
        " j+=2\n",
        " i-=1"
      ],
      "metadata": {
        "colab": {
          "base_uri": "https://localhost:8080/"
        },
        "id": "FoWyX-t9Trwm",
        "outputId": "24c80a04-217d-4dfe-a5b7-5485478c2167"
      },
      "execution_count": 16,
      "outputs": [
        {
          "output_type": "stream",
          "name": "stdout",
          "text": [
            "          *          \n",
            "         ***         \n",
            "        *****        \n",
            "       *******       \n",
            "      *********      \n",
            "     ***********     \n",
            "    *************    \n",
            "   ***************   \n",
            "  *****************  \n",
            " ******************* \n"
          ]
        }
      ]
    }
  ]
}